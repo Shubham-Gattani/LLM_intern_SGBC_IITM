{
 "cells": [
  {
   "cell_type": "markdown",
   "id": "3713fc6b-be29-4fee-be9e-aaa12ddeaf7f",
   "metadata": {
    "jp-MarkdownHeadingCollapsed": true
   },
   "source": [
    "### All important imports and var defs"
   ]
  },
  {
   "cell_type": "code",
   "execution_count": 198,
   "id": "1a5a5346-08b5-4290-a284-cfb5424ccbfb",
   "metadata": {},
   "outputs": [],
   "source": [
    "import json"
   ]
  },
  {
   "cell_type": "code",
   "execution_count": 199,
   "id": "67f6f885-ecc7-4466-b87a-9f4cced9b1d0",
   "metadata": {},
   "outputs": [
    {
     "name": "stdout",
     "output_type": "stream",
     "text": [
      "395515\n"
     ]
    }
   ],
   "source": [
    "import pickle\n",
    "with open('final_vocab.pickle', 'rb') as file:\n",
    "    loaded_data = pickle.load(file)\n",
    "    print(len(loaded_data))"
   ]
  },
  {
   "cell_type": "code",
   "execution_count": 200,
   "id": "0af8ddcd-d872-4960-8335-e04c55b47587",
   "metadata": {},
   "outputs": [
    {
     "name": "stderr",
     "output_type": "stream",
     "text": [
      "[nltk_data] Downloading package stopwords to\n",
      "[nltk_data]     /home/users/shubham/nltk_data...\n",
      "[nltk_data]   Package stopwords is already up-to-date!\n",
      "[nltk_data] Downloading package words to\n",
      "[nltk_data]     /home/users/shubham/nltk_data...\n",
      "[nltk_data]   Package words is already up-to-date!\n"
     ]
    }
   ],
   "source": [
    "import nltk\n",
    "from nltk.corpus import stopwords, words\n",
    " \n",
    "nltk.download('stopwords')\n",
    "stop_words = set(stopwords.words('english'))\n",
    "# set of common words that are often considered unimportant, such as \"the\", \"is\", \"in\", \"and\", etc.\n",
    "\n",
    "nltk.download('words')\n",
    "word_set = set(words.words())\n",
    "\n",
    "with open('mesh_vocab.pickle', 'rb') as file:\n",
    "    loaded_mesh_vocab = pickle.load(file) # contains 1409 entities related to medical subject headings\n",
    "\n",
    "with open('nif_vocab_non_nltk_words.pickle', 'rb') as file: # contains specialized vocabulary terms related to neuroscience that are not included in the standard NLTK word list.\n",
    "    loaded_nif_vocab_non_nltk_words = pickle.load(file) # length=3,90,880\n",
    "\n",
    "with open('nif_vocab_nltk_words_cleaned.pickle', 'rb') as file: # Common English words which are interesting for us, e.g. neuron, axon etc\n",
    "    loaded_nltk_words_cleaned = pickle.load(file) # length=3844"
   ]
  },
  {
   "cell_type": "code",
   "execution_count": 201,
   "id": "653edcc1-b2a2-4431-8046-812105a04d5b",
   "metadata": {},
   "outputs": [],
   "source": [
    "# len(word_set), len(stop_words) #(235892, 179)\n",
    "# len(loaded_nltk_words_cleaned) # 3844"
   ]
  },
  {
   "cell_type": "markdown",
   "id": "58893270-706f-4140-86d2-b8fa9179b369",
   "metadata": {
    "jp-MarkdownHeadingCollapsed": true
   },
   "source": [
    "### Helper functions"
   ]
  },
  {
   "cell_type": "code",
   "execution_count": 202,
   "id": "36049130-848d-414c-a776-199a629fa171",
   "metadata": {},
   "outputs": [],
   "source": [
    "def remove_punctuation(text):\n",
    "    # Define punctuation to be removed (excluding +, -, =, and parentheses)\n",
    "    custom_punctuation = string.punctuation.replace(\"+\", \"\").replace(\"-\", \"\").replace(\"=>\", \"\").replace(\"=\", \"\").replace(\"(\", \"\").replace(\")\", \"\")\n",
    "    \n",
    "    # Tokenize the text\n",
    "    tokens = text.split()    \n",
    "    # Remove stopwords and strip unwanted punctuation\n",
    "    tokens = [w.strip(custom_punctuation) for w in tokens if w not in stop_words]\n",
    "    return tokens"
   ]
  },
  {
   "cell_type": "code",
   "execution_count": 203,
   "id": "c601da8e-7825-4720-af31-5400cfeab864",
   "metadata": {},
   "outputs": [],
   "source": [
    "import pandas as pd\n",
    "def get_entity_df(text):\n",
    "    entities = find_entity(text, dictionary, 90)\n",
    "    ents_dict = entities['entities']\n",
    "    ents = [k['entity'] for k in ents_dict]\n",
    "    \n",
    "    # df = pd.DataFrame(ents_dict)[['entity','similar_with','category','score']]\n",
    "    df = pd.DataFrame(ents_dict)\n",
    "    return df"
   ]
  },
  {
   "cell_type": "code",
   "execution_count": 204,
   "id": "75f16309-1ffe-4317-8925-2fe29416b3d1",
   "metadata": {},
   "outputs": [],
   "source": [
    "def remove_unmatched_brackets(text):\n",
    "    stack = []\n",
    "    result = []\n",
    "\n",
    "    # Dictionary to match brackets\n",
    "    bracket_pairs = {')': '(', ']': '[', '}': '{'}\n",
    "    \n",
    "    for char in text:\n",
    "        if char in '({[':\n",
    "            stack.append(char)\n",
    "            result.append(char)\n",
    "        elif char in ')}]':\n",
    "            if stack and stack[-1] == bracket_pairs[char]:\n",
    "                stack.pop()\n",
    "                result.append(char)\n",
    "            # Skip unmatched closing brackets\n",
    "        else:\n",
    "            result.append(char)\n",
    "    \n",
    "    # Remove unmatched opening brackets from result\n",
    "    while stack:\n",
    "        unmatched = stack.pop()\n",
    "        result.remove(unmatched)\n",
    "    return ''.join(result)\n"
   ]
  },
  {
   "cell_type": "code",
   "execution_count": 205,
   "id": "6d29fd9e-1a06-42f7-90bb-e910edb0e328",
   "metadata": {},
   "outputs": [],
   "source": [
    "irrelevant_single_chars = [\")\",\"\",\"=\",\" \",\"(\",\"{\",\"}\",\"[\",\"]\",\"<\",\">\"]\n",
    "def clean_entities(entity_list):\n",
    "    entities = [k for k in entity_list if k.strip() not in irrelevant_single_chars]\n",
    "    cleaned_entities = [remove_unmatched_brackets(entity.strip()).encode('ascii', 'ignore').decode('ascii') for entity in entities]\n",
    "    cleaned_entities = [entity for entity in cleaned_entities if entity]\n",
    "    return cleaned_entities"
   ]
  },
  {
   "cell_type": "code",
   "execution_count": 206,
   "id": "10921044-2b09-4212-a312-60506932e048",
   "metadata": {},
   "outputs": [],
   "source": [
    "# https://github.com/hanifabd/lexifuzz-ner\n",
    "def get_entities_from_lexifuzz(text):\n",
    "    entities = find_entity(text, dictionary, 90)\n",
    "    ents_dict = entities['entities']\n",
    "    ents = [k['entity'] for k in ents_dict]\n",
    "    ents = clean_entities(ents)\n",
    "    return ents\n",
    "# text = \"applied the β2* nAChR antagonist DhβE (10 μm, IC90) during FSCV assays (E,F). Prior research has shown that DhβE decreases dorsal striatal DA release by 50% (0.1 μm; ) and NAc core DA release by 80% (1 μm; ).  to PGVG and GA-mix noncontingent paradigm as described above. examined NAc core DA release following 5 Hz and 60 Hz stimulations in the absence and presence of DhβE. effect of DhβE (F(1,35) = 107, p < 0.0001) but no significance for factors of drug/stimulation (F(3,35) = 0.82, p = 0.49) or interaction (F(3,35) = 0.85, p = 0.48) in male mice. We also detected a significant effect of DhβE (F(1,25) = 197, p < 0.0001) but not drug/stimulation (F(3,25) = 0.24, p = 0.87) or interaction (F(3,25) = 0.47, p = 0.71) in female mice.\"\n",
    "# get_entities_from_lexifuzz(text)"
   ]
  },
  {
   "cell_type": "code",
   "execution_count": 207,
   "id": "400e2b8d-a97c-4ab1-8fc4-d928c0c6e137",
   "metadata": {},
   "outputs": [],
   "source": [
    "def get_paper_ids_to_process(number=0):\n",
    "    with open(\"NER_papers_processed.txt\",'r') as f:\n",
    "        number_of_papers_processed_till_now = len(f.readlines())\n",
    "        \n",
    "    with open(\"neuro_IDs_for_neuroscience.txt\",'r') as f:\n",
    "        paper_list = f.readlines()\n",
    "        start = number_of_papers_processed_till_now\n",
    "        end = number_of_papers_processed_till_now + number\n",
    "        result = [k.strip() for k in paper_list[start:end]]\n",
    "    return result\n",
    "# get_paper_ids_to_process(5)"
   ]
  },
  {
   "cell_type": "markdown",
   "id": "dbb73aa5-1d94-4bd7-9738-8a5efa24084f",
   "metadata": {
    "jp-MarkdownHeadingCollapsed": true
   },
   "source": [
    "### lexifuzz_ner new code"
   ]
  },
  {
   "cell_type": "code",
   "execution_count": 208,
   "id": "9b25c80e-da7b-453b-b666-6387673f50e5",
   "metadata": {},
   "outputs": [],
   "source": [
    "import re, string\n",
    "from thefuzz import fuzz\n",
    "from thefuzz import process\n",
    "\n",
    "import nltk\n",
    "from nltk.util import ngrams\n",
    "from nltk.tokenize import word_tokenize\n",
    "from uuid import uuid4\n",
    "import sys, time"
   ]
  },
  {
   "cell_type": "markdown",
   "id": "501b7a66-71a5-4dc7-a6d9-99ce8e5d760c",
   "metadata": {},
   "source": [
    "#### function getFuzzySimilarity"
   ]
  },
  {
   "cell_type": "code",
   "execution_count": 209,
   "id": "af9dfd6c-f690-4501-b9ab-315d6eb3a0c7",
   "metadata": {},
   "outputs": [],
   "source": [
    "def getFuzzySimilarity(token=None, dictionary=None, min_ratio=None):\n",
    "    \"\"\"\n",
    "    This function uses the TheFuzz library to find the highest matching similary score of a token in a list of values.\n",
    "    We then compare the similary score of the fuzzy match with our minimum threshold and return a match if the match > treshold.\n",
    "\n",
    "    Source: https://medium.com/tailo-ai/fuzzy-matching-entities-in-a-custom-entity-dictionary-310158d2b60e\n",
    "    \"\"\"\n",
    "\n",
    "    # Check for appropriate formats\n",
    "    assert isinstance(token, str), \"Tokens can be str() type only\"\n",
    "    assert isinstance(dictionary, dict), \"Dictionary format should be provided in the dictionary parameter.\"\n",
    "    assert isinstance(min_ratio, int), \"Integer format should be provided in the minimum-ratio parameter.\"\n",
    "\n",
    "    for key, values in dictionary.items():\n",
    "        # Using the process option of FuzzyWuzzy, we can search through the entire dictionary for the best match\n",
    "        match = process.extractOne(token, values, scorer = fuzz.ratio)\n",
    "\n",
    "        # Match is a tuple with the match value and the similary score.\n",
    "        if min_ratio <= match[1]:\n",
    "            return (match + (key, ))"
   ]
  },
  {
   "cell_type": "markdown",
   "id": "19875a12-4915-4684-a065-bdc984b78249",
   "metadata": {},
   "source": [
    "#### function handle_slicing"
   ]
  },
  {
   "cell_type": "code",
   "execution_count": 210,
   "id": "71b7058a-93c5-4e5d-8af4-6cdd39267877",
   "metadata": {},
   "outputs": [],
   "source": [
    "def handle_slicing(data=None):\n",
    "  \"\"\"\n",
    "    This function takes a dictionary data as input and processes its 'entities' by sorting them based on their score in descending order.\n",
    "    It then identifies entities with the highest scores, ensuring there is no overlap in their index ranges.\n",
    "    The function returns the modified data dictionary with the selected high-scoring entities, effectively handling slicing and overlapping index ranges.\n",
    "  \"\"\"\n",
    "\n",
    "  assert isinstance(data, dict), \"Dictionary format should be provided in the dictionary parameter.\"\n",
    "\n",
    "  # Sort entities by their score in descending order\n",
    "  sorted_entities = sorted(data['entities'], key=lambda x: (-len(x['entity']), x['index']['start'], -x['index']['end']))\n",
    "\n",
    "  # Initialize a dictionary to keep track of which indices have been covered\n",
    "  indices_covered = set()\n",
    "\n",
    "  # Create a new list of entities with the highest score and ensure no overlap\n",
    "  new_entities = []\n",
    "  for entity in sorted_entities:\n",
    "      start = entity['index']['start']\n",
    "      end = entity['index']['end']\n",
    "\n",
    "      # Check if the entity's indices overlap with previously covered indices\n",
    "      if all(start > end_covered or end < start_covered for start_covered, end_covered in indices_covered):\n",
    "          new_entities.append(entity)\n",
    "          # Update the covered indices\n",
    "          indices_covered.add((start, end))\n",
    "\n",
    "  # Update the entities in the data dictionary\n",
    "  data['entities'] = sorted(new_entities, key=lambda x: (x['index']['start']))\n",
    "  return data"
   ]
  },
  {
   "cell_type": "markdown",
   "id": "c8b0bb85-780f-4c78-8416-7ebeeddd9e16",
   "metadata": {},
   "source": [
    "#### function get_actual_detected_entity"
   ]
  },
  {
   "cell_type": "code",
   "execution_count": 211,
   "id": "b3a2625c-dd60-4790-8f9e-8bdaf1be434e",
   "metadata": {},
   "outputs": [],
   "source": [
    "def get_actual_detected_entity(actual_ent, detected_words):\n",
    "    actual_ent_list = actual_ent.split() # with stopwords\n",
    "    detected_words_list = detected_words.split()\n",
    "    recreated_str_list = [None]*len(actual_ent_list)\n",
    "    for i, word in enumerate(actual_ent_list):\n",
    "        if word in stop_words:\n",
    "            recreated_str_list[i] = word\n",
    "    #print(f\"{recreated_str_list}, {actual_ent}, {detected_words}\")\n",
    "    cur_detected_index = 0\n",
    "    for i in range(len(recreated_str_list)):\n",
    "        if recreated_str_list[i] is None:\n",
    "            if cur_detected_index < len(detected_words_list): #actual_ent has words which are not stop words, but not present in detected_words\n",
    "                recreated_str_list[i] = detected_words_list[cur_detected_index]\n",
    "                cur_detected_index += 1\n",
    "    \n",
    "    return ' '.join([w for w in recreated_str_list if w is not None])"
   ]
  },
  {
   "cell_type": "markdown",
   "id": "84884204-d41d-4277-8cc7-f8af38c148f6",
   "metadata": {},
   "source": [
    "#### function get_actual_text_index"
   ]
  },
  {
   "cell_type": "code",
   "execution_count": 212,
   "id": "a8e744bb-0cde-4da0-932b-3a6c8310e37d",
   "metadata": {},
   "outputs": [],
   "source": [
    "def get_actual_text_index(similar_with, compared_text, current_index, text):\n",
    "    actual_ent_list = vocab_change_dict[similar_with]\n",
    "    if len(actual_ent_list) == 1:\n",
    "        actual_ent = actual_ent_list[0]\n",
    "        actual_entity_in_text = get_actual_detected_entity(actual_ent, compared_text)\n",
    "        if actual_entity_in_text is not None:\n",
    "            # Find the start and end indices correctly using current_index\n",
    "            text_index = text.find(actual_entity_in_text, current_index)\n",
    "            if text_index >= 0:\n",
    "                return (text_index, actual_entity_in_text, actual_ent)\n",
    "    else:\n",
    "        start_index = sys.maxsize\n",
    "        return_text = None\n",
    "        return_actual_ent = None\n",
    "        for actual_ent in actual_ent_list: #Find the actual entity whch starts first from current_index\n",
    "            actual_entity_in_text = get_actual_detected_entity(actual_ent, compared_text)\n",
    "            if actual_entity_in_text is None:\n",
    "                continue\n",
    "            cur_start_index = text.find(actual_entity_in_text, current_index)\n",
    "            if cur_start_index >= 0 and cur_start_index < start_index:\n",
    "                start_index = cur_start_index\n",
    "                return_text = actual_entity_in_text\n",
    "                return_actual_ent = actual_ent\n",
    "\n",
    "        if start_index != sys.maxsize:\n",
    "           return (start_index, return_text, return_actual_ent)\n",
    "    \n",
    "    return (None, None)"
   ]
  },
  {
   "cell_type": "markdown",
   "id": "c3bdc325-93e3-440f-bea7-b552b0d58bfd",
   "metadata": {},
   "source": [
    "#### function find_entity"
   ]
  },
  {
   "cell_type": "code",
   "execution_count": 213,
   "id": "de42a8af-2428-4ce8-9119-22372574d27c",
   "metadata": {},
   "outputs": [],
   "source": [
    "def find_entity(text=None, dictionary=None, min_ratio=None):\n",
    "  \"\"\"\n",
    "    This function employs a fuzzy matching algorithm to identify entities in a given text.\n",
    "    It utilizes a provided dictionary of phrases, comparing them with the text to find matches with a similarity score above a specified threshold.\n",
    "    The function then returns the detected entities along with their categories, scores, and index positions.\n",
    "    Additionally, it performs further processing by removing overlapping entities and annotating the original text with custom tags.\n",
    "  \"\"\"\n",
    "\n",
    "  assert isinstance(text, str), \"Tokens can be str() type only\"\n",
    "  assert isinstance(dictionary, dict), \"Dictionary format should be provided in the dictionary parameter.\"\n",
    "  assert isinstance(min_ratio, int), \"Integer format should be provided in the minimum-ratio parameter.\"\n",
    "\n",
    "  trans_table = str.maketrans('', '', string.punctuation)\n",
    "  verb_pos_tags = ['VB', 'VBD', 'VBG', 'VBN', 'VBP', 'VBZ'] \n",
    "    \n",
    "  result_detection = {}\n",
    "  result_detection['entities'] = []\n",
    "  tokens = remove_punctuation(text)  # CHANGED HERE FOR PUNCTUATION\n",
    "  max_ngrams = max([max(len(phrase.split()) for phrase in phrases) for phrases in dictionary.values()])\n",
    "  for n in range(1, max_ngrams+1):\n",
    "    ngrams_result = list(ngrams(tokens, n))\n",
    "    current_index = 0\n",
    "    for i, result in enumerate(ngrams_result):\n",
    "      compared_text = ' '.join(result)\n",
    "      #compared_text = compared_text.translate(trans_table) #Remove punctuation\n",
    "      if (compared_text in word_set) and (compared_text not in loaded_nltk_words_cleaned): #Remove non-interesting common english words\n",
    "          continue\n",
    "      if n == 1:\n",
    "          pos_result = nltk.pos_tag([compared_text])\n",
    "          pos_tag_type = pos_result[0][1]\n",
    "          if pos_tag_type in verb_pos_tags:\n",
    "              # print(f'Skip verb {compared_text}')\n",
    "              continue\n",
    "      similarity_score = getFuzzySimilarity(token = compared_text, dictionary = dictionary, min_ratio = min_ratio)\n",
    "      start_index = -1\n",
    "      if not similarity_score == None: \n",
    "        if len(compared_text)<=5 and similarity_score[1]<100: # TASK 1\n",
    "            continue\n",
    "        similar_with = similarity_score[0]\n",
    "        \n",
    "        \n",
    "        if similar_with in vocab_change_dict:\n",
    "            #print(similar_with)\n",
    "            actual_text_index_result = get_actual_text_index(similar_with, compared_text, current_index, text)\n",
    "            #print(actual_text_index_result)\n",
    "            if actual_text_index_result[0] is not None:\n",
    "                start_index = actual_text_index_result[0]\n",
    "                compared_text = actual_text_index_result[1]\n",
    "                similar_with = actual_text_index_result[2]\n",
    "        else:\n",
    "            start_index = text.find(compared_text, current_index)\n",
    "      \n",
    "      if start_index >= 0:\n",
    "        #   start_index = 0\n",
    "        end_index = start_index + len(compared_text) - 1\n",
    "\n",
    "        # Update current_index to start searching for the next occurrence after the current one. For ngram > 1, current_index will be back to the second index of the ngram value\n",
    "        #if n == 1:\n",
    "        #  current_index = end_index + 1\n",
    "        #else:\n",
    "        #  current_index = end_index - (len(compared_text.split(' ', 1)[1]) + 1)\n",
    "\n",
    "        #Remove ids, check if compared_text is in the dict and use the dict key val. If dict val coatins more than one entries\n",
    "        #write a uniques paragraph identification string in some file for processing later\n",
    "        result_detection['entities'].append(\n",
    "            {\n",
    "                #\"id\": str(uuid4()),\n",
    "                \"entity\": compared_text,\n",
    "                \"similar_with\": similar_with,\n",
    "                \"category\": similarity_score[-1],\n",
    "                \"score\": similarity_score[1],\n",
    "                \"index\": {\n",
    "                    \"start\": start_index,\n",
    "                    \"end\": end_index\n",
    "                }\n",
    "            }\n",
    "        )\n",
    "      current_index += len(tokens[i]) + 1 #an approximate calculation, will be behind the actual current index\n",
    "  result_detection['entities'] = sorted(result_detection['entities'], key=lambda x: x['index']['start'])\n",
    "  result_detection = handle_slicing(result_detection)\n",
    "  #result_detection['text'] = text\n",
    "  return result_detection"
   ]
  },
  {
   "cell_type": "markdown",
   "id": "3afb1b12-3b36-41c4-9548-6919ecddcc85",
   "metadata": {
    "jp-MarkdownHeadingCollapsed": true
   },
   "source": [
    "### create a new vocabulary and a dictionary"
   ]
  },
  {
   "cell_type": "markdown",
   "id": "41f9e0a1-c9ac-48b0-be9f-aba8fcbc220d",
   "metadata": {},
   "source": [
    "1. loop through each entity in the set \"loaded data\"\n",
    "2. If the entity has no stop word, add it to \"new_vocab\" set without any processing\n",
    "3. Else, remove all stopwords from the entity. Add the cleaned entity in new_vocab.\n",
    "4. If the new entity's len<=3 OR it is in the list of common words but not in list of important words, then ignore it\n",
    "5. Else, add it as part of a dictionary named \"vocab_change_dict\" whose keys are cleaned entities (without any stopword), and value is a LIST of corresponding original entity.\n",
    "\n",
    "For final NER using lexifuzz, we will use the vocab_list as the set new_vocab. If the identified entity is a key of dictionatry having len(value)>1, we will store the paragraph's info seperately so that it can be processed later."
   ]
  },
  {
   "cell_type": "code",
   "execution_count": 214,
   "id": "21675e23-4fc2-4152-b0f6-36d8194d4f3a",
   "metadata": {},
   "outputs": [],
   "source": [
    "# import nltk\n",
    "# from nltk.corpus import stopwords\n",
    "# nltk.download('stopwords')\n",
    "stop_words = set(stopwords.words('english'))\n",
    "\n",
    "# loaded_DUMMY_data = [\"nerves of brain\", \"nerves in brain\",\"nerves of spinal cord\", \"is_a\", \"created\", \n",
    "#                \"fibers\", \"is a\", \"the cat\"] \n",
    "\n",
    "new_vocab = set()\n",
    "vocab_change_dict = dict()\n",
    "for ent in loaded_data:\n",
    "    word_list = ent.split()\n",
    "    stops = [w for w in word_list if w in stop_words]\n",
    "    if len(stops) > 0: # if an entity in loaded data indeed has a stop word\n",
    "        word_list_no_stop = [w for w in word_list if w not in stop_words]\n",
    "        new_ent = ' '.join(word_list_no_stop)\n",
    "        #print(ent, \"->\", new_ent)\n",
    "        #break\n",
    "        if len(new_ent) <= 3 or ((new_ent in word_set) and (new_ent not in loaded_nltk_words_cleaned)) :\n",
    "            #print(f\"Skipping entity {ent} as new entity is small or common words\")\n",
    "            continue\n",
    "        if new_ent in vocab_change_dict:\n",
    "            existing_vals = vocab_change_dict[new_ent]\n",
    "            existing_vals.append(ent)\n",
    "            vocab_change_dict[new_ent] = existing_vals\n",
    "        else:\n",
    "            vocab_change_dict[new_ent] = [ent]\n",
    "            new_vocab.add(new_ent)\n",
    "        \n",
    "    else: # meaning there are no stopwords in the entity, then it is added directly in the new_vocab\n",
    "        new_vocab.add(ent)\n",
    "\n",
    "  #if len(stop_list) > 0:\n",
    "    #    print(ent)\n",
    "# With REFERENCE TO DUMMY DATA: \n",
    "# new_vocab={'created', 'fibers', 'is_a', 'nerves brain', 'nerves spinal cord'}\n",
    "# vocab_change_dict = {'nerves brain': ['nerves of brain', 'nerves in brain'],\n",
    "#                     'nerves spinal cord': ['nerves of spinal cord']}"
   ]
  },
  {
   "cell_type": "code",
   "execution_count": 215,
   "id": "c1212b68-0743-4f70-9f58-3ea75735ac5b",
   "metadata": {},
   "outputs": [],
   "source": [
    "ambiguous_entities = [k for k,v in vocab_change_dict.items() if len(v)>1]\n",
    "non_ambiguous_entities = [k for k,v in vocab_change_dict.items() if len(v)==1]"
   ]
  },
  {
   "cell_type": "code",
   "execution_count": 216,
   "id": "42ec70f0-f4ac-4435-a327-f41de0142992",
   "metadata": {},
   "outputs": [],
   "source": [
    "# ambiguous_entities[:5]\n",
    "# ['regulation histone h3-k79 dimethylation',\n",
    "#  'malignant neoplasm cervical esophagus',\n",
    "#  'neuropeptide receptor',\n",
    "#  'negative regulation lymphocyte mediated immunity',\n",
    "#  'hemarthrosis shoulder region']\n",
    "# [v for v in new_vocab if '(+)-kotanin anabolism' in v] #'negative regulation (+)-kotanin anabolism' is there\n",
    "# len([v for v in new_vocab if len(v.split())>25][0].split())\n",
    "\n",
    "\n",
    "# p=6\n",
    "# q=25\n",
    "# to_be_discarded = [v for v in new_vocab if p<=len(v.split())<30]\n",
    "# for k in to_be_discarded:\n",
    "#     try:\n",
    "#         vocab_change_dict.pop(k)\n",
    "#     except:\n",
    "#         pass\n",
    "#     new_vocab.discard(k)"
   ]
  },
  {
   "cell_type": "code",
   "execution_count": 217,
   "id": "6fa72816-5e26-499d-b748-c9f66b2d433c",
   "metadata": {
    "scrolled": true
   },
   "outputs": [],
   "source": [
    "# REMOVE BIG ENTITY\n",
    "to_be_discarded = [v for v in new_vocab if 28<=len(v.split())]\n",
    "for k in to_be_discarded:\n",
    "    try:\n",
    "        vocab_change_dict.pop(k)\n",
    "    except:\n",
    "        pass\n",
    "    new_vocab.discard(k)"
   ]
  },
  {
   "cell_type": "code",
   "execution_count": 218,
   "id": "61452317-addf-4177-b4d4-a53e082e3984",
   "metadata": {},
   "outputs": [],
   "source": [
    "neuro_vocab_list = list(new_vocab)\n",
    "\n",
    "dictionary = {\n",
    "    'neuro_entities' : neuro_vocab_list\n",
    "}"
   ]
  },
  {
   "cell_type": "markdown",
   "id": "9d058eab-9f2b-4b9e-8ca9-d7364209fbaa",
   "metadata": {},
   "source": [
    "### JSON generators here"
   ]
  },
  {
   "cell_type": "markdown",
   "id": "840ee6dc-3f41-4b54-8d8a-4b27f25776c5",
   "metadata": {
    "jp-MarkdownHeadingCollapsed": true
   },
   "source": [
    "#### process_txt_files & process_subfolder"
   ]
  },
  {
   "cell_type": "code",
   "execution_count": 219,
   "id": "b6a88a4d-77dc-41d0-be62-11d7a07d1bf1",
   "metadata": {},
   "outputs": [],
   "source": [
    "def process_txt_files(folder_path, lock): \n",
    "    entity_list = {}\n",
    "    for file_name in os.listdir(folder_path):\n",
    "        if file_name.endswith('.txt'):\n",
    "            file_path = os.path.join(folder_path, file_name)\n",
    "            print(f\"Processing the txt file {file_path}\\n\")\n",
    "            with open(file_path, 'r', encoding='utf-8') as file:\n",
    "                try:\n",
    "                    content = file.read()\n",
    "                    entities = get_entities_from_lexifuzz(content) \n",
    "                    entity_list[file_name.replace('.txt', '')] = entities\n",
    "                except Exception as e:\n",
    "                    print(f\"SOME ERROR = {e} for {file_path}\")\n",
    "                    with lock:\n",
    "                        error_list.append((file_path, str(e)))\n",
    "                    return []\n",
    "    return entity_list\n",
    "\n",
    "def process_subfolder(subfolder_path, lock): \n",
    "    subfolder_dict = {}\n",
    "    for subfolder_name in os.listdir(subfolder_path): \n",
    "        subfolder_dir = os.path.join(subfolder_path, subfolder_name)\n",
    "        if os.path.isdir(subfolder_dir):\n",
    "            subfolder_dict[subfolder_name] = process_txt_files(subfolder_dir, lock)\n",
    "    return subfolder_dict"
   ]
  },
  {
   "cell_type": "markdown",
   "id": "4642338e-e481-4e42-918b-fc02d0a8774c",
   "metadata": {
    "jp-MarkdownHeadingCollapsed": true
   },
   "source": [
    "#### generate_dictionaries_via_root"
   ]
  },
  {
   "cell_type": "code",
   "execution_count": 220,
   "id": "6993c979-7b7a-4dcb-be20-6fff4e0ecf47",
   "metadata": {},
   "outputs": [],
   "source": [
    "# def generate_dictionaries_via_root(root_folder): #root_folder=ROOT\n",
    "#     for folder_name in os.listdir(root_folder):\n",
    "#         try:\n",
    "#             start = time.time()\n",
    "#             folder_path = os.path.join(root_folder, folder_name)\n",
    "#             if os.path.isdir(folder_path):\n",
    "#                 subfolder_dict = {}\n",
    "#                 abstract_folder = os.path.join(folder_path, 'Abstract')\n",
    "#                 body_folder = os.path.join(folder_path, 'Body')\n",
    "    \n",
    "#                 if os.path.isdir(abstract_folder):\n",
    "#                     subfolder_dict['Abstract'] = process_txt_files(abstract_folder)\n",
    "    \n",
    "#                 if os.path.isdir(body_folder):\n",
    "#                     subfolder_dict['Body'] = process_subfolder(body_folder)\n",
    "    \n",
    "#                 # Save dict as JSON\n",
    "#                 output_file = os.path.join(folder_path, f\"{folder_name}.json\")\n",
    "#                 with open(output_file, 'w', encoding='utf-8') as json_file:\n",
    "#                     json.dump(subfolder_dict, json_file, indent=4)\n",
    "#             end = time.time()\n",
    "#             duration = round(end-start,2)\n",
    "#             print(f\"It took {duration} seconds for the folder {folder_name} \")\n",
    "#         except Exception as e:\n",
    "#             erronous_paragraphs[folder_name]=e\n",
    "\n",
    "#     print(\"ERROR DICTIONARY IS:\\n\",erronous_paragraphs)\n",
    "#     with open('error_id_for_NER.txt','w') as f: # Write all error_ids in a seperate txt file for later analysis\n",
    "#         for key in erronous_paragraphs.keys():\n",
    "#             f.write(key+'\\n')"
   ]
  },
  {
   "cell_type": "markdown",
   "id": "02794c21-faef-4c0c-8983-46378305a0ee",
   "metadata": {
    "jp-MarkdownHeadingCollapsed": true
   },
   "source": [
    "#### generate_dictionaries_via_papers"
   ]
  },
  {
   "cell_type": "code",
   "execution_count": 221,
   "id": "62dd5171-a34f-411d-954b-9841c8601513",
   "metadata": {},
   "outputs": [],
   "source": [
    "def generate_dictionaries_via_papers(folder_path, lock):\n",
    "    folder_name = os.path.basename(folder_path)  \n",
    "    try:\n",
    "        start = time.time()\n",
    "        print(f\"Starting process for {folder_path} at time={start}\\n\")\n",
    "        if os.path.isdir(folder_path):\n",
    "            subfolder_dict = {}\n",
    "            abstract_folder = os.path.join(folder_path, 'Abstract')\n",
    "            body_folder = os.path.join(folder_path, 'Body')\n",
    "\n",
    "            if os.path.isdir(abstract_folder):\n",
    "                subfolder_dict['Abstract'] = process_txt_files(abstract_folder, lock)\n",
    "\n",
    "            if os.path.isdir(body_folder):\n",
    "                subfolder_dict['Body'] = process_subfolder(body_folder, lock)\n",
    "\n",
    "            # Save dict as JSON\n",
    "            output_file = os.path.join(folder_path, f\"{folder_name}.json\")\n",
    "            with open(output_file, 'w', encoding='utf-8') as json_file:\n",
    "                json.dump(subfolder_dict, json_file, indent=4)\n",
    "        error = None\n",
    "    except Exception as e:\n",
    "        print(f\"SOME ERROR = {e} for {folder_name}\")\n",
    "        error = (folder_name, str(e))\n",
    "        with lock:\n",
    "            error_list.append((folder_path, str(e)))\n",
    "    finally:\n",
    "        end = time.time()\n",
    "        duration = round(end - start, 2)\n",
    "        print(f\"It took {duration} seconds for the folder {folder_name}\")\n",
    "        with lock:\n",
    "            with open(\"logger_multiprocessor_5.txt\",\"a\") as file:\n",
    "                file.write(f\"{folder_name}:{duration}\\n\")\n",
    "        return error"
   ]
  },
  {
   "cell_type": "markdown",
   "id": "fc588ad4-079c-4a02-b87f-4881b701b582",
   "metadata": {
    "jp-MarkdownHeadingCollapsed": true,
    "scrolled": true
   },
   "source": [
    "### Data for processing"
   ]
  },
  {
   "cell_type": "code",
   "execution_count": 222,
   "id": "faf0e7dd-240e-4d03-bce1-5174861f922d",
   "metadata": {},
   "outputs": [],
   "source": [
    "# import os\n",
    "# folder_path_list = os.listdir(\"../dummy_JSON_root\")\n",
    "# folder_path_list = [path for path in folder_path_list if path!='.ipynb_checkpoints']\n",
    "# folder_path_list = [f'../dummy_JSON_root/{path}' for path in folder_path_list]\n",
    "# folder_path_list"
   ]
  },
  {
   "cell_type": "code",
   "execution_count": 223,
   "id": "2fcfe8bd-03bd-46a4-af5f-efe84d4d1006",
   "metadata": {},
   "outputs": [],
   "source": [
    "# with open('neuro_IDs_for_neuroscience.txt', 'r') as f:\n",
    "#     ids = f.readlines()\n",
    "#     ids = [k.strip() for k in ids]\n",
    "#     ids_to_be_processed = ids[20:120]\n",
    "# ids_to_be_processed = get_paper_ids_to_process(400)"
   ]
  },
  {
   "cell_type": "code",
   "execution_count": 224,
   "id": "5591d489-453e-4330-a399-2e160465fb93",
   "metadata": {},
   "outputs": [
    {
     "data": {
      "text/plain": [
       "2620"
      ]
     },
     "execution_count": 224,
     "metadata": {},
     "output_type": "execute_result"
    }
   ],
   "source": [
    "# # GETTING RELEVANT PAPER IDs and PATHS FOR PROCESSING\n",
    "# ids_to_be_processed = get_paper_ids_to_process(1000)\n",
    "# folder_path_list = [f'../OUTPUT_FOLDER/{ID}' for ID in ids_to_be_processed]\n",
    "# ids_to_be_processed[:5]\n",
    "set1, set2 = set(),set()\n",
    "with open(\"neuro_IDs_for_neuroscience.txt\") as f:\n",
    "    list1 = [k.strip() for k in f.readlines()]\n",
    "    set1 = set(list1)\n",
    "# len(list1) #3548\n",
    "\n",
    "with open(\"NER_papers_processed.txt\") as f:\n",
    "    list2 = [k.strip() for k in f.readlines()]\n",
    "    set2 = set(list2)\n",
    "len(list2) #3548"
   ]
  },
  {
   "cell_type": "code",
   "execution_count": 225,
   "id": "54256f98-f3eb-439d-a4e0-406af1aaa146",
   "metadata": {},
   "outputs": [
    {
     "data": {
      "text/plain": [
       "['2492885', '2726679', '6674504', '1569502', '8337299']"
      ]
     },
     "execution_count": 225,
     "metadata": {},
     "output_type": "execute_result"
    }
   ],
   "source": [
    "ids_to_be_processed = list(set1.difference(set2))\n",
    "len(ids_to_be_processed) #928\n",
    "folder_path_list = [f'../OUTPUT_FOLDER/{ID}' for ID in ids_to_be_processed]\n",
    "ids_to_be_processed[:5]"
   ]
  },
  {
   "cell_type": "code",
   "execution_count": 226,
   "id": "ae7baa32-605d-4f97-9fa0-58c13ac56a0a",
   "metadata": {
    "scrolled": true
   },
   "outputs": [
    {
     "data": {
      "text/plain": [
       "(928,\n",
       " ['../OUTPUT_FOLDER/2492885',\n",
       "  '../OUTPUT_FOLDER/2726679',\n",
       "  '../OUTPUT_FOLDER/6674504',\n",
       "  '../OUTPUT_FOLDER/1569502',\n",
       "  '../OUTPUT_FOLDER/8337299',\n",
       "  '../OUTPUT_FOLDER/1331416',\n",
       "  '../OUTPUT_FOLDER/2074932',\n",
       "  '../OUTPUT_FOLDER/509312',\n",
       "  '../OUTPUT_FOLDER/1397826',\n",
       "  '../OUTPUT_FOLDER/2235197'])"
      ]
     },
     "execution_count": 226,
     "metadata": {},
     "output_type": "execute_result"
    }
   ],
   "source": [
    "len(folder_path_list), folder_path_list[:10]"
   ]
  },
  {
   "cell_type": "code",
   "execution_count": 227,
   "id": "e68449fa-596c-4c10-b31d-07eed60c3b55",
   "metadata": {
    "scrolled": true
   },
   "outputs": [],
   "source": [
    "# folder_path_list = [f'../OUTPUT_FOLDER/{ID}' for ID in ids_to_be_processed]\n",
    "# folder_path_list[:3]"
   ]
  },
  {
   "cell_type": "markdown",
   "id": "dcc5bf4e-2458-4033-8a51-7c87821da5ec",
   "metadata": {
    "jp-MarkdownHeadingCollapsed": true
   },
   "source": [
    "### Multiprocessing"
   ]
  },
  {
   "cell_type": "code",
   "execution_count": 228,
   "id": "2c5e56df-b7df-4c18-9351-2c9797c8d62e",
   "metadata": {},
   "outputs": [],
   "source": [
    "import multiprocessing\n",
    "from concurrent.futures import ProcessPoolExecutor, as_completed\n",
    "import os, time"
   ]
  },
  {
   "cell_type": "code",
   "execution_count": 229,
   "id": "248967b6-9093-4605-8a26-15a5d5dbf752",
   "metadata": {},
   "outputs": [],
   "source": [
    "def worker_wrapper(folder_path, lock):\n",
    "    return generate_dictionaries_via_papers(folder_path, lock)\n",
    "\n",
    "def multi_thread_call(max_workers = 50, folder_path_list=None):\n",
    "    with multiprocessing.Manager() as manager:\n",
    "        lock = manager.Lock()\n",
    "        with ProcessPoolExecutor(max_workers=max_workers) as executor:\n",
    "            futures = [executor.submit(worker_wrapper, path, lock) for path in folder_path_list]\n",
    "            for future in as_completed(futures):\n",
    "                future.result()\n",
    "        return list(error_list)"
   ]
  },
  {
   "cell_type": "markdown",
   "id": "b1f8d510-c7d3-4040-b43a-0db1f3ce52ff",
   "metadata": {},
   "source": [
    "### MAIN FUNCTION"
   ]
  },
  {
   "cell_type": "code",
   "execution_count": null,
   "id": "b20a7502-0d46-4592-83ca-c2b6a6991e17",
   "metadata": {
    "collapsed": true,
    "jupyter": {
     "outputs_hidden": true
    }
   },
   "outputs": [
    {
     "name": "stdout",
     "output_type": "stream",
     "text": [
      "Starting process for ../OUTPUT_FOLDER/2492885 at time=1725203688.8384247\n",
      "\n",
      "Processing the txt file ../OUTPUT_FOLDER/2492885/Abstract/paragraph_1.txt\n",
      "\n",
      "Starting process for ../OUTPUT_FOLDER/1331416 at time=1725203688.8598187\n",
      "Starting process for ../OUTPUT_FOLDER/2074932 at time=1725203688.8574495\n",
      "Starting process for ../OUTPUT_FOLDER/5901350 at time=1725203688.8623145\n",
      "Starting process for ../OUTPUT_FOLDER/6674504 at time=1725203688.8485782\n",
      "Starting process for ../OUTPUT_FOLDER/1397826 at time=1725203688.858706\n",
      "Starting process for ../OUTPUT_FOLDER/1015135 at time=1725203688.867616\n",
      "Starting process for ../OUTPUT_FOLDER/2834928 at time=1725203688.8612075\n",
      "Starting process for ../OUTPUT_FOLDER/1569502 at time=1725203688.855699\n",
      "Starting process for ../OUTPUT_FOLDER/2726679 at time=1725203688.8462825\n",
      "Starting process for ../OUTPUT_FOLDER/8337299 at time=1725203688.8597512\n",
      "Starting process for ../OUTPUT_FOLDER/509312 at time=1725203688.859151\n",
      "Starting process for ../OUTPUT_FOLDER/1018176 at time=1725203688.8630583\n",
      "Starting process for ../OUTPUT_FOLDER/2235197 at time=1725203688.860784\n",
      "Starting process for ../OUTPUT_FOLDER/1699079 at time=1725203688.8598835\n",
      "Starting process for ../OUTPUT_FOLDER/116323 at time=1725203688.8930337\n",
      "Starting process for ../OUTPUT_FOLDER/5901218 at time=1725203688.89603\n",
      "Starting process for ../OUTPUT_FOLDER/6672993 at time=1725203688.8968527\n",
      "Starting process for ../OUTPUT_FOLDER/33796 at time=1725203688.892905\n",
      "Starting process for ../OUTPUT_FOLDER/2744723 at time=1725203688.9023232\n",
      "Starting process for ../OUTPUT_FOLDER/1599583 at time=1725203688.89303\n",
      "Starting process for ../OUTPUT_FOLDER/1331415 at time=1725203688.902654\n",
      "Starting process for ../OUTPUT_FOLDER/3844757 at time=1725203688.8973045\n",
      "Starting process for ../OUTPUT_FOLDER/2897592 at time=1725203688.9395893\n",
      "Starting process for ../OUTPUT_FOLDER/3728921 at time=1725203688.9229834\n",
      "Starting process for ../OUTPUT_FOLDER/1368929 at time=1725203688.9026113\n",
      "Starting process for ../OUTPUT_FOLDER/1244029 at time=1725203688.928452\n",
      "Starting process for ../OUTPUT_FOLDER/6673915 at time=1725203688.924291\n",
      "Starting process for ../OUTPUT_FOLDER/1357116 at time=1725203688.9249885\n",
      "Starting process for ../OUTPUT_FOLDER/2914629 at time=1725203688.9538455\n",
      "Starting process for ../OUTPUT_FOLDER/1693421 at time=1725203688.9283895\n",
      "Starting process for ../OUTPUT_FOLDER/2246623 at time=1725203688.9395134\n",
      "Starting process for ../OUTPUT_FOLDER/2712879 at time=1725203688.9461598\n",
      "Starting process for ../OUTPUT_FOLDER/1294894 at time=1725203688.9537435\n",
      "Starting process for ../OUTPUT_FOLDER/300687 at time=1725203688.9461694\n",
      "Starting process for ../OUTPUT_FOLDER/2238690 at time=1725203688.958701\n",
      "Starting process for ../OUTPUT_FOLDER/1357196 at time=1725203688.9582043\n",
      "Starting process for ../OUTPUT_FOLDER/2904830 at time=1725203688.9517043\n",
      "Starting process for ../OUTPUT_FOLDER/2957875 at time=1725203688.95992\n",
      "Starting process for ../OUTPUT_FOLDER/2857400 at time=1725203688.959154\n",
      "Starting process for ../OUTPUT_FOLDER/2527871 at time=1725203688.9590805\n",
      "Starting process for ../OUTPUT_FOLDER/495797 at time=1725203688.9603074\n",
      "Starting process for ../OUTPUT_FOLDER/5570446 at time=1725203688.9576945\n",
      "Starting process for ../OUTPUT_FOLDER/8096028 at time=1725203688.9623933\n",
      "Starting process for ../OUTPUT_FOLDER/1586100 at time=1725203689.01713\n",
      "Starting process for ../OUTPUT_FOLDER/2685001 at time=1725203689.022391\n",
      "Starting process for ../OUTPUT_FOLDER/1924802 at time=1725203689.0223708\n",
      "Starting process for ../OUTPUT_FOLDER/2716031 at time=1725203689.025367\n",
      "\n",
      "\n",
      "\n",
      "\n",
      "\n",
      "\n",
      "Starting process for ../OUTPUT_FOLDER/1936236 at time=1725203689.004543\n",
      "\n",
      "\n",
      "Starting process for ../OUTPUT_FOLDER/2802537 at time=1725203689.0145814\n",
      "\n",
      "\n",
      "\n",
      "\n",
      "Starting process for ../OUTPUT_FOLDER/1368827 at time=1725203689.0170598\n",
      "Starting process for ../OUTPUT_FOLDER/1948098 at time=1725203689.0145643\n",
      "\n",
      "\n",
      "Starting process for ../OUTPUT_FOLDER/1913872 at time=1725203689.0254042\n",
      "\n",
      "\n",
      "\n",
      "\n",
      "Starting process for ../OUTPUT_FOLDER/300218 at time=1725203689.0037808\n",
      "\n",
      "\n",
      "\n",
      "\n",
      "\n",
      "\n",
      "\n",
      "\n",
      "\n",
      "\n",
      "\n",
      "\n",
      "\n",
      "\n",
      "\n",
      "\n",
      "\n",
      "Starting process for ../OUTPUT_FOLDER/2464569 at time=1725203689.0444627\n",
      "\n",
      "\n",
      "\n",
      "\n",
      "\n",
      "\n",
      "It took 0.17 seconds for the folder 6673915\n",
      "\n",
      "\n",
      "\n",
      "Processing the txt file ../OUTPUT_FOLDER/2897592/Abstract/paragraph_1.txt\n",
      "Processing the txt file ../OUTPUT_FOLDER/2685001/Abstract/paragraph_1.txt\n",
      "\n",
      "\n",
      "Processing the txt file ../OUTPUT_FOLDER/1397826/Abstract/paragraph_2.txt\n",
      "\n",
      "\n",
      "Processing the txt file ../OUTPUT_FOLDER/33796/Abstract/paragraph_1.txt\n",
      "\n",
      "Processing the txt file ../OUTPUT_FOLDER/116323/Abstract/paragraph_1.txt\n",
      "Processing the txt file ../OUTPUT_FOLDER/1569502/Abstract/paragraph_1.txt\n",
      "Processing the txt file ../OUTPUT_FOLDER/2957875/Abstract/paragraph_1.txt\n",
      "Processing the txt file ../OUTPUT_FOLDER/2857400/Abstract/paragraph_1.txt\n",
      "\n",
      "Processing the txt file ../OUTPUT_FOLDER/509312/Abstract/paragraph_1.txt\n",
      "\n",
      "Processing the txt file ../OUTPUT_FOLDER/1693421/Abstract/paragraph_1.txt\n",
      "Processing the txt file ../OUTPUT_FOLDER/5570446/Abstract/paragraph_1.txt\n",
      "Processing the txt file ../OUTPUT_FOLDER/5901350/Abstract/paragraph_1.txt\n",
      "It took 0.28 seconds for the folder 6674504Processing the txt file ../OUTPUT_FOLDER/2904830/Abstract/paragraph_1.txt\n",
      "It took 0.23 seconds for the folder 3844757Processing the txt file ../OUTPUT_FOLDER/2744723/Abstract/paragraph_2.txt\n",
      "Processing the txt file ../OUTPUT_FOLDER/1331415/Abstract/paragraph_2.txt\n",
      "It took 0.28 seconds for the folder 2235197\n",
      "Processing the txt file ../OUTPUT_FOLDER/1586100/Abstract/paragraph_1.txt\n",
      "Starting process for ../OUTPUT_FOLDER/2892104 at time=1725203689.1437864\n",
      "Starting process for ../OUTPUT_FOLDER/2709177 at time=1725203689.1435812\n",
      "Starting process for ../OUTPUT_FOLDER/134589 at time=1725203689.0373445\n",
      "Starting process for ../OUTPUT_FOLDER/1852489 at time=1725203689.1210558\n",
      "Starting process for ../OUTPUT_FOLDER/1368833 at time=1725203689.1042535\n",
      "\n",
      "Starting process for ../OUTPUT_FOLDER/2581819 at time=1725203689.0878863\n",
      "Starting process for ../OUTPUT_FOLDER/1838571 at time=1725203689.120467\n",
      "Starting process for ../OUTPUT_FOLDER/1357086 at time=1725203689.1067119\n",
      "Starting process for ../OUTPUT_FOLDER/3327293 at time=1725203689.1209633\n",
      "Starting process for ../OUTPUT_FOLDER/2765693 at time=1725203689.124702\n",
      "Starting process for ../OUTPUT_FOLDER/1368844 at time=1725203689.0768633\n",
      "\n",
      "\n",
      "\n",
      "Starting process for ../OUTPUT_FOLDER/1368875 at time=1725203689.153256\n",
      "Starting process for ../OUTPUT_FOLDER/5471539 at time=1725203689.0772955\n",
      "Starting process for ../OUTPUT_FOLDER/1357160 at time=1725203689.0948396\n",
      "Starting process for ../OUTPUT_FOLDER/6673789 at time=1725203689.1327915\n",
      "Starting process for ../OUTPUT_FOLDER/6673354 at time=1725203689.1437147\n",
      "\n",
      "Starting process for ../OUTPUT_FOLDER/1804882 at time=1725203689.0715177\n",
      "Starting process for ../OUTPUT_FOLDER/2607326 at time=1725203689.0776303\n",
      "Processing the txt file ../OUTPUT_FOLDER/300687/Abstract/paragraph_1.txt\n",
      "\n",
      "Starting process for ../OUTPUT_FOLDER/1231545 at time=1725203689.153021\n",
      "\n",
      "\n",
      "\n",
      "\n",
      "\n",
      "\n",
      "\n",
      "\n",
      "\n",
      "\n",
      "\n",
      "\n",
      "\n",
      "\n",
      "Processing the txt file ../OUTPUT_FOLDER/5901218/Abstract/paragraph_1.txt\n",
      "It took 0.27 seconds for the folder 6672993\n",
      "It took 0.25 seconds for the folder 1357116\n",
      "Processing the txt file ../OUTPUT_FOLDER/8096028/Abstract/paragraph_1.txt\n",
      "Processing the txt file ../OUTPUT_FOLDER/1331416/Abstract/paragraph_7.txt\n",
      "Processing the txt file ../OUTPUT_FOLDER/2238690/Abstract/paragraph_1.txt\n",
      "\n",
      "\n",
      "It took 0.26 seconds for the folder 1244029It took 0.17 seconds for the folder 1913872It took 0.19 seconds for the folder 1936236It took 0.3 seconds for the folder 1599583\n",
      "Processing the txt file ../OUTPUT_FOLDER/2802537/Abstract/paragraph_1.txt\n",
      "\n",
      "\n",
      "Processing the txt file ../OUTPUT_FOLDER/1294894/Abstract/paragraph_1.txt\n",
      "\n",
      "It took 0.36 seconds for the folder 8337299\n",
      "Processing the txt file ../OUTPUT_FOLDER/2914629/Abstract/paragraph_1.txt\n",
      "It took 0.33 seconds for the folder 1015135\n",
      "It took 0.37 seconds for the folder 1699079It took 0.36 seconds for the folder 1018176Starting process for ../OUTPUT_FOLDER/1693450 at time=1725203689.2178578\n",
      "Starting process for ../OUTPUT_FOLDER/2408653 at time=1725203689.19523\n",
      "It took 0.32 seconds for the folder 1368929It took 0.38 seconds for the folder 2726679It took 0.3 seconds for the folder 3728921It took 0.27 seconds for the folder 1357196Starting process for ../OUTPUT_FOLDER/1299015 at time=1725203689.2179394\n",
      "Starting process for ../OUTPUT_FOLDER/2673725 at time=1725203688.9537919\n",
      "It took 0.37 seconds for the folder 2834928It took 0.29 seconds for the folder 2712879It took 0.23 seconds for the folder 300218Processing the txt file ../OUTPUT_FOLDER/1924802/Abstract/paragraph_1.txt\n",
      "Processing the txt file ../OUTPUT_FOLDER/2074932/Abstract/paragraph_1.txt\n",
      "\n",
      "It took 0.27 seconds for the folder 495797It took 0.28 seconds for the folder 2527871\n",
      "\n",
      "\n",
      "\n",
      "Starting process for ../OUTPUT_FOLDER/2904967 at time=1725203689.1949315\n",
      "Starting process for ../OUTPUT_FOLDER/6570050 at time=1725203689.2419052\n",
      "It took 0.22 seconds for the folder 2716031It took 0.3 seconds for the folder 2246623Starting process for ../OUTPUT_FOLDER/1331414 at time=1725203689.2427683\n",
      "Starting process for ../OUTPUT_FOLDER/1367713 at time=1725203689.2419813\n",
      "Starting process for ../OUTPUT_FOLDER/131040 at time=1725203688.9403129\n",
      "Starting process for ../OUTPUT_FOLDER/1993447 at time=1725203688.9620392\n",
      "Starting process for ../OUTPUT_FOLDER/1512030 at time=1725203689.2473683\n",
      "Starting process for ../OUTPUT_FOLDER/1357199 at time=1725203689.2512612\n",
      "Starting process for ../OUTPUT_FOLDER/2879052 at time=1725203689.2423816\n",
      "\n",
      "It took 0.23 seconds for the folder 1368827It took 0.24 seconds for the folder 1948098\n",
      "\n",
      "\n",
      "Starting process for ../OUTPUT_FOLDER/2579145 at time=1725203689.2639527\n",
      "\n",
      "Starting process for ../OUTPUT_FOLDER/6784954 at time=1725203689.264224\n",
      "Starting process for ../OUTPUT_FOLDER/1930241 at time=1725203689.2675357\n",
      "Starting process for ../OUTPUT_FOLDER/45023 at time=1725203689.254776\n",
      "Starting process for ../OUTPUT_FOLDER/4099046 at time=1725203689.2720711\n",
      "\n",
      "Starting process for ../OUTPUT_FOLDER/1368938 at time=1725203689.2738595\n",
      "\n",
      "Starting process for ../OUTPUT_FOLDER/1692705 at time=1725203689.2739334\n",
      "\n",
      "Starting process for ../OUTPUT_FOLDER/1569492 at time=1725203689.2737353\n",
      "\n",
      "\n",
      "\n",
      "\n",
      "\n",
      "\n",
      "\n",
      "\n",
      "\n",
      "\n",
      "\n",
      "Processing the txt file ../OUTPUT_FOLDER/2581819/Abstract/paragraph_1.txt\n",
      "\n",
      "Starting process for ../OUTPUT_FOLDER/2585955 at time=1725203689.2815979\n",
      "Starting process for ../OUTPUT_FOLDER/2758673 at time=1725203689.2849612\n",
      "\n",
      "Processing the txt file ../OUTPUT_FOLDER/2892104/Abstract/paragraph_1.txt\n",
      "\n",
      "\n",
      "\n",
      "\n",
      "\n",
      "\n",
      "\n",
      "It took 0.24 seconds for the folder 2464569\n",
      "\n",
      "\n",
      "\n",
      "\n",
      "\n",
      "\n",
      "It took 0.2 seconds for the folder 1357160\n",
      "Starting process for ../OUTPUT_FOLDER/486571 at time=1725203689.2868118\n",
      "Processing the txt file ../OUTPUT_FOLDER/1852489/Abstract/paragraph_1.txt\n",
      "Processing the txt file ../OUTPUT_FOLDER/5471539/Abstract/paragraph_1.txt\n",
      "Starting process for ../OUTPUT_FOLDER/6010166 at time=1725203689.2867315\n",
      "\n",
      "\n",
      "\n",
      "Processing the txt file ../OUTPUT_FOLDER/3327293/Abstract/paragraph_7.txt\n",
      "\n",
      "\n",
      "Processing the txt file ../OUTPUT_FOLDER/1838571/Abstract/paragraph_1.txt\n",
      "Processing the txt file ../OUTPUT_FOLDER/2709177/Abstract/paragraph_1.txt\n",
      "\n",
      "\n",
      "It took 0.26 seconds for the folder 1368844\n",
      "\n",
      "Processing the txt file ../OUTPUT_FOLDER/134589/Abstract/paragraph_2.txt\n",
      "\n",
      "Starting process for ../OUTPUT_FOLDER/2794495 at time=1725203689.3472757\n",
      "\n",
      "\n",
      "\n",
      "\n",
      "Processing the txt file ../OUTPUT_FOLDER/6673354/Abstract/paragraph_1.txt\n",
      "Starting process for ../OUTPUT_FOLDER/6872020 at time=1725203689.3696425\n",
      "It took 0.25 seconds for the folder 1357086It took 0.26 seconds for the folder 1368833\n",
      "It took 0.23 seconds for the folder 1368875\n",
      "\n",
      "\n",
      "\n",
      "Processing the txt file ../OUTPUT_FOLDER/2607326/Abstract/paragraph_1.txt\n",
      "\n",
      "\n",
      "Processing the txt file ../OUTPUT_FOLDER/131040/Abstract/paragraph_1.txt\n",
      "\n",
      "Processing the txt file ../OUTPUT_FOLDER/1331414/Abstract/paragraph_7.txt\n",
      "Processing the txt file ../OUTPUT_FOLDER/1693450/Abstract/paragraph_1.txt\n",
      "\n",
      "\n",
      "\n",
      "Processing the txt file ../OUTPUT_FOLDER/2673725/Abstract/paragraph_1.txt\n",
      "\n",
      "\n",
      "\n",
      "\n",
      "It took 0.26 seconds for the folder 2765693\n",
      "\n",
      "\n",
      "\n",
      "\n",
      "\n",
      "\n",
      "\n",
      "\n",
      "\n",
      "\n",
      "\n",
      "\n",
      "\n",
      "It took 0.32 seconds for the folder 6673789\n",
      "\n",
      "\n",
      "\n",
      "\n",
      "Processing the txt file ../OUTPUT_FOLDER/6010166/Abstract/paragraph_1.txt\n",
      "\n",
      "Starting process for ../OUTPUT_FOLDER/33591 at time=1725203689.46482\n",
      "It took 0.49 seconds for the folder 1993447\n",
      "Processing the txt file ../OUTPUT_FOLDER/2904967/Abstract/paragraph_1.txt\n",
      "Starting process for ../OUTPUT_FOLDER/2543108 at time=1725203689.467121\n",
      "Processing the txt file ../OUTPUT_FOLDER/1367713/Abstract/paragraph_1.txt\n",
      "It took 0.4 seconds for the folder 1804882It took 0.2 seconds for the folder 1930241It took 0.22 seconds for the folder 1357199Processing the txt file ../OUTPUT_FOLDER/2408653/Abstract/paragraph_2.txt\n",
      "Processing the txt file ../OUTPUT_FOLDER/2579145/Abstract/paragraph_1.txt\n",
      "Processing the txt file ../OUTPUT_FOLDER/1512030/Abstract/paragraph_1.txt\n",
      "Processing the txt file ../OUTPUT_FOLDER/4099046/Abstract/paragraph_1.txt\n",
      "Processing the txt file ../OUTPUT_FOLDER/1299015/Abstract/paragraph_1.txt\n",
      "Processing the txt file ../OUTPUT_FOLDER/45023/Abstract/paragraph_1.txt\n",
      "Processing the txt file ../OUTPUT_FOLDER/2879052/Abstract/paragraph_1.txt\n",
      "\n",
      "\n",
      "\n",
      "\n",
      "\n",
      "It took 0.25 seconds for the folder 6570050\n",
      "\n",
      "\n",
      "\n",
      "\n",
      "\n",
      "\n",
      "\n",
      "Starting process for ../OUTPUT_FOLDER/490780 at time=1725203689.499647\n",
      "\n",
      "Starting process for ../OUTPUT_FOLDER/1550347 at time=1725203689.5009794\n",
      "Starting process for ../OUTPUT_FOLDER/300335 at time=1725203689.5049746\n",
      "Starting process for ../OUTPUT_FOLDER/1845541 at time=1725203689.5053396\n",
      "Starting process for ../OUTPUT_FOLDER/1357082 at time=1725203689.506645\n",
      "Starting process for ../OUTPUT_FOLDER/1839949 at time=1725203689.5070016\n",
      "\n",
      "\n",
      "\n",
      "\n",
      "Processing the txt file ../OUTPUT_FOLDER/6872020/Abstract/paragraph_1.txt\n",
      "It took 0.34 seconds for the folder 1231545Starting process for ../OUTPUT_FOLDER/2765818 at time=1725203689.5245802\n",
      "Processing the txt file ../OUTPUT_FOLDER/2794495/Abstract/paragraph_1.txt\n",
      "\n",
      "\n",
      "\n",
      "Starting process for ../OUTPUT_FOLDER/491436 at time=1725203689.5232148\n",
      "\n",
      "\n",
      "It took 0.24 seconds for the folder 486571Processing the txt file ../OUTPUT_FOLDER/6784954/Abstract/paragraph_1.txt\n",
      "\n",
      "\n",
      "\n",
      "\n",
      "Starting process for ../OUTPUT_FOLDER/2448808 at time=1725203689.2513628\n",
      "\n",
      "\n",
      "Starting process for ../OUTPUT_FOLDER/2612999 at time=1725203689.533589\n",
      "\n",
      "\n",
      "Processing the txt file ../OUTPUT_FOLDER/490780/Abstract/paragraph_1.txt\n",
      "Processing the txt file ../OUTPUT_FOLDER/2758673/Abstract/paragraph_2.txt\n",
      "Processing the txt file ../OUTPUT_FOLDER/1839949/Abstract/paragraph_1.txt\n",
      "Processing the txt file ../OUTPUT_FOLDER/2543108/Abstract/paragraph_2.txt\n",
      "Processing the txt file ../OUTPUT_FOLDER/1550347/Abstract/paragraph_1.txt\n",
      "It took 0.08 seconds for the folder 33591Processing the txt file ../OUTPUT_FOLDER/1692705/Abstract/paragraph_1.txt\n",
      "Starting process for ../OUTPUT_FOLDER/1047284 at time=1725203689.5328114\n",
      "Starting process for ../OUTPUT_FOLDER/2664747 at time=1725203689.550283\n",
      "Starting process for ../OUTPUT_FOLDER/2394570 at time=1725203689.5507028\n",
      "Starting process for ../OUTPUT_FOLDER/2435572 at time=1725203689.5522094\n",
      "It took 0.27 seconds for the folder 2585955\n",
      "\n",
      "\n",
      "\n",
      "Starting process for ../OUTPUT_FOLDER/2632461 at time=1725203689.5520082\n",
      "It took 0.28 seconds for the folder 1368938It took 0.28 seconds for the folder 1569492\n",
      "\n",
      "\n",
      "\n",
      "\n",
      "\n",
      "\n",
      "\n",
      "\n",
      "\n",
      "\n",
      "Starting process for ../OUTPUT_FOLDER/1569494 at time=1725203689.5568736\n",
      "\n",
      "\n",
      "\n",
      "Processing the txt file ../OUTPUT_FOLDER/2664747/Abstract/paragraph_1.txt\n",
      "Processing the txt file ../OUTPUT_FOLDER/2435572/Abstract/paragraph_1.txt\n",
      "Processing the txt file ../OUTPUT_FOLDER/2612999/Abstract/paragraph_1.txt\n",
      "It took 0.07 seconds for the folder 1845541It took 0.07 seconds for the folder 300335Processing the txt file ../OUTPUT_FOLDER/2765818/Abstract/paragraph_1.txt\n",
      "\n",
      "Processing the txt file ../OUTPUT_FOLDER/491436/Abstract/paragraph_1.txt\n",
      "\n",
      "Starting process for ../OUTPUT_FOLDER/1479994 at time=1725203689.575502\n",
      "\n",
      "It took 0.04 seconds for the folder 1047284\n",
      "\n",
      "\n",
      "\n",
      "\n",
      "It took 0.08 seconds for the folder 1357082\n",
      "Processing the txt file ../OUTPUT_FOLDER/1569494/Abstract/paragraph_1.txt\n",
      "It took 0.05 seconds for the folder 2394570It took 0.05 seconds for the folder 2632461\n",
      "\n",
      "\n",
      "It took 0.35 seconds for the folder 2448808\n",
      "Processing the txt file ../OUTPUT_FOLDER/1479994/Abstract/paragraph_1.txt\n",
      "\n",
      "\n",
      "Starting process for ../OUTPUT_FOLDER/6871818 at time=1725203689.6119516\n",
      "\n",
      "Processing the txt file ../OUTPUT_FOLDER/6871818/Abstract/paragraph_1.txt\n",
      "\n",
      "Starting process for ../OUTPUT_FOLDER/1034011 at time=1725203689.6279147\n",
      "\n",
      "Starting process for ../OUTPUT_FOLDER/2361150 at time=1725203689.6295292\n",
      "Starting process for ../OUTPUT_FOLDER/1949033 at time=1725203689.630994\n",
      "\n",
      "Starting process for ../OUTPUT_FOLDER/2666735 at time=1725203689.6319113\n",
      "\n",
      "Starting process for ../OUTPUT_FOLDER/2642896 at time=1725203689.6326373\n",
      "\n",
      "\n",
      "Starting process for ../OUTPUT_FOLDER/2649652 at time=1725203689.6345747\n",
      "\n",
      "Starting process for ../OUTPUT_FOLDER/498324 at time=1725203689.6351023\n",
      "Starting process for ../OUTPUT_FOLDER/2718236 at time=1725203689.6382682\n",
      "Starting process for ../OUTPUT_FOLDER/2879259 at time=1725203689.6415002\n",
      "\n",
      "Processing the txt file ../OUTPUT_FOLDER/2361150/Abstract/paragraph_1.txt\n",
      "Starting process for ../OUTPUT_FOLDER/2854863 at time=1725203689.6450496\n",
      "Processing the txt file ../OUTPUT_FOLDER/1949033/Abstract/paragraph_1.txt\n",
      "\n",
      "\n",
      "Processing the txt file ../OUTPUT_FOLDER/2879259/Abstract/paragraph_1.txt\n",
      "\n",
      "\n",
      "\n",
      "Processing the txt file ../OUTPUT_FOLDER/2642896/Abstract/paragraph_1.txt\n",
      "Starting process for ../OUTPUT_FOLDER/3655719 at time=1725203689.6686423\n",
      "\n",
      "\n",
      "Processing the txt file ../OUTPUT_FOLDER/2666735/Abstract/paragraph_1.txt\n",
      "\n",
      "Processing the txt file ../OUTPUT_FOLDER/2718236/Abstract/paragraph_1.txt\n",
      "\n",
      "\n",
      "Processing the txt file ../OUTPUT_FOLDER/2649652/Abstract/paragraph_1.txt\n",
      "Processing the txt file ../OUTPUT_FOLDER/2854863/Abstract/paragraph_1.txt\n",
      "\n",
      "It took 0.05 seconds for the folder 1034011\n",
      "Processing the txt file ../OUTPUT_FOLDER/3655719/Abstract/paragraph_1.txt\n",
      "\n",
      "It took 0.05 seconds for the folder 498324\n",
      "\n",
      "\n",
      "Starting process for ../OUTPUT_FOLDER/134590 at time=1725203689.697381\n",
      "Starting process for ../OUTPUT_FOLDER/1892099 at time=1725203689.6976154\n",
      "\n",
      "Processing the txt file ../OUTPUT_FOLDER/1892099/Abstract/paragraph_2.txt\n",
      "\n",
      "Processing the txt file ../OUTPUT_FOLDER/134590/Abstract/paragraph_1.txt\n",
      "\n",
      "Starting process for ../OUTPUT_FOLDER/1995661 at time=1725203689.7193692\n",
      "Starting process for ../OUTPUT_FOLDER/2667097 at time=1725203689.7241013\n",
      "Starting process for ../OUTPUT_FOLDER/1703991 at time=1725203689.7242658\n",
      "\n",
      "\n",
      "\n",
      "Processing the txt file ../OUTPUT_FOLDER/1703991/Abstract/paragraph_1.txt\n",
      "Starting process for ../OUTPUT_FOLDER/2367448 at time=1725203689.7481487\n",
      "Processing the txt file ../OUTPUT_FOLDER/1995661/Abstract/paragraph_1.txt\n",
      "Starting process for ../OUTPUT_FOLDER/2632448 at time=1725203689.7576945\n",
      "\n",
      "\n",
      "Processing the txt file ../OUTPUT_FOLDER/2667097/Abstract/paragraph_1.txt\n",
      "\n",
      "\n",
      "\n",
      "Starting process for ../OUTPUT_FOLDER/6568584 at time=1725203689.7688847\n",
      "Starting process for ../OUTPUT_FOLDER/2758772 at time=1725203689.7688053\n",
      "Starting process for ../OUTPUT_FOLDER/5917255 at time=1725203689.7689734\n",
      "\n",
      "\n",
      "\n",
      "Processing the txt file ../OUTPUT_FOLDER/2632448/Abstract/paragraph_1.txt\n",
      "\n",
      "Starting process for ../OUTPUT_FOLDER/1368930 at time=1725203689.775907\n",
      "Processing the txt file ../OUTPUT_FOLDER/2367448/Abstract/paragraph_1.txt\n",
      "Starting process for ../OUTPUT_FOLDER/1367778 at time=1725203689.776837\n",
      "\n",
      "\n",
      "\n",
      "Starting process for ../OUTPUT_FOLDER/1766395 at time=1725203689.7855113\n",
      "Processing the txt file ../OUTPUT_FOLDER/6568584/Abstract/paragraph_1.txt\n",
      "\n",
      "Starting process for ../OUTPUT_FOLDER/5682200 at time=1725203689.7867458\n",
      "Processing the txt file ../OUTPUT_FOLDER/5917255/Abstract/paragraph_1.txt\n",
      "\n",
      "\n",
      "\n",
      "Processing the txt file ../OUTPUT_FOLDER/2758772/Abstract/paragraph_1.txt\n",
      "\n",
      "It took 0.01 seconds for the folder 1766395It took 0.02 seconds for the folder 1367778\n",
      "Processing the txt file ../OUTPUT_FOLDER/5682200/Abstract/paragraph_1.txt\n",
      "\n",
      "\n",
      "It took 0.03 seconds for the folder 1368930\n",
      "Starting process for ../OUTPUT_FOLDER/1737866 at time=1725203689.8095288\n",
      "Starting process for ../OUTPUT_FOLDER/2817684 at time=1725203689.8098936\n",
      "\n",
      "\n",
      "Processing the txt file ../OUTPUT_FOLDER/2817684/Abstract/paragraph_2.txt\n",
      "\n",
      "It took 0.01 seconds for the folder 1737866Starting process for ../OUTPUT_FOLDER/2186371 at time=1725203689.8157685\n",
      "Starting process for ../OUTPUT_FOLDER/283379 at time=1725203689.8169615\n",
      "\n",
      "\n",
      "\n",
      "Starting process for ../OUTPUT_FOLDER/2527956 at time=1725203689.81902\n",
      "Starting process for ../OUTPUT_FOLDER/3275424 at time=1725203689.8207245\n",
      "Processing the txt file ../OUTPUT_FOLDER/283379/Abstract/paragraph_1.txt\n",
      "Starting process for ../OUTPUT_FOLDER/2636771 at time=1725203689.8198936\n",
      "\n",
      "\n",
      "\n",
      "\n",
      "Starting process for ../OUTPUT_FOLDER/2106427 at time=1725203689.8257005\n",
      "Processing the txt file ../OUTPUT_FOLDER/2527956/Abstract/paragraph_1.txt\n",
      "\n",
      "\n",
      "Processing the txt file ../OUTPUT_FOLDER/2636771/Abstract/paragraph_2.txt\n",
      "Starting process for ../OUTPUT_FOLDER/1367779 at time=1725203689.8267434\n",
      "\n",
      "Processing the txt file ../OUTPUT_FOLDER/2106427/Abstract/paragraph_1.txt\n",
      "Starting process for ../OUTPUT_FOLDER/1626132 at time=1725203689.8284688\n",
      "\n",
      "Starting process for ../OUTPUT_FOLDER/1357143 at time=1725203689.83935\n",
      "Starting process for ../OUTPUT_FOLDER/2788013 at time=1725203689.8278975\n",
      "Processing the txt file ../OUTPUT_FOLDER/3275424/Abstract/paragraph_1.txt\n",
      "\n",
      "\n",
      "\n",
      "Starting process for ../OUTPUT_FOLDER/1368842 at time=1725203689.8406959\n",
      "\n",
      "\n",
      "\n",
      "It took 0.04 seconds for the folder 2186371Processing the txt file ../OUTPUT_FOLDER/2788013/Abstract/paragraph_1.txt\n",
      "Processing the txt file ../OUTPUT_FOLDER/1626132/Abstract/paragraph_1.txt\n",
      "It took 0.03 seconds for the folder 1367779\n",
      "\n",
      "\n",
      "\n",
      "Starting process for ../OUTPUT_FOLDER/1357145 at time=1725203689.8612278\n",
      "\n",
      "It took 0.02 seconds for the folder 1368842\n",
      "It took 0.0 seconds for the folder 1357145\n",
      "It took 0.03 seconds for the folder 1357143\n",
      "Starting process for ../OUTPUT_FOLDER/2377267 at time=1725203689.879845\n",
      "\n",
      "Processing the txt file ../OUTPUT_FOLDER/2377267/Abstract/paragraph_2.txt\n",
      "\n",
      "Starting process for ../OUTPUT_FOLDER/2913410 at time=1725203689.8882463\n",
      "Starting process for ../OUTPUT_FOLDER/3556908 at time=1725203689.8897617\n",
      "\n",
      "Starting process for ../OUTPUT_FOLDER/2718241 at time=1725203689.8899918\n",
      "\n",
      "\n",
      "Processing the txt file ../OUTPUT_FOLDER/2913410/Abstract/paragraph_1.txt\n",
      "\n",
      "Processing the txt file ../OUTPUT_FOLDER/2718241/Abstract/paragraph_1.txt\n",
      "It took 0.02 seconds for the folder 3556908\n",
      "\n",
      "Starting process for ../OUTPUT_FOLDER/2667075 at time=1725203689.914111\n",
      "\n",
      "Processing the txt file ../OUTPUT_FOLDER/2667075/Abstract/paragraph_1.txt\n",
      "\n"
     ]
    },
    {
     "name": "stderr",
     "output_type": "stream",
     "text": [
      "Applied processor reduces input query to empty string, all comparisons will have score 0. [Query: '–']\n",
      "Applied processor reduces input query to empty string, all comparisons will have score 0. [Query: '–']\n",
      "Applied processor reduces input query to empty string, all comparisons will have score 0. [Query: '—']\n"
     ]
    },
    {
     "name": "stdout",
     "output_type": "stream",
     "text": [
      "Processing the txt file ../OUTPUT_FOLDER/2408653/Abstract/paragraph_1.txt\n",
      "\n"
     ]
    },
    {
     "name": "stderr",
     "output_type": "stream",
     "text": [
      "Applied processor reduces input query to empty string, all comparisons will have score 0. [Query: '–']\n",
      "Applied processor reduces input query to empty string, all comparisons will have score 0. [Query: '–']\n",
      "Applied processor reduces input query to empty string, all comparisons will have score 0. [Query: '=']\n",
      "Applied processor reduces input query to empty string, all comparisons will have score 0. [Query: '=']\n",
      "Applied processor reduces input query to empty string, all comparisons will have score 0. [Query: '=']\n"
     ]
    },
    {
     "name": "stdout",
     "output_type": "stream",
     "text": [
      "Processing the txt file ../OUTPUT_FOLDER/300687/Body/Teaming Up/paragraph_7.txt\n",
      "\n"
     ]
    },
    {
     "name": "stderr",
     "output_type": "stream",
     "text": [
      "Applied processor reduces input query to empty string, all comparisons will have score 0. [Query: '=']\n"
     ]
    },
    {
     "name": "stdout",
     "output_type": "stream",
     "text": [
      "Processing the txt file ../OUTPUT_FOLDER/3327293/Abstract/paragraph_2.txt\n",
      "\n"
     ]
    },
    {
     "name": "stderr",
     "output_type": "stream",
     "text": [
      "Applied processor reduces input query to empty string, all comparisons will have score 0. [Query: '=']\n",
      "Applied processor reduces input query to empty string, all comparisons will have score 0. [Query: '–']\n",
      "Applied processor reduces input query to empty string, all comparisons will have score 0. [Query: '–']\n",
      "Applied processor reduces input query to empty string, all comparisons will have score 0. [Query: '©']\n",
      "Applied processor reduces input query to empty string, all comparisons will have score 0. [Query: '©']\n"
     ]
    },
    {
     "name": "stdout",
     "output_type": "stream",
     "text": [
      "Processing the txt file ../OUTPUT_FOLDER/2758673/Abstract/paragraph_1.txt\n",
      "\n",
      "It took 24.12 seconds for the folder 1299015\n",
      "Starting process for ../OUTPUT_FOLDER/2830247 at time=1725203713.3782861\n",
      "\n",
      "Processing the txt file ../OUTPUT_FOLDER/2830247/Abstract/paragraph_1.txt\n",
      "\n",
      "Processing the txt file ../OUTPUT_FOLDER/1331416/Abstract/paragraph_2.txt\n",
      "\n",
      "Processing the txt file ../OUTPUT_FOLDER/1331414/Abstract/paragraph_2.txt\n",
      "\n",
      "Processing the txt file ../OUTPUT_FOLDER/1331415/Abstract/paragraph_1.txt\n",
      "\n",
      "It took 40.67 seconds for the folder 2718236\n",
      "Starting process for ../OUTPUT_FOLDER/1693170 at time=1725203730.3411155\n",
      "\n",
      "Processing the txt file ../OUTPUT_FOLDER/1693170/Abstract/paragraph_1.txt\n",
      "\n",
      "Processing the txt file ../OUTPUT_FOLDER/509312/Body/Funding the Search/paragraph_7.txt\n",
      "\n",
      "Processing the txt file ../OUTPUT_FOLDER/3327293/Abstract/paragraph_1.txt\n",
      "\n",
      "Processing the txt file ../OUTPUT_FOLDER/2744723/Abstract/paragraph_1.txt\n",
      "\n",
      "Processing the txt file ../OUTPUT_FOLDER/2794495/Body/What is the difference between social suffering and mental health problems (psychiatric conditions)_/paragraph_2.txt\n",
      "\n",
      "Processing the txt file ../OUTPUT_FOLDER/2744723/Abstract/paragraph_3.txt\n",
      "\n",
      "Processing the txt file ../OUTPUT_FOLDER/1892099/Abstract/paragraph_1.txt\n",
      "\n",
      "It took 110.43 seconds for the folder 2857400\n",
      "Starting process for ../OUTPUT_FOLDER/6673457 at time=1725203799.4151359\n",
      "\n",
      "It took 0.01 seconds for the folder 6673457\n",
      "Starting process for ../OUTPUT_FOLDER/2259128 at time=1725203799.4336548\n",
      "\n",
      "It took 0.01 seconds for the folder 2259128\n",
      "Starting process for ../OUTPUT_FOLDER/1308428 at time=1725203799.4585726\n",
      "\n",
      "It took 0.01 seconds for the folder 1308428\n",
      "Starting process for ../OUTPUT_FOLDER/1331413 at time=1725203799.4764855\n",
      "\n",
      "Processing the txt file ../OUTPUT_FOLDER/1331413/Abstract/paragraph_2.txt\n",
      "\n",
      "Processing the txt file ../OUTPUT_FOLDER/1397826/Abstract/paragraph_1.txt\n",
      "\n",
      "Processing the txt file ../OUTPUT_FOLDER/300687/Body/Teaming Up/paragraph_2.txt\n",
      "\n",
      "It took 114.09 seconds for the folder 1479994\n",
      "Starting process for ../OUTPUT_FOLDER/33612 at time=1725203803.6960056\n",
      "\n",
      "Processing the txt file ../OUTPUT_FOLDER/33612/Abstract/paragraph_1.txt\n",
      "\n",
      "Processing the txt file ../OUTPUT_FOLDER/1331416/Abstract/paragraph_1.txt\n",
      "\n",
      "Processing the txt file ../OUTPUT_FOLDER/3327293/Abstract/paragraph_3.txt\n",
      "\n",
      "It took 142.49 seconds for the folder 5901218\n",
      "Starting process for ../OUTPUT_FOLDER/2746002 at time=1725203831.3991299\n",
      "\n",
      "Processing the txt file ../OUTPUT_FOLDER/2746002/Abstract/paragraph_1.txt\n",
      "\n",
      "It took 150.81 seconds for the folder 2649652\n",
      "Starting process for ../OUTPUT_FOLDER/2879386 at time=1725203840.4728782\n",
      "\n",
      "Processing the txt file ../OUTPUT_FOLDER/2879386/Abstract/paragraph_1.txt\n",
      "\n",
      "Processing the txt file ../OUTPUT_FOLDER/2817684/Abstract/paragraph_1.txt\n",
      "\n",
      "It took 174.79 seconds for the folder 491436\n",
      "Starting process for ../OUTPUT_FOLDER/1088510 at time=1725203864.322701\n",
      "\n",
      "Processing the txt file ../OUTPUT_FOLDER/1088510/Abstract/paragraph_1.txt\n",
      "\n",
      "Processing the txt file ../OUTPUT_FOLDER/1331415/Abstract/paragraph_3.txt\n",
      "\n",
      "It took 177.66 seconds for the folder 1294894\n",
      "Starting process for ../OUTPUT_FOLDER/1509127 at time=1725203866.6808624\n",
      "\n",
      "It took 0.02 seconds for the folder 1509127\n",
      "Starting process for ../OUTPUT_FOLDER/2812702 at time=1725203866.714941\n",
      "\n",
      "Processing the txt file ../OUTPUT_FOLDER/2812702/Abstract/paragraph_1.txt\n",
      "\n",
      "Processing the txt file ../OUTPUT_FOLDER/1331416/Abstract/paragraph_3.txt\n",
      "\n",
      "Processing the txt file ../OUTPUT_FOLDER/3327293/Abstract/paragraph_4.txt\n",
      "\n",
      "Processing the txt file ../OUTPUT_FOLDER/1331413/Abstract/paragraph_1.txt\n",
      "\n",
      "It took 191.37 seconds for the folder 2904967\n",
      "Starting process for ../OUTPUT_FOLDER/1362969 at time=1725203880.57997\n",
      "\n",
      "It took 0.01 seconds for the folder 1362969\n",
      "Starting process for ../OUTPUT_FOLDER/2917380 at time=1725203880.603816\n",
      "\n",
      "It took 0.01 seconds for the folder 2917380\n",
      "Starting process for ../OUTPUT_FOLDER/1902389 at time=1725203880.6215696\n",
      "\n",
      "It took 0.01 seconds for the folder 1902389\n",
      "Starting process for ../OUTPUT_FOLDER/6654523 at time=1725203880.6383088\n",
      "\n",
      "It took 0.01 seconds for the folder 6654523\n",
      "Starting process for ../OUTPUT_FOLDER/2567873 at time=1725203880.6477516\n",
      "\n",
      "Processing the txt file ../OUTPUT_FOLDER/2567873/Abstract/paragraph_1.txt\n",
      "\n",
      "Processing the txt file ../OUTPUT_FOLDER/2794495/Body/What is the difference between social suffering and mental health problems (psychiatric conditions)_/paragraph_1.txt\n",
      "\n",
      "Processing the txt file ../OUTPUT_FOLDER/1331413/Abstract/paragraph_3.txt\n",
      "\n",
      "Processing the txt file ../OUTPUT_FOLDER/2794495/Body/What is the difference between social suffering and mental health problems (psychiatric conditions)_/paragraph_3.txt\n",
      "\n",
      "Processing the txt file ../OUTPUT_FOLDER/1331416/Abstract/paragraph_4.txt\n",
      "\n",
      "It took 230.35 seconds for the folder 1703991\n",
      "Starting process for ../OUTPUT_FOLDER/6671382 at time=1725203920.1225533\n",
      "\n",
      "It took 0.07 seconds for the folder 6671382\n",
      "Starting process for ../OUTPUT_FOLDER/1693163 at time=1725203920.2331257\n",
      "\n",
      "Processing the txt file ../OUTPUT_FOLDER/1693163/Abstract/paragraph_1.txt\n",
      "\n",
      "It took 239.69 seconds for the folder 1693450\n",
      "Starting process for ../OUTPUT_FOLDER/3314503 at time=1725203928.9133136\n",
      "\n",
      "Processing the txt file ../OUTPUT_FOLDER/3314503/Abstract/paragraph_1.txt\n",
      "\n",
      "It took 244.73 seconds for the folder 1839949\n",
      "Starting process for ../OUTPUT_FOLDER/1114485 at time=1725203934.2545996\n",
      "\n",
      "It took 0.01 seconds for the folder 1114485\n",
      "Starting process for ../OUTPUT_FOLDER/2563331 at time=1725203934.2682412\n",
      "\n",
      "Processing the txt file ../OUTPUT_FOLDER/2563331/Abstract/paragraph_1.txt\n",
      "\n",
      "It took 254.08 seconds for the folder 1852489\n",
      "Starting process for ../OUTPUT_FOLDER/2211377 at time=1725203943.2533815\n",
      "\n",
      "Processing the txt file ../OUTPUT_FOLDER/2211377/Abstract/paragraph_1.txt\n",
      "\n",
      "Processing the txt file ../OUTPUT_FOLDER/1331414/Abstract/paragraph_1.txt\n",
      "\n",
      "It took 282.82 seconds for the folder 2435572\n",
      "Starting process for ../OUTPUT_FOLDER/2584747 at time=1725203972.3877616\n",
      "\n",
      "It took 0.01 seconds for the folder 2584747\n",
      "Starting process for ../OUTPUT_FOLDER/2375769 at time=1725203972.4064577\n",
      "\n",
      "It took 0.01 seconds for the folder 2375769\n",
      "Starting process for ../OUTPUT_FOLDER/1368918 at time=1725203972.4237485\n",
      "\n",
      "It took 0.01 seconds for the folder 1368918\n",
      "Starting process for ../OUTPUT_FOLDER/1737533 at time=1725203972.4443173\n",
      "\n",
      "It took 0.01 seconds for the folder 1737533\n",
      "Starting process for ../OUTPUT_FOLDER/2721972 at time=1725203972.4681487\n",
      "\n",
      "Processing the txt file ../OUTPUT_FOLDER/2721972/Abstract/paragraph_1.txt\n",
      "\n",
      "Processing the txt file ../OUTPUT_FOLDER/1331414/Abstract/paragraph_3.txt\n",
      "\n",
      "It took 298.94 seconds for the folder 2492885\n",
      "Starting process for ../OUTPUT_FOLDER/33800 at time=1725203987.7951028\n",
      "\n",
      "Processing the txt file ../OUTPUT_FOLDER/33800/Abstract/paragraph_1.txt\n",
      "\n",
      "It took 299.34 seconds for the folder 2667075\n",
      "Starting process for ../OUTPUT_FOLDER/2292479 at time=1725203989.276954\n",
      "\n",
      "Processing the txt file ../OUTPUT_FOLDER/2292479/Abstract/paragraph_1.txt\n",
      "\n",
      "Processing the txt file ../OUTPUT_FOLDER/2377267/Abstract/paragraph_1.txt\n",
      "\n",
      "It took 302.71 seconds for the folder 1512030\n",
      "Starting process for ../OUTPUT_FOLDER/2148425 at time=1725203991.9935381\n",
      "\n",
      "Processing the txt file ../OUTPUT_FOLDER/2148425/Abstract/paragraph_1.txt\n",
      "\n"
     ]
    },
    {
     "name": "stderr",
     "output_type": "stream",
     "text": [
      "Applied processor reduces input query to empty string, all comparisons will have score 0. [Query: '']\n"
     ]
    },
    {
     "name": "stdout",
     "output_type": "stream",
     "text": [
      "Processing the txt file ../OUTPUT_FOLDER/300687/Body/Teaming Up/paragraph_1.txt\n",
      "\n",
      "It took 314.1 seconds for the folder 2709177\n",
      "Starting process for ../OUTPUT_FOLDER/3753668 at time=1725204003.245507\n",
      "\n",
      "Processing the txt file ../OUTPUT_FOLDER/3753668/Abstract/paragraph_1.txt\n",
      "\n",
      "Processing the txt file ../OUTPUT_FOLDER/1331413/Abstract/paragraph_4.txt\n",
      "\n",
      "Processing the txt file ../OUTPUT_FOLDER/1397826/Abstract/paragraph_3.txt\n",
      "\n",
      "Processing the txt file ../OUTPUT_FOLDER/2817684/Abstract/paragraph_3.txt\n",
      "\n",
      "Processing the txt file ../OUTPUT_FOLDER/1331414/Abstract/paragraph_4.txt\n",
      "\n",
      "Processing the txt file ../OUTPUT_FOLDER/3327293/Abstract/paragraph_6.txt\n",
      "\n"
     ]
    },
    {
     "name": "stderr",
     "output_type": "stream",
     "text": [
      "Applied processor reduces input query to empty string, all comparisons will have score 0. [Query: '']\n"
     ]
    },
    {
     "name": "stdout",
     "output_type": "stream",
     "text": [
      "It took 461.45 seconds for the folder 5471539\n",
      "Starting process for ../OUTPUT_FOLDER/1560342 at time=1725204150.5680034\n",
      "\n",
      "Processing the txt file ../OUTPUT_FOLDER/1560342/Abstract/paragraph_1.txt\n",
      "\n",
      "Processing the txt file ../OUTPUT_FOLDER/2794495/Body/How will the field reconcile the paradox of global pharmaceuticals in mental illness — namely, under-diagnosis and absent treatment for the poor and over-diagnosis and abuse of treatment for the wealthy_/paragraph_1.txt\n",
      "\n",
      "It took 468.51 seconds for the folder 283379\n",
      "Starting process for ../OUTPUT_FOLDER/2079253 at time=1725204158.3844638\n",
      "\n",
      "It took 0.01 seconds for the folder 2079253\n",
      "Starting process for ../OUTPUT_FOLDER/1368866 at time=1725204158.4109757\n",
      "\n",
      "It took 0.01 seconds for the folder 1368866\n",
      "Starting process for ../OUTPUT_FOLDER/2660324 at time=1725204158.4297988\n",
      "\n",
      "Processing the txt file ../OUTPUT_FOLDER/2660324/Abstract/paragraph_2.txt\n",
      "\n",
      "It took 472.35 seconds for the folder 2581819\n",
      "Starting process for ../OUTPUT_FOLDER/6568437 at time=1725204161.45609\n",
      "\n",
      "Processing the txt file ../OUTPUT_FOLDER/6568437/Abstract/paragraph_1.txt\n",
      "\n",
      "Processing the txt file ../OUTPUT_FOLDER/2377267/Abstract/paragraph_3.txt\n",
      "\n",
      "Processing the txt file ../OUTPUT_FOLDER/2660324/Abstract/paragraph_1.txt\n",
      "\n",
      "It took 499.47 seconds for the folder 2854863\n",
      "Starting process for ../OUTPUT_FOLDER/2150566 at time=1725204189.1308157\n",
      "\n",
      "Processing the txt file ../OUTPUT_FOLDER/2150566/Abstract/paragraph_1.txt\n",
      "\n",
      "It took 507.64 seconds for the folder 33796\n",
      "Starting process for ../OUTPUT_FOLDER/2563332 at time=1725204196.5655851\n",
      "\n",
      "Processing the txt file ../OUTPUT_FOLDER/2563332/Abstract/paragraph_1.txt\n",
      "\n",
      "Processing the txt file ../OUTPUT_FOLDER/1331416/Abstract/paragraph_6.txt\n",
      "\n",
      "It took 515.33 seconds for the folder 2957875\n",
      "Starting process for ../OUTPUT_FOLDER/1892101 at time=1725204204.358167\n",
      "\n",
      "Processing the txt file ../OUTPUT_FOLDER/1892101/Abstract/paragraph_2.txt\n",
      "\n",
      "It took 11.03 seconds for the folder 2563332\n",
      "Starting process for ../OUTPUT_FOLDER/2660436 at time=1725204207.631547\n",
      "\n",
      "Processing the txt file ../OUTPUT_FOLDER/2660436/Abstract/paragraph_1.txt\n",
      "\n",
      "It took 523.87 seconds for the folder 490780\n",
      "Starting process for ../OUTPUT_FOLDER/1368857 at time=1725204213.3809264\n",
      "\n",
      "It took 0.01 seconds for the folder 1368857\n",
      "Starting process for ../OUTPUT_FOLDER/516795 at time=1725204213.401038\n",
      "\n",
      "Processing the txt file ../OUTPUT_FOLDER/516795/Abstract/paragraph_1.txt\n",
      "\n",
      "Processing the txt file ../OUTPUT_FOLDER/2660324/Body/Co-signatures/paragraph_7.txt\n",
      "\n",
      "Processing the txt file ../OUTPUT_FOLDER/2794495/Body/What is the place of ethics, forensics, and caregiving in medical anthropology and professional psychiatric care_/paragraph_2.txt\n",
      "\n",
      "Processing the txt file ../OUTPUT_FOLDER/2660324/Body/Co-signatures/paragraph_12.txt\n",
      "\n",
      "Processing the txt file ../OUTPUT_FOLDER/516795/Body/General/paragraph_7.txt\n",
      "\n",
      "It took 394.04 seconds for the folder 2746002\n",
      "Starting process for ../OUTPUT_FOLDER/2243655 at time=1725204225.4541788\n",
      "\n",
      "Processing the txt file ../OUTPUT_FOLDER/2243655/Abstract/paragraph_1.txt\n",
      "\n",
      "Processing the txt file ../OUTPUT_FOLDER/2660324/Body/Co-signatures/paragraph_22.txt\n",
      "\n",
      "Processing the txt file ../OUTPUT_FOLDER/2660324/Body/Co-signatures/paragraph_13.txt\n",
      "\n",
      "Processing the txt file ../OUTPUT_FOLDER/2744723/Abstract/paragraph_4.txt\n",
      "\n",
      "Processing the txt file ../OUTPUT_FOLDER/2758673/Body/Results/paragraph_7.txt\n",
      "\n"
     ]
    },
    {
     "name": "stderr",
     "output_type": "stream",
     "text": [
      "Applied processor reduces input query to empty string, all comparisons will have score 0. [Query: ')']\n"
     ]
    },
    {
     "name": "stdout",
     "output_type": "stream",
     "text": [
      "Processing the txt file ../OUTPUT_FOLDER/2660324/Body/Co-signatures/paragraph_8.txt\n",
      "\n",
      "Processing the txt file ../OUTPUT_FOLDER/2794495/Body/What is the place of ethics, forensics, and caregiving in medical anthropology and professional psychiatric care_/paragraph_1.txt\n",
      "\n"
     ]
    },
    {
     "name": "stderr",
     "output_type": "stream",
     "text": [
      "Applied processor reduces input query to empty string, all comparisons will have score 0. [Query: ')']\n"
     ]
    },
    {
     "name": "stdout",
     "output_type": "stream",
     "text": [
      "Processing the txt file ../OUTPUT_FOLDER/2660324/Body/Co-signatures/paragraph_21.txt\n",
      "\n",
      "Processing the txt file ../OUTPUT_FOLDER/3327293/Abstract/paragraph_5.txt\n",
      "\n",
      "Processing the txt file ../OUTPUT_FOLDER/1331415/Abstract/paragraph_5.txt\n",
      "\n",
      "It took 555.03 seconds for the folder 2106427\n",
      "Starting process for ../OUTPUT_FOLDER/2031949 at time=1725204244.876768\n",
      "\n",
      "Processing the txt file ../OUTPUT_FOLDER/2031949/Abstract/paragraph_1.txt\n",
      "\n",
      "Processing the txt file ../OUTPUT_FOLDER/2660324/Body/Co-signatures/paragraph_2.txt\n",
      "\n",
      "Processing the txt file ../OUTPUT_FOLDER/2660324/Body/Co-signatures/paragraph_20.txt\n",
      "\n"
     ]
    },
    {
     "name": "stderr",
     "output_type": "stream",
     "text": [
      "Applied processor reduces input query to empty string, all comparisons will have score 0. [Query: '=']\n",
      "Applied processor reduces input query to empty string, all comparisons will have score 0. [Query: '=']\n",
      "Applied processor reduces input query to empty string, all comparisons will have score 0. [Query: '=']\n",
      "Applied processor reduces input query to empty string, all comparisons will have score 0. [Query: '=']\n",
      "Applied processor reduces input query to empty string, all comparisons will have score 0. [Query: '=']\n"
     ]
    },
    {
     "name": "stdout",
     "output_type": "stream",
     "text": [
      "Processing the txt file ../OUTPUT_FOLDER/2660324/Body/Co-signatures/paragraph_10.txt\n",
      "\n"
     ]
    },
    {
     "name": "stderr",
     "output_type": "stream",
     "text": [
      "Applied processor reduces input query to empty string, all comparisons will have score 0. [Query: '=']\n"
     ]
    },
    {
     "name": "stdout",
     "output_type": "stream",
     "text": [
      "Processing the txt file ../OUTPUT_FOLDER/2660324/Body/Co-signatures/paragraph_1.txt\n",
      "\n",
      "Processing the txt file ../OUTPUT_FOLDER/2660324/Body/Co-signatures/paragraph_11.txt\n",
      "\n",
      "Processing the txt file ../OUTPUT_FOLDER/2660324/Body/Co-signatures/paragraph_3.txt\n",
      "\n",
      "It took 477.11 seconds for the folder 1331413\n",
      "Starting process for ../OUTPUT_FOLDER/6826829 at time=1725204276.6009498\n",
      "\n",
      "Processing the txt file ../OUTPUT_FOLDER/6826829/Abstract/paragraph_1.txt\n",
      "\n",
      "It took 588.37 seconds for the folder 134590\n",
      "Starting process for ../OUTPUT_FOLDER/2243186 at time=1725204278.1626523\n",
      "\n",
      "Processing the txt file ../OUTPUT_FOLDER/2243186/Abstract/paragraph_1.txt\n",
      "\n",
      "Processing the txt file ../OUTPUT_FOLDER/2660324/Body/Co-signatures/paragraph_25.txt\n",
      "\n",
      "Processing the txt file ../OUTPUT_FOLDER/2660324/Body/Co-signatures/paragraph_23.txt\n",
      "\n",
      "Processing the txt file ../OUTPUT_FOLDER/2660324/Body/Co-signatures/paragraph_4.txt\n",
      "\n",
      "It took 232.62 seconds for the folder 5066577\n",
      "Starting process for ../OUTPUT_FOLDER/1612750 at time=1725204287.4280865\n",
      "\n",
      "It took 0.02 seconds for the folder 1612750\n",
      "Starting process for ../OUTPUT_FOLDER/1693161 at time=1725204287.4502816\n",
      "\n",
      "Processing the txt file ../OUTPUT_FOLDER/1693161/Abstract/paragraph_1.txt\n",
      "\n",
      "It took 599.82 seconds for the folder 5682200\n",
      "Starting process for ../OUTPUT_FOLDER/2708671 at time=1725204289.625365\n",
      "\n",
      "Processing the txt file ../OUTPUT_FOLDER/2708671/Abstract/paragraph_1.txt\n",
      "\n",
      "It took 600.7 seconds for the folder 2579145\n",
      "Starting process for ../OUTPUT_FOLDER/1335283 at time=1725204289.9894466\n",
      "\n",
      "It took 0.02 seconds for the folder 1335283\n",
      "Starting process for ../OUTPUT_FOLDER/1253612 at time=1725204290.0198789\n",
      "\n",
      "It took 0.03 seconds for the folder 1253612\n",
      "Starting process for ../OUTPUT_FOLDER/1889489 at time=1725204290.052926\n",
      "\n",
      "It took 0.01 seconds for the folder 1889489\n",
      "Starting process for ../OUTPUT_FOLDER/2441775 at time=1725204290.068824\n",
      "\n",
      "Processing the txt file ../OUTPUT_FOLDER/2441775/Abstract/paragraph_1.txt\n",
      "\n",
      "Processing the txt file ../OUTPUT_FOLDER/2660324/Body/Co-signatures/paragraph_17.txt\n",
      "\n"
     ]
    },
    {
     "name": "stderr",
     "output_type": "stream",
     "text": [
      "Applied processor reduces input query to empty string, all comparisons will have score 0. [Query: '-']\n"
     ]
    },
    {
     "name": "stdout",
     "output_type": "stream",
     "text": [
      "Processing the txt file ../OUTPUT_FOLDER/2660324/Body/Co-signatures/paragraph_6.txt\n",
      "\n",
      "Processing the txt file ../OUTPUT_FOLDER/2685001/Body/Results/paragraph_7.txt\n",
      "\n"
     ]
    },
    {
     "name": "stderr",
     "output_type": "stream",
     "text": [
      "Applied processor reduces input query to empty string, all comparisons will have score 0. [Query: '']\n"
     ]
    },
    {
     "name": "stdout",
     "output_type": "stream",
     "text": [
      "It took 611.24 seconds for the folder 1331415\n",
      "Starting process for ../OUTPUT_FOLDER/2949688 at time=1725204300.160955\n",
      "\n",
      "Processing the txt file ../OUTPUT_FOLDER/2949688/Abstract/paragraph_1.txt\n",
      "\n",
      "It took 612.76 seconds for the folder 3275424\n",
      "Starting process for ../OUTPUT_FOLDER/2759415 at time=1725204302.6048625\n",
      "\n",
      "Processing the txt file ../OUTPUT_FOLDER/2759415/Abstract/paragraph_2.txt\n",
      "\n",
      "Processing the txt file ../OUTPUT_FOLDER/2660324/Body/Co-signatures/paragraph_5.txt\n",
      "\n",
      "Processing the txt file ../OUTPUT_FOLDER/2377267/Body/Results/paragraph_7.txt\n",
      "\n",
      "It took 617.66 seconds for the folder 2744723\n",
      "Starting process for ../OUTPUT_FOLDER/1693454 at time=1725204306.5857968\n",
      "\n",
      "Processing the txt file ../OUTPUT_FOLDER/1693454/Abstract/paragraph_1.txt\n",
      "\n",
      "It took 617.77 seconds for the folder 3655719\n",
      "Starting process for ../OUTPUT_FOLDER/300326 at time=1725204307.5563722\n",
      "\n",
      "It took 0.04 seconds for the folder 300326\n",
      "Starting process for ../OUTPUT_FOLDER/6494000 at time=1725204307.6050246\n",
      "\n",
      "It took 0.05 seconds for the folder 6494000\n",
      "Starting process for ../OUTPUT_FOLDER/2475430 at time=1725204307.6779165\n",
      "\n",
      "It took 0.03 seconds for the folder 2475430\n",
      "Starting process for ../OUTPUT_FOLDER/2492054 at time=1725204307.7226858\n",
      "\n",
      "Processing the txt file ../OUTPUT_FOLDER/2492054/Abstract/paragraph_1.txt\n",
      "\n",
      "Processing the txt file ../OUTPUT_FOLDER/2543108/Abstract/paragraph_1.txt\n",
      "\n",
      "Processing the txt file ../OUTPUT_FOLDER/2660324/Body/Co-signatures/paragraph_15.txt\n",
      "\n",
      "It took 621.77 seconds for the folder 2897592\n",
      "Starting process for ../OUTPUT_FOLDER/5428141 at time=1725204310.7338078\n",
      "\n",
      "Processing the txt file ../OUTPUT_FOLDER/5428141/Abstract/paragraph_1.txt\n",
      "\n",
      "Processing the txt file ../OUTPUT_FOLDER/300687/Body/Teaming Up/paragraph_3.txt\n",
      "\n",
      "It took 630.23 seconds for the folder 2666735\n",
      "Starting process for ../OUTPUT_FOLDER/2791502 at time=1725204319.8915374\n",
      "\n",
      "It took 0.01 seconds for the folder 2791502\n",
      "Starting process for ../OUTPUT_FOLDER/2787682 at time=1725204319.9131763\n",
      "\n",
      "Processing the txt file ../OUTPUT_FOLDER/2787682/Abstract/paragraph_2.txt\n",
      "\n"
     ]
    },
    {
     "name": "stderr",
     "output_type": "stream",
     "text": [
      "Applied processor reduces input query to empty string, all comparisons will have score 0. [Query: '±']\n",
      "Applied processor reduces input query to empty string, all comparisons will have score 0. [Query: '=']\n",
      "Applied processor reduces input query to empty string, all comparisons will have score 0. [Query: '']\n"
     ]
    },
    {
     "name": "stdout",
     "output_type": "stream",
     "text": [
      "Processing the txt file ../OUTPUT_FOLDER/2660324/Body/Co-signatures/paragraph_18.txt\n",
      "\n",
      "It took 637.39 seconds for the folder 2673725\n",
      "Starting process for ../OUTPUT_FOLDER/1634799 at time=1725204326.3926542\n",
      "\n",
      "Processing the txt file ../OUTPUT_FOLDER/1634799/Abstract/paragraph_1.txt\n",
      "\n",
      "It took 638.16 seconds for the folder 116323\n",
      "Starting process for ../OUTPUT_FOLDER/1088511 at time=1725204327.0852413\n",
      "\n",
      "Processing the txt file ../OUTPUT_FOLDER/1088511/Abstract/paragraph_1.txt\n",
      "\n",
      "Processing the txt file ../OUTPUT_FOLDER/2636771/Abstract/paragraph_1.txt\n",
      "\n",
      "Processing the txt file ../OUTPUT_FOLDER/2660324/Body/Co-signatures/paragraph_24.txt\n",
      "\n",
      "Processing the txt file ../OUTPUT_FOLDER/134589/Abstract/paragraph_4.txt\n",
      "\n",
      "Processing the txt file ../OUTPUT_FOLDER/2660324/Body/Co-signatures/paragraph_14.txt\n",
      "\n",
      "Processing the txt file ../OUTPUT_FOLDER/2660324/Body/Co-signatures/paragraph_9.txt\n",
      "\n",
      "Processing the txt file ../OUTPUT_FOLDER/2660324/Body/Co-signatures/paragraph_19.txt\n",
      "\n",
      "It took 655.72 seconds for the folder 1692705\n",
      "Starting process for ../OUTPUT_FOLDER/6762805 at time=1725204345.0856726\n",
      "\n",
      "Processing the txt file ../OUTPUT_FOLDER/6762805/Abstract/paragraph_1.txt\n",
      "\n",
      "Processing the txt file ../OUTPUT_FOLDER/2817684/Body/Results/paragraph_8.txt\n",
      "\n"
     ]
    },
    {
     "name": "stderr",
     "output_type": "stream",
     "text": [
      "Applied processor reduces input query to empty string, all comparisons will have score 0. [Query: '']\n"
     ]
    },
    {
     "name": "stdout",
     "output_type": "stream",
     "text": [
      "Processing the txt file ../OUTPUT_FOLDER/2660324/Body/Co-signatures/paragraph_16.txt\n",
      "\n"
     ]
    },
    {
     "name": "stderr",
     "output_type": "stream",
     "text": [
      "Applied processor reduces input query to empty string, all comparisons will have score 0. [Query: '→']\n",
      "Applied processor reduces input query to empty string, all comparisons will have score 0. [Query: '∞)']\n"
     ]
    },
    {
     "name": "stdout",
     "output_type": "stream",
     "text": [
      "It took 663.45 seconds for the folder 2758772\n",
      "Starting process for ../OUTPUT_FOLDER/2626170 at time=1725204353.2601576\n",
      "\n",
      "Processing the txt file ../OUTPUT_FOLDER/2626170/Abstract/paragraph_7.txt\n",
      "\n",
      "Processing the txt file ../OUTPUT_FOLDER/2660324/Body/Editorial/paragraph_7.txt\n",
      "\n"
     ]
    },
    {
     "name": "stderr",
     "output_type": "stream",
     "text": [
      "Applied processor reduces input query to empty string, all comparisons will have score 0. [Query: '=']\n"
     ]
    },
    {
     "name": "stdout",
     "output_type": "stream",
     "text": [
      "Processing the txt file ../OUTPUT_FOLDER/1397826/Abstract/paragraph_4.txt\n",
      "\n"
     ]
    },
    {
     "name": "stderr",
     "output_type": "stream",
     "text": [
      "Applied processor reduces input query to empty string, all comparisons will have score 0. [Query: '=']\n",
      "Applied processor reduces input query to empty string, all comparisons will have score 0. [Query: '=']\n",
      "Applied processor reduces input query to empty string, all comparisons will have score 0. [Query: '']\n",
      "Applied processor reduces input query to empty string, all comparisons will have score 0. [Query: '=']\n",
      "Applied processor reduces input query to empty string, all comparisons will have score 0. [Query: '']\n",
      "Applied processor reduces input query to empty string, all comparisons will have score 0. [Query: '=']\n"
     ]
    },
    {
     "name": "stdout",
     "output_type": "stream",
     "text": [
      "It took 680.95 seconds for the folder 2238690\n",
      "Starting process for ../OUTPUT_FOLDER/1357141 at time=1725204369.9368834\n",
      "\n",
      "It took 0.01 seconds for the folder 1357141\n",
      "Starting process for ../OUTPUT_FOLDER/1589908 at time=1725204369.9526172\n",
      "\n",
      "It took 0.01 seconds for the folder 1589908\n",
      "Starting process for ../OUTPUT_FOLDER/1357239 at time=1725204369.9644268\n",
      "\n",
      "It took 0.0 seconds for the folder 1357239\n",
      "Starting process for ../OUTPUT_FOLDER/2567045 at time=1725204369.9824138\n",
      "\n",
      "Processing the txt file ../OUTPUT_FOLDER/2567045/Abstract/paragraph_1.txt\n",
      "\n",
      "It took 682.06 seconds for the folder 2632448\n",
      "Starting process for ../OUTPUT_FOLDER/6674699 at time=1725204371.849278\n",
      "\n",
      "It took 0.01 seconds for the folder 6674699\n",
      "Starting process for ../OUTPUT_FOLDER/2683260 at time=1725204371.869968\n",
      "\n",
      "Processing the txt file ../OUTPUT_FOLDER/2683260/Abstract/paragraph_1.txt\n",
      "\n",
      "Processing the txt file ../OUTPUT_FOLDER/2794495/Body/What is the place of ethics, forensics, and caregiving in medical anthropology and professional psychiatric care_/paragraph_3.txt\n",
      "\n",
      "It took 688.35 seconds for the folder 1586100\n",
      "Starting process for ../OUTPUT_FOLDER/2003207 at time=1725204377.3816936\n",
      "\n",
      "Processing the txt file ../OUTPUT_FOLDER/2003207/Abstract/paragraph_1.txt\n",
      "\n"
     ]
    },
    {
     "name": "stderr",
     "output_type": "stream",
     "text": [
      "Applied processor reduces input query to empty string, all comparisons will have score 0. [Query: '=']\n"
     ]
    },
    {
     "name": "stdout",
     "output_type": "stream",
     "text": [
      "It took 692.13 seconds for the folder 3327293\n",
      "Starting process for ../OUTPUT_FOLDER/1737012 at time=1725204381.263861\n",
      "\n",
      "It took 0.02 seconds for the folder 1737012\n",
      "Starting process for ../OUTPUT_FOLDER/2746321 at time=1725204381.301516\n",
      "\n",
      "Processing the txt file ../OUTPUT_FOLDER/2746321/Abstract/paragraph_1.txt\n",
      "\n"
     ]
    },
    {
     "name": "stderr",
     "output_type": "stream",
     "text": [
      "Applied processor reduces input query to empty string, all comparisons will have score 0. [Query: '=']\n",
      "Applied processor reduces input query to empty string, all comparisons will have score 0. [Query: '→ ∞)']\n",
      "Applied processor reduces input query to empty string, all comparisons will have score 0. [Query: '(']\n"
     ]
    },
    {
     "name": "stdout",
     "output_type": "stream",
     "text": [
      "It took 450.56 seconds for the folder 2563331\n",
      "Starting process for ../OUTPUT_FOLDER/2704600 at time=1725204384.8449385\n",
      "\n",
      "Processing the txt file ../OUTPUT_FOLDER/2704600/Abstract/paragraph_1.txt\n",
      "\n"
     ]
    },
    {
     "name": "stderr",
     "output_type": "stream",
     "text": [
      "Applied processor reduces input query to empty string, all comparisons will have score 0. [Query: '=']\n"
     ]
    },
    {
     "name": "stdout",
     "output_type": "stream",
     "text": [
      "It took 160.21 seconds for the folder 2243655\n",
      "Starting process for ../OUTPUT_FOLDER/3644303 at time=1725204385.6831107\n",
      "\n",
      "Processing the txt file ../OUTPUT_FOLDER/3644303/Abstract/paragraph_1.txt\n",
      "\n",
      "It took 312.68 seconds for the folder 2908329\n",
      "Starting process for ../OUTPUT_FOLDER/1645913 at time=1725204387.306061\n",
      "\n",
      "It took 0.01 seconds for the folder 1645913\n",
      "Starting process for ../OUTPUT_FOLDER/1864213 at time=1725204387.317702\n",
      "\n",
      "It took 0.01 seconds for the folder 1864213\n",
      "Starting process for ../OUTPUT_FOLDER/6870752 at time=1725204387.3305967\n",
      "\n",
      "Processing the txt file ../OUTPUT_FOLDER/6870752/Abstract/paragraph_1.txt\n"
     ]
    },
    {
     "name": "stderr",
     "output_type": "stream",
     "text": [
      "Applied processor reduces input query to empty string, all comparisons will have score 0. [Query: '(>']\n"
     ]
    },
    {
     "name": "stdout",
     "output_type": "stream",
     "text": [
      "\n"
     ]
    },
    {
     "name": "stderr",
     "output_type": "stream",
     "text": [
      "Applied processor reduces input query to empty string, all comparisons will have score 0. [Query: '=']\n"
     ]
    },
    {
     "name": "stdout",
     "output_type": "stream",
     "text": [
      "It took 460.49 seconds for the folder 3314503\n",
      "Starting process for ../OUTPUT_FOLDER/2580731 at time=1725204389.4340413\n",
      "\n",
      "Processing the txt file ../OUTPUT_FOLDER/2580731/Abstract/paragraph_2.txt\n",
      "\n",
      "It took 103.9 seconds for the folder 1693161\n",
      "Starting process for ../OUTPUT_FOLDER/1282928 at time=1725204391.392196\n",
      "\n",
      "Processing the txt file ../OUTPUT_FOLDER/1282928/Abstract/paragraph_1.txt\n",
      "\n",
      "It took 703.05 seconds for the folder 4099046\n",
      "Starting process for ../OUTPUT_FOLDER/1291879 at time=1725204392.3300107\n",
      "\n",
      "It took 0.01 seconds for the folder 1291879\n",
      "Starting process for ../OUTPUT_FOLDER/3451669 at time=1725204392.3481102\n",
      "\n",
      "It took 0.01 seconds for the folder 3451669\n",
      "Starting process for ../OUTPUT_FOLDER/6741263 at time=1725204392.37295\n",
      "\n",
      "Processing the txt file ../OUTPUT_FOLDER/6741263/Abstract/paragraph_1.txt\n",
      "\n",
      "It took 703.69 seconds for the folder 1924802\n",
      "Starting process for ../OUTPUT_FOLDER/2820375 at time=1725204392.7275093\n",
      "\n",
      "Processing the txt file ../OUTPUT_FOLDER/2820375/Abstract/paragraph_1.txt\n",
      "\n"
     ]
    },
    {
     "name": "stderr",
     "output_type": "stream",
     "text": [
      "Applied processor reduces input query to empty string, all comparisons will have score 0. [Query: '–']\n"
     ]
    },
    {
     "name": "stdout",
     "output_type": "stream",
     "text": [
      "It took 473.17 seconds for the folder 1693163\n",
      "Starting process for ../OUTPUT_FOLDER/1571286 at time=1725204393.4077466\n",
      "\n",
      "Processing the txt file ../OUTPUT_FOLDER/1571286/Abstract/paragraph_1.txt\n",
      "\n"
     ]
    },
    {
     "name": "stderr",
     "output_type": "stream",
     "text": [
      "Applied processor reduces input query to empty string, all comparisons will have score 0. [Query: '']\n"
     ]
    },
    {
     "name": "stdout",
     "output_type": "stream",
     "text": [
      "It took 664.18 seconds for the folder 1693170\n",
      "Starting process for ../OUTPUT_FOLDER/1167848 at time=1725204394.5361211\n",
      "\n",
      "It took 0.02 seconds for the folder 1167848\n",
      "Starting process for ../OUTPUT_FOLDER/2892678 at time=1725204394.5598822\n",
      "\n",
      "Processing the txt file ../OUTPUT_FOLDER/2892678/Abstract/paragraph_1.txt\n",
      "\n",
      "It took 707.49 seconds for the folder 2913410\n",
      "Starting process for ../OUTPUT_FOLDER/6788744 at time=1725204397.3796155\n",
      "\n",
      "Processing the txt file ../OUTPUT_FOLDER/6788744/Abstract/paragraph_1.txt\n",
      "\n"
     ]
    },
    {
     "name": "stderr",
     "output_type": "stream",
     "text": [
      "Applied processor reduces input query to empty string, all comparisons will have score 0. [Query: '=']\n",
      "Applied processor reduces input query to empty string, all comparisons will have score 0. [Query: '©']\n"
     ]
    },
    {
     "name": "stdout",
     "output_type": "stream",
     "text": [
      "It took 716.02 seconds for the folder 8096028\n",
      "Starting process for ../OUTPUT_FOLDER/2612075 at time=1725204405.011821\n",
      "\n",
      "It took 0.01 seconds for the folder 2612075\n",
      "Starting process for ../OUTPUT_FOLDER/2798959 at time=1725204405.028524\n",
      "\n",
      "Processing the txt file ../OUTPUT_FOLDER/2798959/Abstract/paragraph_1.txt\n",
      "\n",
      "It took 717.27 seconds for the folder 1693421\n",
      "Starting process for ../OUTPUT_FOLDER/3160474 at time=1725204406.2236676\n",
      "\n",
      "Processing the txt file ../OUTPUT_FOLDER/3160474/Abstract/paragraph_1.txt\n",
      "\n",
      "It took 717.11 seconds for the folder 2879052\n",
      "Starting process for ../OUTPUT_FOLDER/2568723 at time=1725204406.371506\n",
      "\n",
      "It took 0.01 seconds for the folder 2568723\n",
      "Starting process for ../OUTPUT_FOLDER/2606699 at time=1725204406.4015725\n",
      "\n",
      "Processing the txt file ../OUTPUT_FOLDER/2606699/Abstract/paragraph_1.txt\n",
      "\n",
      "Processing the txt file ../OUTPUT_FOLDER/1331416/Abstract/paragraph_5.txt\n",
      "\n",
      "It took 746.68 seconds for the folder 2074932\n",
      "Starting process for ../OUTPUT_FOLDER/3671905 at time=1725204435.5547304\n",
      "\n",
      "Processing the txt file ../OUTPUT_FOLDER/3671905/Abstract/paragraph_1.txt\n",
      "\n",
      "It took 754.7 seconds for the folder 45023\n",
      "Starting process for ../OUTPUT_FOLDER/2704555 at time=1725204443.9979756\n",
      "\n",
      "Processing the txt file ../OUTPUT_FOLDER/2704555/Body/Broadening the net/paragraph_2.txt\n",
      "\n",
      "It took 756.3 seconds for the folder 131040\n",
      "Starting process for ../OUTPUT_FOLDER/1357283 at time=1725204445.2853696\n",
      "\n",
      "It took 0.01 seconds for the folder 1357283\n",
      "Starting process for ../OUTPUT_FOLDER/2637202 at time=1725204445.301734\n",
      "\n",
      "Processing the txt file ../OUTPUT_FOLDER/2637202/Abstract/paragraph_1.txt\n",
      "\n",
      "It took 756.08 seconds for the folder 1626132\n",
      "Starting process for ../OUTPUT_FOLDER/6741651 at time=1725204445.939147\n",
      "\n",
      "Processing the txt file ../OUTPUT_FOLDER/6741651/Abstract/paragraph_2.txt\n",
      "\n",
      "It took 457.96 seconds for the folder 2148425\n",
      "Starting process for ../OUTPUT_FOLDER/5901056 at time=1725204449.9648495\n",
      "\n",
      "Processing the txt file ../OUTPUT_FOLDER/5901056/Abstract/paragraph_1.txt\n",
      "\n",
      "It took 571.19 seconds for the folder 2567873\n",
      "Starting process for ../OUTPUT_FOLDER/2792185 at time=1725204451.9702628\n",
      "\n",
      "Processing the txt file ../OUTPUT_FOLDER/2792185/Abstract/paragraph_1.txt\n",
      "\n",
      "Processing the txt file ../OUTPUT_FOLDER/2794495/Body/What is the place of ethics, forensics, and caregiving in medical anthropology and professional psychiatric care_/paragraph_4.txt\n",
      "\n",
      "It took 592.08 seconds for the folder 1088510\n",
      "Starting process for ../OUTPUT_FOLDER/2247967 at time=1725204456.4187858\n",
      "\n",
      "It took 0.02 seconds for the folder 2247967\n",
      "Starting process for ../OUTPUT_FOLDER/1368877 at time=1725204456.4499369\n",
      "\n",
      "It took 0.01 seconds for the folder 1368877\n",
      "Starting process for ../OUTPUT_FOLDER/6493805 at time=1725204456.4679744\n",
      "\n",
      "Processing the txt file ../OUTPUT_FOLDER/6493805/Abstract/paragraph_1.txt\n",
      "\n",
      "Processing the txt file ../OUTPUT_FOLDER/2787682/Abstract/paragraph_1.txt\n",
      "\n",
      "It took 780.3 seconds for the folder 2361150\n",
      "Starting process for ../OUTPUT_FOLDER/1511910 at time=1725204469.9453351\n",
      "\n",
      "It took 0.01 seconds for the folder 1511910\n",
      "Starting process for ../OUTPUT_FOLDER/2692295 at time=1725204469.9739943\n",
      "\n",
      "It took 0.03 seconds for the folder 2692295\n",
      "Starting process for ../OUTPUT_FOLDER/2953633 at time=1725204470.0189872\n",
      "\n",
      "Processing the txt file ../OUTPUT_FOLDER/2953633/Body/General/paragraph_2.txt\n",
      "\n",
      "It took 780.73 seconds for the folder 2718241\n",
      "Starting process for ../OUTPUT_FOLDER/1359484 at time=1725204470.6435463\n",
      "\n",
      "It took 0.03 seconds for the folder 1359484\n",
      "Starting process for ../OUTPUT_FOLDER/5494713 at time=1725204470.692953\n",
      "\n",
      "It took 0.05 seconds for the folder 5494713\n",
      "Starting process for ../OUTPUT_FOLDER/2670014 at time=1725204470.7474244\n",
      "\n",
      "It took 0.02 seconds for the folder 2670014\n",
      "Starting process for ../OUTPUT_FOLDER/1618513 at time=1725204470.784412\n",
      "\n",
      "Processing the txt file ../OUTPUT_FOLDER/1618513/Abstract/paragraph_1.txt\n",
      "\n",
      "It took 783.94 seconds for the folder 1331416\n",
      "Starting process for ../OUTPUT_FOLDER/2944387 at time=1725204472.8163722\n",
      "\n",
      "Processing the txt file ../OUTPUT_FOLDER/2944387/Abstract/paragraph_1.txt\n",
      "\n"
     ]
    },
    {
     "name": "stderr",
     "output_type": "stream",
     "text": [
      "Applied processor reduces input query to empty string, all comparisons will have score 0. [Query: '']\n"
     ]
    },
    {
     "name": "stdout",
     "output_type": "stream",
     "text": [
      "Processing the txt file ../OUTPUT_FOLDER/2812702/Body/A receptive audience/paragraph_1.txt\n",
      "\n",
      "Processing the txt file ../OUTPUT_FOLDER/2794495/Body/If ground zero for patients globally is social death and exclusion, how can medical anthropologists move beyond stigma in their research_/paragraph_2.txt\n",
      "\n",
      "Processing the txt file ../OUTPUT_FOLDER/509312/Body/Funding the Search/paragraph_2.txt\n",
      "\n",
      "Processing the txt file ../OUTPUT_FOLDER/1892101/Abstract/paragraph_1.txt\n",
      "\n",
      "It took 803.02 seconds for the folder 134589\n",
      "Starting process for ../OUTPUT_FOLDER/5428140 at time=1725204492.0655253\n",
      "\n",
      "Processing the txt file ../OUTPUT_FOLDER/5428140/Abstract/paragraph_1.txt\n",
      "\n",
      "It took 508.96 seconds for the folder 33800\n",
      "Starting process for ../OUTPUT_FOLDER/2543022 at time=1725204496.7630126\n",
      "\n",
      "Processing the txt file ../OUTPUT_FOLDER/2543022/Abstract/paragraph_2.txt\n",
      "\n",
      "Processing the txt file ../OUTPUT_FOLDER/2367448/Body/What Has Computational Neuroscience To Offer_/paragraph_1.txt\n",
      "\n"
     ]
    },
    {
     "name": "stderr",
     "output_type": "stream",
     "text": [
      "Applied processor reduces input query to empty string, all comparisons will have score 0. [Query: '']\n"
     ]
    },
    {
     "name": "stdout",
     "output_type": "stream",
     "text": [
      "Processing the txt file ../OUTPUT_FOLDER/2704555/Body/Broadening the net/paragraph_1.txt\n",
      "\n"
     ]
    },
    {
     "name": "stderr",
     "output_type": "stream",
     "text": [
      "Applied processor reduces input query to empty string, all comparisons will have score 0. [Query: '']\n"
     ]
    },
    {
     "name": "stdout",
     "output_type": "stream",
     "text": [
      "It took 819.89 seconds for the folder 1569502\n",
      "Starting process for ../OUTPUT_FOLDER/1849595 at time=1725204508.7554042\n",
      "\n",
      "It took 0.01 seconds for the folder 1849595\n",
      "Starting process for ../OUTPUT_FOLDER/2598817 at time=1725204508.7773745\n",
      "\n",
      "It took 0.03 seconds for the folder 2598817\n",
      "Starting process for ../OUTPUT_FOLDER/3368645 at time=1725204508.8094444\n",
      "\n",
      "It took 0.02 seconds for the folder 3368645\n",
      "Starting process for ../OUTPUT_FOLDER/6741669 at time=1725204508.8313513\n",
      "\n",
      "Processing the txt file ../OUTPUT_FOLDER/6741669/Abstract/paragraph_1.txt\n",
      "\n",
      "It took 821.83 seconds for the folder 6010166\n",
      "Starting process for ../OUTPUT_FOLDER/1088515 at time=1725204511.122425\n",
      "\n",
      "Processing the txt file ../OUTPUT_FOLDER/1088515/Abstract/paragraph_1.txt\n",
      "\n",
      "Processing the txt file ../OUTPUT_FOLDER/2685001/Body/Results/paragraph_8.txt\n",
      "\n"
     ]
    },
    {
     "name": "stderr",
     "output_type": "stream",
     "text": [
      "Applied processor reduces input query to empty string, all comparisons will have score 0. [Query: '']\n",
      "Applied processor reduces input query to empty string, all comparisons will have score 0. [Query: '']\n",
      "Applied processor reduces input query to empty string, all comparisons will have score 0. [Query: '=']\n"
     ]
    },
    {
     "name": "stdout",
     "output_type": "stream",
     "text": [
      "It took 842.64 seconds for the folder 1838571\n",
      "Starting process for ../OUTPUT_FOLDER/498323 at time=1725204531.7725723\n",
      "\n",
      "Processing the txt file ../OUTPUT_FOLDER/498323/Abstract/paragraph_1.txt\n",
      "\n"
     ]
    },
    {
     "name": "stderr",
     "output_type": "stream",
     "text": [
      "Applied processor reduces input query to empty string, all comparisons will have score 0. [Query: '=']\n",
      "Applied processor reduces input query to empty string, all comparisons will have score 0. [Query: '=']\n",
      "Applied processor reduces input query to empty string, all comparisons will have score 0. [Query: '—']\n",
      "Applied processor reduces input query to empty string, all comparisons will have score 0. [Query: '=']\n"
     ]
    },
    {
     "name": "stdout",
     "output_type": "stream",
     "text": [
      "Processing the txt file ../OUTPUT_FOLDER/300687/Body/Teaming Up/paragraph_4.txt\n",
      "\n"
     ]
    },
    {
     "name": "stderr",
     "output_type": "stream",
     "text": [
      "Applied processor reduces input query to empty string, all comparisons will have score 0. [Query: '—']\n",
      "Applied processor reduces input query to empty string, all comparisons will have score 0. [Query: '']\n",
      "Applied processor reduces input query to empty string, all comparisons will have score 0. [Query: '=']\n",
      "Applied processor reduces input query to empty string, all comparisons will have score 0. [Query: '=']\n"
     ]
    },
    {
     "name": "stdout",
     "output_type": "stream",
     "text": [
      "Processing the txt file ../OUTPUT_FOLDER/2759415/Abstract/paragraph_1.txt\n",
      "\n",
      "It took 241.87 seconds for the folder 2759415\n",
      "Starting process for ../OUTPUT_FOLDER/8809119 at time=1725204544.4896069\n",
      "\n",
      "Processing the txt file ../OUTPUT_FOLDER/8809119/Abstract/paragraph_1.txt\n",
      "\n",
      "Processing the txt file ../OUTPUT_FOLDER/2408653/Body/Results/paragraph_7.txt\n",
      "\n",
      "It took 621.17 seconds for the folder 2211377\n",
      "Starting process for ../OUTPUT_FOLDER/2642897 at time=1725204564.441232\n",
      "\n",
      "It took 0.01 seconds for the folder 2642897\n",
      "Starting process for ../OUTPUT_FOLDER/1553477 at time=1725204564.47153\n",
      "\n",
      "Processing the txt file ../OUTPUT_FOLDER/1553477/Abstract/paragraph_1.txt\n",
      "\n",
      "Processing the txt file ../OUTPUT_FOLDER/2794495/Body/If ground zero for patients globally is social death and exclusion, how can medical anthropologists move beyond stigma in their research_/paragraph_1.txt\n",
      "\n"
     ]
    },
    {
     "name": "stderr",
     "output_type": "stream",
     "text": [
      "Applied processor reduces input query to empty string, all comparisons will have score 0. [Query: '']\n",
      "Applied processor reduces input query to empty string, all comparisons will have score 0. [Query: '']\n",
      "Applied processor reduces input query to empty string, all comparisons will have score 0. [Query: '']\n"
     ]
    },
    {
     "name": "stdout",
     "output_type": "stream",
     "text": [
      "Processing the txt file ../OUTPUT_FOLDER/2367448/Body/What Has Computational Neuroscience To Offer_/paragraph_3.txt\n",
      "\n"
     ]
    },
    {
     "name": "stderr",
     "output_type": "stream",
     "text": [
      "Applied processor reduces input query to empty string, all comparisons will have score 0. [Query: '']\n"
     ]
    },
    {
     "name": "stdout",
     "output_type": "stream",
     "text": [
      "Processing the txt file ../OUTPUT_FOLDER/1892099/Abstract/paragraph_3.txt\n",
      "\n"
     ]
    },
    {
     "name": "stderr",
     "output_type": "stream",
     "text": [
      "Applied processor reduces input query to empty string, all comparisons will have score 0. [Query: '']\n",
      "Applied processor reduces input query to empty string, all comparisons will have score 0. [Query: '']\n"
     ]
    },
    {
     "name": "stdout",
     "output_type": "stream",
     "text": [
      "It took 891.78 seconds for the folder 5917255\n",
      "Starting process for ../OUTPUT_FOLDER/2661130 at time=1725204581.5738766\n",
      "\n",
      "Processing the txt file ../OUTPUT_FOLDER/2661130/Abstract/paragraph_1.txt\n",
      "\n",
      "It took 895.9 seconds for the folder 2607326\n",
      "Starting process for ../OUTPUT_FOLDER/1794674 at time=1725204585.017991\n",
      "\n",
      "Processing the txt file ../OUTPUT_FOLDER/1794674/Abstract/paragraph_1.txt\n",
      "\n",
      "Processing the txt file ../OUTPUT_FOLDER/6741651/Abstract/paragraph_1.txt\n",
      "\n",
      "It took 897.78 seconds for the folder 1367713\n",
      "Starting process for ../OUTPUT_FOLDER/2565399 at time=1725204587.051179\n",
      "\n",
      "It took 0.02 seconds for the folder 2565399\n",
      "Starting process for ../OUTPUT_FOLDER/3753195 at time=1725204587.079495\n",
      "\n",
      "Processing the txt file ../OUTPUT_FOLDER/3753195/Abstract/paragraph_1.txt\n",
      "\n",
      "It took 906.12 seconds for the folder 6871818\n",
      "Starting process for ../OUTPUT_FOLDER/2043677 at time=1725204595.7431927\n",
      "\n",
      "It took 0.01 seconds for the folder 2043677\n",
      "Starting process for ../OUTPUT_FOLDER/1079901 at time=1725204595.7782588\n",
      "\n",
      "Processing the txt file ../OUTPUT_FOLDER/1079901/Abstract/paragraph_1.txt\n",
      "\n",
      "Processing the txt file ../OUTPUT_FOLDER/2794495/Body/General/paragraph_2.txt\n",
      "\n",
      "Processing the txt file ../OUTPUT_FOLDER/2660324/Body/Editorial/paragraph_12.txt\n",
      "\n"
     ]
    },
    {
     "name": "stderr",
     "output_type": "stream",
     "text": [
      "Applied processor reduces input query to empty string, all comparisons will have score 0. [Query: '']\n"
     ]
    },
    {
     "name": "stdout",
     "output_type": "stream",
     "text": [
      "It took 267.15 seconds for the folder 2567045\n",
      "Starting process for ../OUTPUT_FOLDER/535570 at time=1725204637.1822035\n",
      "\n",
      "Processing the txt file ../OUTPUT_FOLDER/535570/Abstract/paragraph_1.txt\n",
      "\n",
      "Processing the txt file ../OUTPUT_FOLDER/2787682/Abstract/paragraph_3.txt\n",
      "\n",
      "It took 545.25 seconds for the folder 2894680\n",
      "Starting process for ../OUTPUT_FOLDER/2841687 at time=1725204640.5731077\n",
      "\n",
      "Processing the txt file ../OUTPUT_FOLDER/2841687/Abstract/paragraph_1.txt\n",
      "\n",
      "Processing the txt file ../OUTPUT_FOLDER/1397826/Abstract/paragraph_5.txt\n",
      "\n"
     ]
    },
    {
     "name": "stderr",
     "output_type": "stream",
     "text": [
      "Applied processor reduces input query to empty string, all comparisons will have score 0. [Query: '–']\n",
      "Applied processor reduces input query to empty string, all comparisons will have score 0. [Query: '–']\n"
     ]
    },
    {
     "name": "stdout",
     "output_type": "stream",
     "text": [
      "Processing the txt file ../OUTPUT_FOLDER/535570/Body/General/paragraph_7.txt\n",
      "\n"
     ]
    },
    {
     "name": "stderr",
     "output_type": "stream",
     "text": [
      "Applied processor reduces input query to empty string, all comparisons will have score 0. [Query: '(']\n",
      "Applied processor reduces input query to empty string, all comparisons will have score 0. [Query: '(']\n"
     ]
    },
    {
     "name": "stdout",
     "output_type": "stream",
     "text": [
      "Processing the txt file ../OUTPUT_FOLDER/2787682/Abstract/paragraph_4.txt\n",
      "\n",
      "It took 977.76 seconds for the folder 6673354\n",
      "Starting process for ../OUTPUT_FOLDER/2757533 at time=1725204667.112865\n",
      "\n",
      "Processing the txt file ../OUTPUT_FOLDER/2757533/Abstract/paragraph_1.txt\n",
      "\n",
      "Processing the txt file ../OUTPUT_FOLDER/509312/Body/Funding the Search/paragraph_1.txt\n",
      "\n",
      "Processing the txt file ../OUTPUT_FOLDER/2787682/Abstract/paragraph_6.txt\n",
      "\n",
      "Processing the txt file ../OUTPUT_FOLDER/2626170/Abstract/paragraph_8.txt\n",
      "\n",
      "It took 996.43 seconds for the folder 2904830\n",
      "Starting process for ../OUTPUT_FOLDER/2441908 at time=1725204685.4188197\n",
      "\n",
      "Processing the txt file ../OUTPUT_FOLDER/2441908/Abstract/paragraph_1.txt\n",
      "\n",
      "It took 998.25 seconds for the folder 2527956\n",
      "Starting process for ../OUTPUT_FOLDER/44497 at time=1725204688.1101692\n",
      "\n",
      "It took 0.01 seconds for the folder 44497\n",
      "Starting process for ../OUTPUT_FOLDER/1368915 at time=1725204688.1441188\n",
      "\n",
      "It took 0.01 seconds for the folder 1368915\n",
      "Starting process for ../OUTPUT_FOLDER/2429996 at time=1725204688.1905892\n",
      "\n",
      "Processing the txt file ../OUTPUT_FOLDER/2429996/Abstract/paragraph_1.txt\n",
      "\n",
      "Processing the txt file ../OUTPUT_FOLDER/2543022/Abstract/paragraph_1.txt\n",
      "\n",
      "It took 537.89 seconds for the folder 1560342\n",
      "Starting process for ../OUTPUT_FOLDER/496487 at time=1725204688.4745717\n",
      "\n",
      "It took 0.01 seconds for the folder 496487\n",
      "Starting process for ../OUTPUT_FOLDER/1618512 at time=1725204688.4836473\n",
      "\n",
      "It took 0.04 seconds for the folder 1618512\n",
      "Starting process for ../OUTPUT_FOLDER/2516006 at time=1725204688.5368092\n",
      "\n",
      "It took 0.01 seconds for the folder 2516006\n",
      "Starting process for ../OUTPUT_FOLDER/1439893 at time=1725204688.5468168\n",
      "\n",
      "It took 0.01 seconds for the folder 1439893\n",
      "Starting process for ../OUTPUT_FOLDER/2767460 at time=1725204688.5823953\n",
      "\n",
      "Processing the txt file ../OUTPUT_FOLDER/2767460/Abstract/paragraph_1.txt\n",
      "\n",
      "It took 317.08 seconds for the folder 2683260\n",
      "Starting process for ../OUTPUT_FOLDER/6568578 at time=1725204688.9641135\n",
      "\n",
      "Processing the txt file ../OUTPUT_FOLDER/6568578/Abstract/paragraph_1.txt\n",
      "\n",
      "It took 1002.11 seconds for the folder 5570446\n",
      "Starting process for ../OUTPUT_FOLDER/15439 at time=1725204691.1067584\n",
      "\n",
      "Processing the txt file ../OUTPUT_FOLDER/15439/Abstract/paragraph_1.txt\n",
      "\n"
     ]
    },
    {
     "name": "stderr",
     "output_type": "stream",
     "text": [
      "Applied processor reduces input query to empty string, all comparisons will have score 0. [Query: '=']\n"
     ]
    },
    {
     "name": "stdout",
     "output_type": "stream",
     "text": [
      "It took 1002.32 seconds for the folder 1949033\n",
      "Starting process for ../OUTPUT_FOLDER/221237 at time=1725204691.9562187\n",
      "\n",
      "It took 0.0 seconds for the folder 221237\n",
      "Starting process for ../OUTPUT_FOLDER/6494123 at time=1725204691.9648821\n",
      "\n",
      "It took 0.03 seconds for the folder 6494123\n",
      "Starting process for ../OUTPUT_FOLDER/2677905 at time=1725204692.0077977\n",
      "\n",
      "Processing the txt file ../OUTPUT_FOLDER/2677905/Abstract/paragraph_1.txt\n",
      "\n",
      "Processing the txt file ../OUTPUT_FOLDER/300687/Body/Teaming Up/paragraph_6.txt\n",
      "\n",
      "It took 242.94 seconds for the folder 5901056\n",
      "Starting process for ../OUTPUT_FOLDER/6673018 at time=1725204692.9221847\n",
      "\n",
      "It took 0.03 seconds for the folder 6673018\n",
      "Starting process for ../OUTPUT_FOLDER/1139711 at time=1725204692.9735663\n",
      "\n",
      "It took 0.04 seconds for the folder 1139711\n",
      "Starting process for ../OUTPUT_FOLDER/6871284 at time=1725204693.023724\n",
      "\n",
      "Processing the txt file ../OUTPUT_FOLDER/6871284/Abstract/paragraph_1.txt\n",
      "\n"
     ]
    },
    {
     "name": "stderr",
     "output_type": "stream",
     "text": [
      "Applied processor reduces input query to empty string, all comparisons will have score 0. [Query: '=']\n"
     ]
    },
    {
     "name": "stdout",
     "output_type": "stream",
     "text": [
      "Processing the txt file ../OUTPUT_FOLDER/2812702/Body/A receptive audience/paragraph_3.txt\n",
      "\n",
      "Processing the txt file ../OUTPUT_FOLDER/2879386/Body/METHODS/paragraph_7.txt\n",
      "\n",
      "It took 1016.28 seconds for the folder 2914629\n",
      "Starting process for ../OUTPUT_FOLDER/3011226 at time=1725204705.2525275\n",
      "\n",
      "Processing the txt file ../OUTPUT_FOLDER/3011226/Abstract/paragraph_1.txt\n",
      "\n"
     ]
    },
    {
     "name": "stderr",
     "output_type": "stream",
     "text": [
      "Applied processor reduces input query to empty string, all comparisons will have score 0. [Query: '©']\n"
     ]
    },
    {
     "name": "stdout",
     "output_type": "stream",
     "text": [
      "Processing the txt file ../OUTPUT_FOLDER/6826829/Body/Future Directions/paragraph_1.txt\n",
      "\n",
      "It took 1019.02 seconds for the folder 6784954\n",
      "Starting process for ../OUTPUT_FOLDER/4752115 at time=1725204708.2881854\n",
      "\n",
      "Processing the txt file ../OUTPUT_FOLDER/4752115/Abstract/paragraph_1.txt\n",
      "\n",
      "It took 1022.94 seconds for the folder 2612999\n",
      "Starting process for ../OUTPUT_FOLDER/1357117 at time=1725204712.5225608\n",
      "\n",
      "It took 0.05 seconds for the folder 1357117\n",
      "Starting process for ../OUTPUT_FOLDER/2980754 at time=1725204712.5889065\n",
      "\n",
      "Processing the txt file ../OUTPUT_FOLDER/2980754/Abstract/paragraph_1.txt\n",
      "\n",
      "It took 1023.9 seconds for the folder 2765818\n",
      "Starting process for ../OUTPUT_FOLDER/1407759 at time=1725204713.4525924\n",
      "\n",
      "It took 0.02 seconds for the folder 1407759\n",
      "Starting process for ../OUTPUT_FOLDER/7974048 at time=1725204713.4884486\n",
      "\n",
      "It took 0.01 seconds for the folder 7974048\n",
      "Starting process for ../OUTPUT_FOLDER/300349 at time=1725204713.5211186\n",
      "\n",
      "It took 0.02 seconds for the folder 300349\n",
      "Starting process for ../OUTPUT_FOLDER/2894662 at time=1725204713.5501165\n",
      "\n",
      "Processing the txt file ../OUTPUT_FOLDER/2894662/Abstract/paragraph_1.txt\n",
      "\n",
      "Processing the txt file ../OUTPUT_FOLDER/2953633/Body/General/paragraph_1.txt\n",
      "\n",
      "Processing the txt file ../OUTPUT_FOLDER/2704555/Body/Broadening the net/paragraph_3.txt\n",
      "\n",
      "It took 486.61 seconds for the folder 2031949\n",
      "Starting process for ../OUTPUT_FOLDER/2787707 at time=1725204731.4956043\n",
      "\n",
      "Processing the txt file ../OUTPUT_FOLDER/2787707/Abstract/paragraph_1.txt\n",
      "\n",
      "Processing the txt file ../OUTPUT_FOLDER/1397826/Body/Pre-publication history/paragraph_2.txt\n",
      "\n",
      "Processing the txt file ../OUTPUT_FOLDER/1397826/Body/Pre-publication history/paragraph_1.txt\n",
      "\n",
      "Processing the txt file ../OUTPUT_FOLDER/1397826/Body/Results/paragraph_2.txt\n",
      "\n",
      "Processing the txt file ../OUTPUT_FOLDER/1079901/Body/General/paragraph_2.txt\n",
      "\n"
     ]
    },
    {
     "name": "stderr",
     "output_type": "stream",
     "text": [
      "Applied processor reduces input query to empty string, all comparisons will have score 0. [Query: '']\n"
     ]
    },
    {
     "name": "stdout",
     "output_type": "stream",
     "text": [
      "Processing the txt file ../OUTPUT_FOLDER/2794495/Body/General/paragraph_1.txt\n",
      "\n",
      "It took 159.83 seconds for the folder 1794674\n",
      "Starting process for ../OUTPUT_FOLDER/3819210 at time=1725204744.8878539\n",
      "\n",
      "Processing the txt file ../OUTPUT_FOLDER/3819210/Abstract/paragraph_1.txt\n",
      "\n",
      "It took 1057.17 seconds for the folder 6568584\n",
      "Starting process for ../OUTPUT_FOLDER/2606706 at time=1725204746.9653776\n",
      "\n",
      "Processing the txt file ../OUTPUT_FOLDER/2606706/Abstract/paragraph_1.txt\n",
      "\n",
      "It took 1048.15 seconds for the folder 2830247\n",
      "Starting process for ../OUTPUT_FOLDER/2040432 at time=1725204761.5556986\n",
      "\n",
      "Processing the txt file ../OUTPUT_FOLDER/2040432/Abstract/paragraph_1.txt\n",
      "\n",
      "It took 418.13 seconds for the folder 6762805\n",
      "Starting process for ../OUTPUT_FOLDER/2606797 at time=1725204763.263253\n",
      "\n",
      "Processing the txt file ../OUTPUT_FOLDER/2606797/Abstract/paragraph_1.txt\n",
      "\n",
      "It took 965.68 seconds for the folder 33612\n",
      "Starting process for ../OUTPUT_FOLDER/2147472 at time=1725204769.4048073\n",
      "\n",
      "Processing the txt file ../OUTPUT_FOLDER/2147472/Abstract/paragraph_1.txt\n",
      "\n",
      "It took 1080.67 seconds for the folder 6872020\n",
      "Starting process for ../OUTPUT_FOLDER/6666062 at time=1725204770.0733645\n",
      "\n",
      "It took 0.01 seconds for the folder 6666062\n",
      "Starting process for ../OUTPUT_FOLDER/1202448 at time=1725204770.0832183\n",
      "\n",
      "It took 0.0 seconds for the folder 1202448\n",
      "Starting process for ../OUTPUT_FOLDER/6871378 at time=1725204770.0922177\n",
      "\n",
      "Processing the txt file ../OUTPUT_FOLDER/6871378/Abstract/paragraph_1.txt\n",
      "\n",
      "It took 471.48 seconds for the folder 2949688\n",
      "Starting process for ../OUTPUT_FOLDER/2721780 at time=1725204771.64566\n",
      "\n",
      "Processing the txt file ../OUTPUT_FOLDER/2721780/Abstract/paragraph_1.txt\n",
      "\n",
      "Processing the txt file ../OUTPUT_FOLDER/2441775/Body/Introduction/paragraph_2.txt\n",
      "\n"
     ]
    },
    {
     "name": "stderr",
     "output_type": "stream",
     "text": [
      "Applied processor reduces input query to empty string, all comparisons will have score 0. [Query: '–']\n"
     ]
    },
    {
     "name": "stdout",
     "output_type": "stream",
     "text": [
      "It took 770.46 seconds for the folder 3753668\n",
      "Starting process for ../OUTPUT_FOLDER/2567046 at time=1725204773.7099292\n",
      "\n",
      "Processing the txt file ../OUTPUT_FOLDER/2567046/Abstract/paragraph_1.txt\n",
      "\n"
     ]
    },
    {
     "name": "stderr",
     "output_type": "stream",
     "text": [
      "Applied processor reduces input query to empty string, all comparisons will have score 0. [Query: '–']\n"
     ]
    },
    {
     "name": "stdout",
     "output_type": "stream",
     "text": [
      "It took 1085.82 seconds for the folder 2667097\n",
      "Starting process for ../OUTPUT_FOLDER/2229370 at time=1725204775.5875301\n",
      "\n",
      "Processing the txt file ../OUTPUT_FOLDER/2229370/Abstract/paragraph_1.txt\n",
      "\n"
     ]
    },
    {
     "name": "stderr",
     "output_type": "stream",
     "text": [
      "Applied processor reduces input query to empty string, all comparisons will have score 0. [Query: '']\n",
      "Applied processor reduces input query to empty string, all comparisons will have score 0. [Query: '']\n",
      "Applied processor reduces input query to empty string, all comparisons will have score 0. [Query: '']\n",
      "Applied processor reduces input query to empty string, all comparisons will have score 0. [Query: '©']\n"
     ]
    },
    {
     "name": "stdout",
     "output_type": "stream",
     "text": [
      "Processing the txt file ../OUTPUT_FOLDER/2787682/Abstract/paragraph_5.txt\n",
      "\n",
      "Processing the txt file ../OUTPUT_FOLDER/6741651/Abstract/paragraph_3.txt\n",
      "\n",
      "It took 1117.95 seconds for the folder 2802537\n",
      "Starting process for ../OUTPUT_FOLDER/1299294 at time=1725204807.0356503\n",
      "\n",
      "Processing the txt file ../OUTPUT_FOLDER/1299294/Abstract/paragraph_1.txt\n",
      "\n",
      "It took 1120.34 seconds for the folder 5901350\n",
      "Starting process for ../OUTPUT_FOLDER/1188644 at time=1725204809.2298882\n",
      "\n",
      "It took 0.01 seconds for the folder 1188644\n",
      "Starting process for ../OUTPUT_FOLDER/5901231 at time=1725204809.2434082\n",
      "\n",
      "It took 0.01 seconds for the folder 5901231\n",
      "Starting process for ../OUTPUT_FOLDER/1464210 at time=1725204809.2592015\n",
      "\n",
      "It took 0.01 seconds for the folder 1464210\n",
      "Starting process for ../OUTPUT_FOLDER/3605912 at time=1725204809.2802916\n",
      "\n",
      "It took 0.02 seconds for the folder 3605912\n",
      "Starting process for ../OUTPUT_FOLDER/479966 at time=1725204809.3091302\n",
      "\n",
      "It took 0.01 seconds for the folder 479966\n",
      "Starting process for ../OUTPUT_FOLDER/1357087 at time=1725204809.3207479\n",
      "\n",
      "It took 0.04 seconds for the folder 1357087\n",
      "Starting process for ../OUTPUT_FOLDER/2565338 at time=1725204809.3681123\n",
      "\n",
      "It took 0.02 seconds for the folder 2565338\n",
      "Starting process for ../OUTPUT_FOLDER/300411 at time=1725204809.3918877\n",
      "\n",
      "It took 0.01 seconds for the folder 300411\n",
      "Starting process for ../OUTPUT_FOLDER/2169719 at time=1725204809.4085908\n",
      "\n",
      "It took 0.01 seconds for the folder 2169719\n",
      "Starting process for ../OUTPUT_FOLDER/2584742 at time=1725204809.4219334\n",
      "\n",
      "It took 0.01 seconds for the folder 2584742\n",
      "Starting process for ../OUTPUT_FOLDER/491170 at time=1725204809.4363165\n",
      "\n",
      "It took 0.01 seconds for the folder 491170\n",
      "Starting process for ../OUTPUT_FOLDER/1898095 at time=1725204809.4509196\n",
      "\n",
      "It took 0.01 seconds for the folder 1898095\n",
      "Starting process for ../OUTPUT_FOLDER/1618521 at time=1725204809.4756281\n",
      "\n",
      "It took 0.01 seconds for the folder 1618521\n",
      "Starting process for ../OUTPUT_FOLDER/1635408 at time=1725204809.4861076\n",
      "\n",
      "Processing the txt file ../OUTPUT_FOLDER/1635408/Abstract/paragraph_1.txt\n",
      "\n",
      "It took 424.61 seconds for the folder 6788744\n",
      "Starting process for ../OUTPUT_FOLDER/2863127 at time=1725204822.0134537\n",
      "\n",
      "Processing the txt file ../OUTPUT_FOLDER/2863127/Abstract/paragraph_1.txt\n",
      "\n",
      "It took 17.29 seconds for the folder 1299294\n",
      "Starting process for ../OUTPUT_FOLDER/1560535 at time=1725204824.3395424\n",
      "\n",
      "Processing the txt file ../OUTPUT_FOLDER/1560535/Abstract/paragraph_1.txt\n",
      "\n",
      "It took 1136.03 seconds for the folder 2879259\n",
      "Starting process for ../OUTPUT_FOLDER/1693168 at time=1725204825.6769092\n",
      "\n",
      "It took 0.02 seconds for the folder 1693168\n",
      "Starting process for ../OUTPUT_FOLDER/6730093 at time=1725204825.710876\n",
      "\n",
      "It took 0.01 seconds for the folder 6730093\n",
      "Starting process for ../OUTPUT_FOLDER/389501 at time=1725204825.7247605\n",
      "\n",
      "Processing the txt file ../OUTPUT_FOLDER/389501/Abstract/paragraph_1.txt\n",
      "\n",
      "It took 294.16 seconds for the folder 8809119\n",
      "Starting process for ../OUTPUT_FOLDER/4476904 at time=1725204838.667195\n",
      "\n",
      "Processing the txt file ../OUTPUT_FOLDER/4476904/Abstract/paragraph_1.txt\n",
      "\n",
      "It took 519.46 seconds for the folder 2787682\n",
      "Starting process for ../OUTPUT_FOLDER/2459221 at time=1725204839.4165766\n",
      "\n",
      "It took 0.02 seconds for the folder 2459221\n",
      "Starting process for ../OUTPUT_FOLDER/1591671 at time=1725204839.471164\n",
      "\n",
      "It took 0.02 seconds for the folder 1591671\n",
      "Starting process for ../OUTPUT_FOLDER/3732827 at time=1725204839.4963675\n",
      "\n",
      "It took 0.01 seconds for the folder 3732827\n",
      "Starting process for ../OUTPUT_FOLDER/6575720 at time=1725204839.5346472\n",
      "\n",
      "Processing the txt file ../OUTPUT_FOLDER/6575720/Abstract/paragraph_1.txt\n",
      "\n",
      "It took 1158.38 seconds for the folder 2892104\n",
      "Starting process for ../OUTPUT_FOLDER/1368928 at time=1725204847.5550854\n",
      "\n",
      "It took 0.01 seconds for the folder 1368928\n",
      "Starting process for ../OUTPUT_FOLDER/6674678 at time=1725204847.5716574\n",
      "\n",
      "It took 0.08 seconds for the folder 6674678\n",
      "Starting process for ../OUTPUT_FOLDER/2743487 at time=1725204847.6588883\n",
      "\n",
      "Processing the txt file ../OUTPUT_FOLDER/2743487/Abstract/paragraph_1.txt\n",
      "\n",
      "Processing the txt file ../OUTPUT_FOLDER/1892099/Body/Methods/paragraph_48.txt\n",
      "\n"
     ]
    },
    {
     "name": "stderr",
     "output_type": "stream",
     "text": [
      "Applied processor reduces input query to empty string, all comparisons will have score 0. [Query: '•']\n"
     ]
    },
    {
     "name": "stdout",
     "output_type": "stream",
     "text": [
      "Processing the txt file ../OUTPUT_FOLDER/2377267/Body/Results/paragraph_8.txt\n",
      "\n"
     ]
    },
    {
     "name": "stderr",
     "output_type": "stream",
     "text": [
      "Applied processor reduces input query to empty string, all comparisons will have score 0. [Query: '–']\n"
     ]
    },
    {
     "name": "stdout",
     "output_type": "stream",
     "text": [
      "It took 1174.84 seconds for the folder 1569494\n",
      "Starting process for ../OUTPUT_FOLDER/2670042 at time=1725204864.4187026\n",
      "\n",
      "It took 0.01 seconds for the folder 2670042\n",
      "Starting process for ../OUTPUT_FOLDER/2203192 at time=1725204864.4382381\n",
      "\n",
      "Processing the txt file ../OUTPUT_FOLDER/2203192/Abstract/paragraph_1.txt\n",
      "\n"
     ]
    },
    {
     "name": "stderr",
     "output_type": "stream",
     "text": [
      "Applied processor reduces input query to empty string, all comparisons will have score 0. [Query: '–']\n",
      "Applied processor reduces input query to empty string, all comparisons will have score 0. [Query: '–']\n",
      "Applied processor reduces input query to empty string, all comparisons will have score 0. [Query: ')']\n"
     ]
    },
    {
     "name": "stdout",
     "output_type": "stream",
     "text": [
      "Processing the txt file ../OUTPUT_FOLDER/300687/Body/Teaming Up/paragraph_5.txt\n",
      "\n"
     ]
    },
    {
     "name": "stderr",
     "output_type": "stream",
     "text": [
      "Applied processor reduces input query to empty string, all comparisons will have score 0. [Query: ')']\n",
      "Applied processor reduces input query to empty string, all comparisons will have score 0. [Query: '–']\n"
     ]
    },
    {
     "name": "stdout",
     "output_type": "stream",
     "text": [
      "It took 486.31 seconds for the folder 3644303\n",
      "Starting process for ../OUTPUT_FOLDER/1879310 at time=1725204872.0256386\n",
      "\n",
      "It took 0.02 seconds for the folder 1879310\n",
      "Starting process for ../OUTPUT_FOLDER/1114505 at time=1725204872.0568984\n",
      "\n",
      "It took 0.02 seconds for the folder 1114505\n",
      "Starting process for ../OUTPUT_FOLDER/1693165 at time=1725204872.098501\n",
      "\n",
      "Processing the txt file ../OUTPUT_FOLDER/1693165/Abstract/paragraph_1.txt\n",
      "\n"
     ]
    },
    {
     "name": "stderr",
     "output_type": "stream",
     "text": [
      "Applied processor reduces input query to empty string, all comparisons will have score 0. [Query: '–']\n"
     ]
    },
    {
     "name": "stdout",
     "output_type": "stream",
     "text": [
      "It took 692.25 seconds for the folder 2150566\n",
      "Starting process for ../OUTPUT_FOLDER/1368940 at time=1725204881.3926415\n",
      "\n",
      "It took 0.1 seconds for the folder 1368940\n",
      "Starting process for ../OUTPUT_FOLDER/2754208 at time=1725204881.4947498\n",
      "\n",
      "Processing the txt file ../OUTPUT_FOLDER/2754208/Abstract/paragraph_1.txt\n",
      "\n",
      "Processing the txt file ../OUTPUT_FOLDER/2626170/Abstract/paragraph_2.txt\n",
      "\n",
      "It took 1203.31 seconds for the folder 1995661\n",
      "Starting process for ../OUTPUT_FOLDER/6576740 at time=1725204893.043981\n",
      "\n",
      "It took 0.04 seconds for the folder 6576740\n",
      "Starting process for ../OUTPUT_FOLDER/2553366 at time=1725204893.1012454\n",
      "\n",
      "Processing the txt file ../OUTPUT_FOLDER/2553366/Abstract/paragraph_1.txt\n",
      "\n",
      "Processing the txt file ../OUTPUT_FOLDER/2953633/Body/General/paragraph_3.txt\n",
      "\n",
      "Processing the txt file ../OUTPUT_FOLDER/2626170/Abstract/paragraph_1.txt\n",
      "\n",
      "Processing the txt file ../OUTPUT_FOLDER/1892099/Body/Methods/paragraph_75.txt\n",
      "\n",
      "It took 1211.43 seconds for the folder 1550347\n",
      "Starting process for ../OUTPUT_FOLDER/6725834 at time=1725204900.9399312\n",
      "\n",
      "It took 0.01 seconds for the folder 6725834\n",
      "Starting process for ../OUTPUT_FOLDER/56982 at time=1725204900.953787\n",
      "\n",
      "Processing the txt file ../OUTPUT_FOLDER/56982/Abstract/paragraph_1.txt\n",
      "\n",
      "Processing the txt file ../OUTPUT_FOLDER/2660324/Body/Editorial/paragraph_13.txt\n",
      "\n",
      "Processing the txt file ../OUTPUT_FOLDER/2367448/Body/What Has Computational Neuroscience To Offer_/paragraph_4.txt\n",
      "\n",
      "Processing the txt file ../OUTPUT_FOLDER/1892099/Body/Methods/paragraph_36.txt\n",
      "\n"
     ]
    },
    {
     "name": "stderr",
     "output_type": "stream",
     "text": [
      "Applied processor reduces input query to empty string, all comparisons will have score 0. [Query: '(']\n"
     ]
    },
    {
     "name": "stdout",
     "output_type": "stream",
     "text": [
      "Processing the txt file ../OUTPUT_FOLDER/2660324/Body/Editorial/paragraph_8.txt\n",
      "\n"
     ]
    },
    {
     "name": "stderr",
     "output_type": "stream",
     "text": [
      "Applied processor reduces input query to empty string, all comparisons will have score 0. [Query: '']\n"
     ]
    },
    {
     "name": "stdout",
     "output_type": "stream",
     "text": [
      "Processing the txt file ../OUTPUT_FOLDER/2794495/Body/How will medical anthropology deal with modern neurobiology_/paragraph_2.txt\n",
      "\n"
     ]
    },
    {
     "name": "stderr",
     "output_type": "stream",
     "text": [
      "Applied processor reduces input query to empty string, all comparisons will have score 0. [Query: '']\n"
     ]
    },
    {
     "name": "stdout",
     "output_type": "stream",
     "text": [
      "It took 149.45 seconds for the folder 2147472\n",
      "Starting process for ../OUTPUT_FOLDER/128570 at time=1725204918.8729172\n",
      "\n",
      "Processing the txt file ../OUTPUT_FOLDER/128570/Abstract/paragraph_1.txt\n",
      "\n",
      "Processing the txt file ../OUTPUT_FOLDER/1892099/Body/Methods/paragraph_80.txt\n",
      "\n",
      "Processing the txt file ../OUTPUT_FOLDER/2626170/Abstract/paragraph_3.txt\n",
      "\n",
      "It took 972.1 seconds for the folder 2721972\n",
      "Starting process for ../OUTPUT_FOLDER/2699840 at time=1725204944.6000447\n",
      "\n",
      "Processing the txt file ../OUTPUT_FOLDER/2699840/Abstract/paragraph_1.txt\n",
      "\n",
      "Processing the txt file ../OUTPUT_FOLDER/2626170/Abstract/paragraph_4.txt\n",
      "\n",
      "It took 99.08 seconds for the folder 1693165\n",
      "Starting process for ../OUTPUT_FOLDER/2518468 at time=1725204971.1872573\n",
      "\n",
      "Processing the txt file ../OUTPUT_FOLDER/2518468/Abstract/paragraph_1.txt\n",
      "\n",
      "Processing the txt file ../OUTPUT_FOLDER/2626170/Abstract/paragraph_6.txt\n",
      "\n",
      "Processing the txt file ../OUTPUT_FOLDER/2636771/Abstract/paragraph_3.txt\n",
      "\n",
      "Processing the txt file ../OUTPUT_FOLDER/2794495/Body/How will medical anthropology deal with modern neurobiology_/paragraph_1.txt\n",
      "\n",
      "Processing the txt file ../OUTPUT_FOLDER/2798959/Body/3 Results/paragraph_2.txt\n",
      "\n",
      "It took 696.48 seconds for the folder 2708671\n",
      "Starting process for ../OUTPUT_FOLDER/1069062 at time=1725204986.1172132\n",
      "\n",
      "Processing the txt file ../OUTPUT_FOLDER/1069062/Abstract/paragraph_2.txt\n",
      "\n",
      "Processing the txt file ../OUTPUT_FOLDER/2660324/Body/Editorial/paragraph_2.txt\n",
      "\n",
      "Processing the txt file ../OUTPUT_FOLDER/1397826/Body/Results/paragraph_1.txt\n",
      "\n"
     ]
    },
    {
     "name": "stderr",
     "output_type": "stream",
     "text": [
      "Applied processor reduces input query to empty string, all comparisons will have score 0. [Query: '=']\n",
      "Applied processor reduces input query to empty string, all comparisons will have score 0. [Query: '']\n"
     ]
    },
    {
     "name": "stdout",
     "output_type": "stream",
     "text": [
      "It took 683.03 seconds for the folder 1693454\n",
      "Starting process for ../OUTPUT_FOLDER/2677026 at time=1725204989.6202648\n",
      "\n",
      "Processing the txt file ../OUTPUT_FOLDER/2677026/Abstract/paragraph_1.txt\n",
      "\n"
     ]
    },
    {
     "name": "stderr",
     "output_type": "stream",
     "text": [
      "Applied processor reduces input query to empty string, all comparisons will have score 0. [Query: '=']\n",
      "Applied processor reduces input query to empty string, all comparisons will have score 0. [Query: '']\n",
      "Applied processor reduces input query to empty string, all comparisons will have score 0. [Query: '=']\n",
      "Applied processor reduces input query to empty string, all comparisons will have score 0. [Query: '=']\n",
      "Applied processor reduces input query to empty string, all comparisons will have score 0. [Query: '=']\n",
      "Applied processor reduces input query to empty string, all comparisons will have score 0. [Query: ')']\n",
      "Applied processor reduces input query to empty string, all comparisons will have score 0. [Query: '']\n",
      "Applied processor reduces input query to empty string, all comparisons will have score 0. [Query: '']\n",
      "Applied processor reduces input query to empty string, all comparisons will have score 0. [Query: '']\n"
     ]
    },
    {
     "name": "stdout",
     "output_type": "stream",
     "text": [
      "It took 673.67 seconds for the folder 1634799\n",
      "Starting process for ../OUTPUT_FOLDER/292490 at time=1725205000.0843124\n",
      "\n",
      "It took 0.01 seconds for the folder 292490\n",
      "Starting process for ../OUTPUT_FOLDER/2768388 at time=1725205000.1108944\n",
      "\n",
      "It took 0.01 seconds for the folder 2768388\n",
      "Starting process for ../OUTPUT_FOLDER/2927367 at time=1725205000.130934\n",
      "\n",
      "Processing the txt file ../OUTPUT_FOLDER/2927367/Abstract/paragraph_1.txt\n",
      "\n",
      "Processing the txt file ../OUTPUT_FOLDER/2794495/Body/How will medical anthropology deal with modern neurobiology_/paragraph_3.txt\n",
      "\n",
      "Processing the txt file ../OUTPUT_FOLDER/1892101/Abstract/paragraph_3.txt\n",
      "\n",
      "It took 624.45 seconds for the folder 2820375\n",
      "Starting process for ../OUTPUT_FOLDER/6674918 at time=1725205017.2231886\n",
      "\n",
      "It took 0.02 seconds for the folder 6674918\n",
      "Starting process for ../OUTPUT_FOLDER/1472482 at time=1725205017.261762\n",
      "\n",
      "It took 0.03 seconds for the folder 1472482\n",
      "Starting process for ../OUTPUT_FOLDER/524249 at time=1725205017.3224277\n",
      "\n",
      "Processing the txt file ../OUTPUT_FOLDER/524249/Abstract/paragraph_2.txt\n",
      "\n"
     ]
    },
    {
     "name": "stderr",
     "output_type": "stream",
     "text": [
      "Applied processor reduces input query to empty string, all comparisons will have score 0. [Query: '-']\n",
      "Applied processor reduces input query to empty string, all comparisons will have score 0. [Query: '-']\n"
     ]
    },
    {
     "name": "stdout",
     "output_type": "stream",
     "text": [
      "Processing the txt file ../OUTPUT_FOLDER/535570/Body/General/paragraph_12.txt\n",
      "\n"
     ]
    },
    {
     "name": "stderr",
     "output_type": "stream",
     "text": [
      "Applied processor reduces input query to empty string, all comparisons will have score 0. [Query: '(']\n"
     ]
    },
    {
     "name": "stdout",
     "output_type": "stream",
     "text": [
      "Processing the txt file ../OUTPUT_FOLDER/2879386/Body/METHODS/paragraph_12.txt\n",
      "\n"
     ]
    },
    {
     "name": "stderr",
     "output_type": "stream",
     "text": [
      "Applied processor reduces input query to empty string, all comparisons will have score 0. [Query: '']\n"
     ]
    },
    {
     "name": "stdout",
     "output_type": "stream",
     "text": [
      "It took 506.06 seconds for the folder 498323\n",
      "Starting process for ../OUTPUT_FOLDER/2195448 at time=1725205037.8460264\n",
      "\n",
      "Processing the txt file ../OUTPUT_FOLDER/2195448/Abstract/paragraph_1.txt\n",
      "\n",
      "Processing the txt file ../OUTPUT_FOLDER/2794495/Body/How will medical anthropology deal with modern neurobiology_/paragraph_4.txt\n",
      "\n",
      "Processing the txt file ../OUTPUT_FOLDER/2292479/Body/Freezers/paragraph_2.txt\n",
      "\n",
      "Processing the txt file ../OUTPUT_FOLDER/1892099/Body/Methods/paragraph_40.txt\n",
      "\n",
      "It took 311.42 seconds for the folder 2606706\n",
      "Starting process for ../OUTPUT_FOLDER/6741751 at time=1725205058.4094079\n",
      "\n",
      "Processing the txt file ../OUTPUT_FOLDER/6741751/Abstract/paragraph_1.txt\n",
      "\n",
      "Processing the txt file ../OUTPUT_FOLDER/1892099/Body/Methods/paragraph_84.txt\n",
      "\n",
      "It took 242.66 seconds for the folder 1560535\n",
      "Starting process for ../OUTPUT_FOLDER/2743139 at time=1725205067.0225317\n",
      "\n",
      "Processing the txt file ../OUTPUT_FOLDER/2743139/Abstract/paragraph_1.txt\n",
      "\n",
      "Processing the txt file ../OUTPUT_FOLDER/2660436/Body/The Future of “Noise Benefits” Research in Biology and Biomedical Engineering/paragraph_7.txt\n",
      "\n",
      "Processing the txt file ../OUTPUT_FOLDER/2408653/Body/Results/paragraph_12.txt\n",
      "\n",
      "Processing the txt file ../OUTPUT_FOLDER/2794495/Body/How will medical anthropology deal with modern neurobiology_/paragraph_5.txt\n",
      "\n",
      "It took 348.64 seconds for the folder 2787707\n",
      "Starting process for ../OUTPUT_FOLDER/1088512 at time=1725205080.1519578\n",
      "\n",
      "Processing the txt file ../OUTPUT_FOLDER/1088512/Abstract/paragraph_1.txt\n",
      "\n",
      "Processing the txt file ../OUTPUT_FOLDER/2626170/Abstract/paragraph_5.txt\n",
      "\n",
      "It took 1027.43 seconds for the folder 2814928\n",
      "Starting process for ../OUTPUT_FOLDER/4357357 at time=1725205086.794917\n",
      "\n",
      "Processing the txt file ../OUTPUT_FOLDER/4357357/Abstract/paragraph_1.txt\n",
      "\n",
      "It took 764.04 seconds for the folder 1088511\n",
      "Starting process for ../OUTPUT_FOLDER/2464323 at time=1725205091.136184\n",
      "\n",
      "It took 0.02 seconds for the folder 2464323\n",
      "Starting process for ../OUTPUT_FOLDER/2767390 at time=1725205091.1805253\n",
      "\n",
      "Processing the txt file ../OUTPUT_FOLDER/2767390/Abstract/paragraph_1.txt\n",
      "\n",
      "Processing the txt file ../OUTPUT_FOLDER/2812702/Body/A receptive audience/paragraph_4.txt\n",
      "\n",
      "It took 1404.89 seconds for the folder 2794495\n",
      "Starting process for ../OUTPUT_FOLDER/4831053 at time=1725205094.2485332\n",
      "\n",
      "Processing the txt file ../OUTPUT_FOLDER/4831053/Abstract/paragraph_1.txt\n",
      "\n",
      "It took 660.31 seconds for the folder 3671905\n",
      "Starting process for ../OUTPUT_FOLDER/6793177 at time=1725205095.8748713\n",
      "\n",
      "Processing the txt file ../OUTPUT_FOLDER/6793177/Abstract/paragraph_2.txt\n",
      "\n",
      "It took 744.88 seconds for the folder 2626170\n",
      "Starting process for ../OUTPUT_FOLDER/2663521 at time=1725205098.1692057\n",
      "\n",
      "Processing the txt file ../OUTPUT_FOLDER/2663521/Abstract/paragraph_1.txt\n",
      "\n",
      "Processing the txt file ../OUTPUT_FOLDER/524249/Abstract/paragraph_1.txt\n",
      "\n",
      "It took 701.51 seconds for the folder 2606699\n",
      "Starting process for ../OUTPUT_FOLDER/2879381 at time=1725205107.934098\n",
      "\n",
      "Processing the txt file ../OUTPUT_FOLDER/2879381/Abstract/paragraph_1.txt\n",
      "\n",
      "It took 723.59 seconds for the folder 2704600\n",
      "Starting process for ../OUTPUT_FOLDER/1015277 at time=1725205108.4625762\n",
      "\n",
      "It took 0.02 seconds for the folder 1015277\n",
      "Starting process for ../OUTPUT_FOLDER/44423 at time=1725205108.504585\n",
      "\n",
      "Processing the txt file ../OUTPUT_FOLDER/44423/Abstract/paragraph_1.txt\n",
      "\n",
      "Processing the txt file ../OUTPUT_FOLDER/2441775/Body/Introduction/paragraph_1.txt\n",
      "\n",
      "Processing the txt file ../OUTPUT_FOLDER/1892099/Body/Methods/paragraph_92.txt\n",
      "\n"
     ]
    },
    {
     "name": "stderr",
     "output_type": "stream",
     "text": [
      "Applied processor reduces input query to empty string, all comparisons will have score 0. [Query: '•']\n",
      "Applied processor reduces input query to empty string, all comparisons will have score 0. [Query: '']\n"
     ]
    },
    {
     "name": "stdout",
     "output_type": "stream",
     "text": [
      "Processing the txt file ../OUTPUT_FOLDER/2580731/Abstract/paragraph_1.txt\n",
      "\n"
     ]
    },
    {
     "name": "stderr",
     "output_type": "stream",
     "text": [
      "Applied processor reduces input query to empty string, all comparisons will have score 0. [Query: '–']\n",
      "Applied processor reduces input query to empty string, all comparisons will have score 0. [Query: '–']\n"
     ]
    },
    {
     "name": "stdout",
     "output_type": "stream",
     "text": [
      "Processing the txt file ../OUTPUT_FOLDER/2944387/Body/A cost function for deep brain stimulation/paragraph_7.txt\n",
      "\n",
      "It took 438.86 seconds for the folder 2767460\n",
      "Starting process for ../OUTPUT_FOLDER/1693154 at time=1725205127.4673758\n",
      "\n",
      "Processing the txt file ../OUTPUT_FOLDER/1693154/Abstract/paragraph_1.txt\n",
      "\n"
     ]
    },
    {
     "name": "stderr",
     "output_type": "stream",
     "text": [
      "Applied processor reduces input query to empty string, all comparisons will have score 0. [Query: '–']\n"
     ]
    },
    {
     "name": "stdout",
     "output_type": "stream",
     "text": [
      "It took 362.51 seconds for the folder 2721780\n",
      "Starting process for ../OUTPUT_FOLDER/2700003 at time=1725205134.1838658\n",
      "\n",
      "Processing the txt file ../OUTPUT_FOLDER/2700003/Abstract/paragraph_1.txt\n",
      "\n",
      "It took 745.94 seconds for the folder 2892678\n",
      "Starting process for ../OUTPUT_FOLDER/1291709 at time=1725205140.538261\n",
      "\n",
      "It took 0.03 seconds for the folder 1291709\n",
      "Starting process for ../OUTPUT_FOLDER/1368899 at time=1725205140.6522565\n",
      "\n",
      "It took 0.02 seconds for the folder 1368899\n",
      "Starting process for ../OUTPUT_FOLDER/2610191 at time=1725205140.6954713\n",
      "\n",
      "Processing the txt file ../OUTPUT_FOLDER/2610191/Abstract/paragraph_1.txt\n",
      "\n",
      "Processing the txt file ../OUTPUT_FOLDER/1892099/Body/Methods/paragraph_70.txt\n",
      "\n",
      "Processing the txt file ../OUTPUT_FOLDER/1892099/Body/Methods/paragraph_7.txt\n",
      "\n",
      "Processing the txt file ../OUTPUT_FOLDER/2944387/Body/A cost function for deep brain stimulation/paragraph_12.txt\n",
      "\n",
      "It took 575.06 seconds for the folder 2661130\n",
      "Starting process for ../OUTPUT_FOLDER/2794896 at time=1725205156.6532245\n",
      "\n",
      "Processing the txt file ../OUTPUT_FOLDER/2794896/Abstract/paragraph_2.txt\n",
      "\n",
      "It took 460.85 seconds for the folder 3011226\n",
      "Starting process for ../OUTPUT_FOLDER/2858681 at time=1725205166.1237874\n",
      "\n",
      "Processing the txt file ../OUTPUT_FOLDER/2858681/Abstract/paragraph_2.txt\n",
      "\n",
      "Processing the txt file ../OUTPUT_FOLDER/2636771/Body/Results/paragraph_7.txt\n",
      "\n"
     ]
    },
    {
     "name": "stderr",
     "output_type": "stream",
     "text": [
      "Applied processor reduces input query to empty string, all comparisons will have score 0. [Query: '']\n"
     ]
    },
    {
     "name": "stdout",
     "output_type": "stream",
     "text": [
      "It took 459.16 seconds for the folder 2980754\n",
      "Starting process for ../OUTPUT_FOLDER/2758855 at time=1725205171.7671995\n",
      "\n",
      "Processing the txt file ../OUTPUT_FOLDER/2758855/Abstract/paragraph_1.txt\n",
      "\n",
      "It took 765.66 seconds for the folder 3160474\n",
      "Starting process for ../OUTPUT_FOLDER/1206405 at time=1725205171.9094434\n",
      "\n",
      "Processing the txt file ../OUTPUT_FOLDER/1206405/Abstract/paragraph_1.txt\n",
      "\n"
     ]
    },
    {
     "name": "stderr",
     "output_type": "stream",
     "text": [
      "Applied processor reduces input query to empty string, all comparisons will have score 0. [Query: '+']\n",
      "Applied processor reduces input query to empty string, all comparisons will have score 0. [Query: '-']\n",
      "Applied processor reduces input query to empty string, all comparisons will have score 0. [Query: '']\n",
      "Applied processor reduces input query to empty string, all comparisons will have score 0. [Query: '']\n",
      "Applied processor reduces input query to empty string, all comparisons will have score 0. [Query: '=']\n",
      "Applied processor reduces input query to empty string, all comparisons will have score 0. [Query: '']\n",
      "Applied processor reduces input query to empty string, all comparisons will have score 0. [Query: '=']\n"
     ]
    },
    {
     "name": "stdout",
     "output_type": "stream",
     "text": [
      "Processing the txt file ../OUTPUT_FOLDER/509312/Body/Funding the Search/paragraph_3.txt\n",
      "\n",
      "It took 792.4 seconds for the folder 6870752\n",
      "Starting process for ../OUTPUT_FOLDER/1357220 at time=1725205179.770614\n",
      "\n",
      "It took 0.03 seconds for the folder 1357220\n",
      "Starting process for ../OUTPUT_FOLDER/2099449 at time=1725205179.823295\n",
      "\n",
      "Processing the txt file ../OUTPUT_FOLDER/2099449/Abstract/paragraph_2.txt\n",
      "\n",
      "It took 540.96 seconds for the folder 2841687\n",
      "Starting process for ../OUTPUT_FOLDER/1817338 at time=1725205181.5499976\n",
      "\n",
      "It took 0.01 seconds for the folder 1817338\n",
      "Starting process for ../OUTPUT_FOLDER/495799 at time=1725205181.5710244\n",
      "\n",
      "It took 0.02 seconds for the folder 495799\n",
      "Starting process for ../OUTPUT_FOLDER/2637790 at time=1725205181.5942113\n",
      "\n",
      "Processing the txt file ../OUTPUT_FOLDER/2637790/Abstract/paragraph_1.txt\n",
      "\n"
     ]
    },
    {
     "name": "stderr",
     "output_type": "stream",
     "text": [
      "Applied processor reduces input query to empty string, all comparisons will have score 0. [Query: '']\n",
      "Applied processor reduces input query to empty string, all comparisons will have score 0. [Query: '+ -']\n"
     ]
    },
    {
     "name": "stdout",
     "output_type": "stream",
     "text": [
      "It took 532.75 seconds for the folder 2757533\n",
      "Starting process for ../OUTPUT_FOLDER/2756159 at time=1725205199.8781235\n",
      "\n",
      "Processing the txt file ../OUTPUT_FOLDER/2756159/Abstract/paragraph_1.txt\n",
      "\n",
      "It took 709.16 seconds for the folder 5428140\n",
      "Starting process for ../OUTPUT_FOLDER/2367156 at time=1725205201.2388713\n",
      "It took 1039.8 seconds for the folder 6568437\n",
      "\n",
      "Starting process for ../OUTPUT_FOLDER/2247912 at time=1725205201.2656405\n",
      "\n",
      "Processing the txt file ../OUTPUT_FOLDER/2367156/Abstract/paragraph_1.txt\n",
      "Processing the txt file ../OUTPUT_FOLDER/2247912/Abstract/paragraph_1.txt\n",
      "\n",
      "\n",
      "Processing the txt file ../OUTPUT_FOLDER/6826829/Body/The Opioid Antagonists_ Naltrexone/paragraph_2.txt\n",
      "\n",
      "It took 440.78 seconds for the folder 2567046\n",
      "Starting process for ../OUTPUT_FOLDER/1088517 at time=1725205214.5206804\n",
      "\n",
      "Processing the txt file ../OUTPUT_FOLDER/1088517/Abstract/paragraph_1.txt\n",
      "\n"
     ]
    },
    {
     "name": "stderr",
     "output_type": "stream",
     "text": [
      "Applied processor reduces input query to empty string, all comparisons will have score 0. [Query: '']\n",
      "Applied processor reduces input query to empty string, all comparisons will have score 0. [Query: ')']\n",
      "Applied processor reduces input query to empty string, all comparisons will have score 0. [Query: '']\n"
     ]
    },
    {
     "name": "stdout",
     "output_type": "stream",
     "text": [
      "Processing the txt file ../OUTPUT_FOLDER/2746321/Body/Results/paragraph_7.txt\n",
      "\n"
     ]
    },
    {
     "name": "stderr",
     "output_type": "stream",
     "text": [
      "Applied processor reduces input query to empty string, all comparisons will have score 0. [Query: '']\n"
     ]
    },
    {
     "name": "stdout",
     "output_type": "stream",
     "text": [
      "It took 760.74 seconds for the folder 1618513\n",
      "Starting process for ../OUTPUT_FOLDER/2796483 at time=1725205231.536698\n",
      "\n",
      "Processing the txt file ../OUTPUT_FOLDER/2796483/Abstract/paragraph_1.txt\n",
      "\n",
      "Processing the txt file ../OUTPUT_FOLDER/2758673/Body/Results/paragraph_12.txt\n",
      "\n",
      "It took 957.54 seconds for the folder 2243186\n",
      "Starting process for ../OUTPUT_FOLDER/3821699 at time=1725205235.723124\n",
      "\n",
      "Processing the txt file ../OUTPUT_FOLDER/3821699/Abstract/paragraph_2.txt\n",
      "\n",
      "Processing the txt file ../OUTPUT_FOLDER/2879381/Body/General/paragraph_7.txt\n",
      "\n"
     ]
    },
    {
     "name": "stderr",
     "output_type": "stream",
     "text": [
      "Applied processor reduces input query to empty string, all comparisons will have score 0. [Query: ' )']\n"
     ]
    },
    {
     "name": "stdout",
     "output_type": "stream",
     "text": [
      "Processing the txt file ../OUTPUT_FOLDER/2879386/Body/METHODS/paragraph_22.txt\n",
      "\n",
      "Processing the txt file ../OUTPUT_FOLDER/2879381/Body/General/paragraph_12.txt\n",
      "\n"
     ]
    },
    {
     "name": "stderr",
     "output_type": "stream",
     "text": [
      "Applied processor reduces input query to empty string, all comparisons will have score 0. [Query: '=']\n",
      "Applied processor reduces input query to empty string, all comparisons will have score 0. [Query: '=']\n",
      "Applied processor reduces input query to empty string, all comparisons will have score 0. [Query: '=']\n"
     ]
    },
    {
     "name": "stdout",
     "output_type": "stream",
     "text": [
      "Processing the txt file ../OUTPUT_FOLDER/2812702/Body/A receptive audience/paragraph_5.txt\n",
      "\n",
      "It took 557.81 seconds for the folder 2429996\n",
      "Starting process for ../OUTPUT_FOLDER/6871382 at time=1725205246.033348\n",
      "\n",
      "Processing the txt file ../OUTPUT_FOLDER/6871382/Abstract/paragraph_1.txt\n",
      "\n",
      "It took 803.89 seconds for the folder 6741651\n",
      "Starting process for ../OUTPUT_FOLDER/2763494 at time=1725205249.8420062\n",
      "\n",
      "Processing the txt file ../OUTPUT_FOLDER/2763494/Abstract/paragraph_1.txt\n",
      "\n"
     ]
    },
    {
     "name": "stderr",
     "output_type": "stream",
     "text": [
      "Applied processor reduces input query to empty string, all comparisons will have score 0. [Query: '=']\n",
      "Applied processor reduces input query to empty string, all comparisons will have score 0. [Query: '']\n",
      "Applied processor reduces input query to empty string, all comparisons will have score 0. [Query: '=']\n",
      "Applied processor reduces input query to empty string, all comparisons will have score 0. [Query: '=']\n"
     ]
    },
    {
     "name": "stdout",
     "output_type": "stream",
     "text": [
      "Processing the txt file ../OUTPUT_FOLDER/2879386/Body/METHODS/paragraph_13.txt\n",
      "\n"
     ]
    },
    {
     "name": "stderr",
     "output_type": "stream",
     "text": [
      "Applied processor reduces input query to empty string, all comparisons will have score 0. [Query: '']\n",
      "Applied processor reduces input query to empty string, all comparisons will have score 0. [Query: '=']\n",
      "Applied processor reduces input query to empty string, all comparisons will have score 0. [Query: '=']\n",
      "Applied processor reduces input query to empty string, all comparisons will have score 0. [Query: '']\n"
     ]
    },
    {
     "name": "stdout",
     "output_type": "stream",
     "text": [
      "Processing the txt file ../OUTPUT_FOLDER/6793177/Abstract/paragraph_1.txt\n",
      "\n",
      "Processing the txt file ../OUTPUT_FOLDER/2704555/Body/Broadening the net/paragraph_4.txt\n",
      "\n"
     ]
    },
    {
     "name": "stderr",
     "output_type": "stream",
     "text": [
      "Applied processor reduces input query to empty string, all comparisons will have score 0. [Query: '=']\n",
      "Applied processor reduces input query to empty string, all comparisons will have score 0. [Query: '=']\n",
      "Applied processor reduces input query to empty string, all comparisons will have score 0. [Query: '©']\n"
     ]
    },
    {
     "name": "stdout",
     "output_type": "stream",
     "text": [
      "It took 876.81 seconds for the folder 1571286\n",
      "Starting process for ../OUTPUT_FOLDER/1331756 at time=1725205270.2270014\n",
      "\n",
      "It took 0.02 seconds for the folder 1331756\n",
      "Starting process for ../OUTPUT_FOLDER/2606705 at time=1725205270.247773\n",
      "\n",
      "Processing the txt file ../OUTPUT_FOLDER/2606705/Abstract/paragraph_1.txt\n",
      "\n",
      "It took 565.55 seconds for the folder 4752115\n",
      "Starting process for ../OUTPUT_FOLDER/1693456 at time=1725205273.849852\n",
      "\n",
      "Processing the txt file ../OUTPUT_FOLDER/1693456/Abstract/paragraph_1.txt\n",
      "\n",
      "Processing the txt file ../OUTPUT_FOLDER/2543022/Abstract/paragraph_3.txt\n",
      "\n",
      "Processing the txt file ../OUTPUT_FOLDER/3821699/Abstract/paragraph_1.txt\n",
      "\n",
      "It took 171.53 seconds for the folder 1693154\n",
      "Starting process for ../OUTPUT_FOLDER/2577038 at time=1725205299.0617812\n",
      "\n",
      "Processing the txt file ../OUTPUT_FOLDER/2577038/Abstract/paragraph_1.txt\n",
      "\n",
      "It took 358.18 seconds for the folder 2699840\n",
      "Starting process for ../OUTPUT_FOLDER/1357294 at time=1725205302.8165262\n",
      "\n",
      "It took 0.04 seconds for the folder 1357294\n",
      "Starting process for ../OUTPUT_FOLDER/2628577 at time=1725205302.8783386\n",
      "\n",
      "Processing the txt file ../OUTPUT_FOLDER/2628577/Body/General/paragraph_48.txt\n",
      "\n",
      "Processing the txt file ../OUTPUT_FOLDER/1079901/Body/General/paragraph_1.txt\n",
      "\n",
      "Processing the txt file ../OUTPUT_FOLDER/2628577/Body/General/paragraph_75.txt\n",
      "\n",
      "It took 613.18 seconds for the folder 6871284\n",
      "Starting process for ../OUTPUT_FOLDER/1357140 at time=1725205306.2377605\n",
      "\n",
      "It took 0.01 seconds for the folder 1357140\n",
      "Starting process for ../OUTPUT_FOLDER/2883872 at time=1725205306.2495878\n",
      "\n",
      "Processing the txt file ../OUTPUT_FOLDER/2883872/Abstract/paragraph_1.txt\n",
      "\n",
      "Processing the txt file ../OUTPUT_FOLDER/2292479/Body/Freezers/paragraph_1.txt\n",
      "\n"
     ]
    },
    {
     "name": "stderr",
     "output_type": "stream",
     "text": [
      "Applied processor reduces input query to empty string, all comparisons will have score 0. [Query: '(']\n",
      "Applied processor reduces input query to empty string, all comparisons will have score 0. [Query: ')']\n"
     ]
    },
    {
     "name": "stdout",
     "output_type": "stream",
     "text": [
      "It took 206.04 seconds for the folder 44423\n",
      "Starting process for ../OUTPUT_FOLDER/1296680 at time=1725205314.5598862\n",
      "\n",
      "It took 0.01 seconds for the folder 1296680\n",
      "Starting process for ../OUTPUT_FOLDER/2732739 at time=1725205314.5749187\n",
      "\n",
      "It took 0.01 seconds for the folder 2732739\n",
      "Starting process for ../OUTPUT_FOLDER/2807602 at time=1725205314.5986414\n",
      "\n",
      "Processing the txt file ../OUTPUT_FOLDER/2807602/Abstract/paragraph_1.txt\n",
      "\n",
      "Processing the txt file ../OUTPUT_FOLDER/2660436/Body/The Future of “Noise Benefits” Research in Biology and Biomedical Engineering/paragraph_12.txt\n",
      "\n",
      "Processing the txt file ../OUTPUT_FOLDER/1069062/Abstract/paragraph_1.txt\n",
      "\n"
     ]
    },
    {
     "name": "stderr",
     "output_type": "stream",
     "text": [
      "Applied processor reduces input query to empty string, all comparisons will have score 0. [Query: '“…']\n",
      "Applied processor reduces input query to empty string, all comparisons will have score 0. [Query: '–']\n"
     ]
    },
    {
     "name": "stdout",
     "output_type": "stream",
     "text": [
      "Processing the txt file ../OUTPUT_FOLDER/2817684/Body/Results/paragraph_2.txt\n",
      "\n",
      "Processing the txt file ../OUTPUT_FOLDER/2660324/Body/Editorial/paragraph_10.txt\n",
      "\n"
     ]
    },
    {
     "name": "stderr",
     "output_type": "stream",
     "text": [
      "Applied processor reduces input query to empty string, all comparisons will have score 0. [Query: '']\n"
     ]
    },
    {
     "name": "stdout",
     "output_type": "stream",
     "text": [
      "It took 829.05 seconds for the folder 1088515\n",
      "Starting process for ../OUTPUT_FOLDER/3131218 at time=1725205340.21357\n",
      "\n",
      "Processing the txt file ../OUTPUT_FOLDER/3131218/Abstract/paragraph_2.txt\n",
      "\n",
      "It took 1030.59 seconds for the folder 5428141\n",
      "Starting process for ../OUTPUT_FOLDER/1331423 at time=1725205341.351911\n",
      "\n",
      "Processing the txt file ../OUTPUT_FOLDER/1331423/Abstract/paragraph_2.txt\n",
      "\n",
      "Processing the txt file ../OUTPUT_FOLDER/2746321/Body/Results/paragraph_8.txt\n",
      "\n",
      "Processing the txt file ../OUTPUT_FOLDER/2746321/Body/Results/paragraph_2.txt\n",
      "\n"
     ]
    },
    {
     "name": "stderr",
     "output_type": "stream",
     "text": [
      "Applied processor reduces input query to empty string, all comparisons will have score 0. [Query: '']\n"
     ]
    },
    {
     "name": "stdout",
     "output_type": "stream",
     "text": [
      "Processing the txt file ../OUTPUT_FOLDER/516795/Body/General/paragraph_2.txt\n",
      "\n",
      "Processing the txt file ../OUTPUT_FOLDER/535570/Body/General/paragraph_13.txt\n",
      "\n",
      "It took 547.44 seconds for the folder 2863127\n",
      "Starting process for ../OUTPUT_FOLDER/2818590 at time=1725205369.4570796\n",
      "\n",
      "Processing the txt file ../OUTPUT_FOLDER/2818590/Abstract/paragraph_1.txt\n",
      "\n"
     ]
    },
    {
     "name": "stderr",
     "output_type": "stream",
     "text": [
      "Applied processor reduces input query to empty string, all comparisons will have score 0. [Query: '(']\n",
      "Applied processor reduces input query to empty string, all comparisons will have score 0. [Query: ')']\n"
     ]
    },
    {
     "name": "stdout",
     "output_type": "stream",
     "text": [
      "It took 480.66 seconds for the folder 2553366\n",
      "Starting process for ../OUTPUT_FOLDER/1910070 at time=1725205373.7752278\n",
      "\n",
      "It took 0.01 seconds for the folder 1910070\n",
      "Starting process for ../OUTPUT_FOLDER/2291142 at time=1725205373.800175\n",
      "\n",
      "Processing the txt file ../OUTPUT_FOLDER/2291142/Abstract/paragraph_1.txt\n",
      "\n",
      "Processing the txt file ../OUTPUT_FOLDER/1892101/Body/Results/paragraph_48.txt\n",
      "\n",
      "It took 108.4 seconds for the folder 1693456\n",
      "Starting process for ../OUTPUT_FOLDER/1088506 at time=1725205382.272449\n",
      "\n",
      "Processing the txt file ../OUTPUT_FOLDER/1088506/Abstract/paragraph_1.txt\n",
      "\n",
      "Processing the txt file ../OUTPUT_FOLDER/1892101/Body/Results/paragraph_36.txt\n",
      "\n"
     ]
    },
    {
     "name": "stderr",
     "output_type": "stream",
     "text": [
      "Applied processor reduces input query to empty string, all comparisons will have score 0. [Query: ')']\n"
     ]
    },
    {
     "name": "stdout",
     "output_type": "stream",
     "text": [
      "Processing the txt file ../OUTPUT_FOLDER/1892101/Body/Results/paragraph_40.txt\n",
      "\n",
      "Processing the txt file ../OUTPUT_FOLDER/1892101/Body/Results/paragraph_7.txt\n",
      "\n",
      "It took 677.68 seconds for the folder 2894662\n",
      "Starting process for ../OUTPUT_FOLDER/2104515 at time=1725205391.260653\n",
      "\n",
      "It took 0.02 seconds for the folder 2104515\n",
      "Starting process for ../OUTPUT_FOLDER/1769469 at time=1725205391.2998068\n",
      "\n",
      "Processing the txt file ../OUTPUT_FOLDER/1769469/Abstract/paragraph_1.txt\n",
      "\n",
      "Processing the txt file ../OUTPUT_FOLDER/1892101/Body/Results/paragraph_12.txt\n",
      "\n",
      "Processing the txt file ../OUTPUT_FOLDER/1892101/Body/Results/paragraph_38.txt\n",
      "\n",
      "Processing the txt file ../OUTPUT_FOLDER/1553477/Body/Use of Heterogeneous Data/paragraph_2.txt\n",
      "\n"
     ]
    },
    {
     "name": "stderr",
     "output_type": "stream",
     "text": [
      "Applied processor reduces input query to empty string, all comparisons will have score 0. [Query: '']\n",
      "Applied processor reduces input query to empty string, all comparisons will have score 0. [Query: '']\n"
     ]
    },
    {
     "name": "stdout",
     "output_type": "stream",
     "text": [
      "It took 949.06 seconds for the folder 2792185\n",
      "Starting process for ../OUTPUT_FOLDER/3482110 at time=1725205401.0578203\n",
      "\n",
      "Processing the txt file ../OUTPUT_FOLDER/3482110/Abstract/paragraph_1.txt\n",
      "\n"
     ]
    },
    {
     "name": "stderr",
     "output_type": "stream",
     "text": [
      "Applied processor reduces input query to empty string, all comparisons will have score 0. [Query: '']\n"
     ]
    },
    {
     "name": "stdout",
     "output_type": "stream",
     "text": [
      "Processing the txt file ../OUTPUT_FOLDER/2746321/Body/Results/paragraph_1.txt\n",
      "\n",
      "It took 222.64 seconds for the folder 2637790\n",
      "Starting process for ../OUTPUT_FOLDER/1898685 at time=1725205404.2481687\n",
      "\n",
      "It took 0.03 seconds for the folder 1898685\n",
      "Starting process for ../OUTPUT_FOLDER/1618509 at time=1725205404.293616\n",
      "\n",
      "Processing the txt file ../OUTPUT_FOLDER/1618509/Abstract/paragraph_1.txt\n",
      "\n",
      "Processing the txt file ../OUTPUT_FOLDER/2543108/Body/Results/paragraph_36.txt\n",
      "\n"
     ]
    },
    {
     "name": "stderr",
     "output_type": "stream",
     "text": [
      "Applied processor reduces input query to empty string, all comparisons will have score 0. [Query: '=']\n"
     ]
    },
    {
     "name": "stdout",
     "output_type": "stream",
     "text": [
      "Processing the txt file ../OUTPUT_FOLDER/2879381/Body/General/paragraph_22.txt\n",
      "\n",
      "Processing the txt file ../OUTPUT_FOLDER/2367448/Body/What Has Computational Neuroscience To Offer_/paragraph_5.txt\n",
      "\n",
      "It took 531.95 seconds for the folder 56982\n",
      "Starting process for ../OUTPUT_FOLDER/1125527 at time=1725205432.9477706\n",
      "\n",
      "It took 0.03 seconds for the folder 1125527\n",
      "Starting process for ../OUTPUT_FOLDER/6576887 at time=1725205433.0153139\n",
      "\n",
      "Processing the txt file ../OUTPUT_FOLDER/6576887/Abstract/paragraph_1.txt\n",
      "\n"
     ]
    },
    {
     "name": "stderr",
     "output_type": "stream",
     "text": [
      "Applied processor reduces input query to empty string, all comparisons will have score 0. [Query: '–']\n",
      "Applied processor reduces input query to empty string, all comparisons will have score 0. [Query: '–']\n",
      "Applied processor reduces input query to empty string, all comparisons will have score 0. [Query: '']\n",
      "Applied processor reduces input query to empty string, all comparisons will have score 0. [Query: '']\n",
      "Applied processor reduces input query to empty string, all comparisons will have score 0. [Query: '–']\n"
     ]
    },
    {
     "name": "stdout",
     "output_type": "stream",
     "text": [
      "It took 1048.1 seconds for the folder 6741263\n",
      "Starting process for ../OUTPUT_FOLDER/5161495 at time=1725205440.4829674\n",
      "\n",
      "It took 0.01 seconds for the folder 5161495\n",
      "Starting process for ../OUTPUT_FOLDER/2941190 at time=1725205440.522656\n",
      "\n",
      "Processing the txt file ../OUTPUT_FOLDER/2941190/Abstract/paragraph_1.txt\n",
      "\n"
     ]
    },
    {
     "name": "stderr",
     "output_type": "stream",
     "text": [
      "Applied processor reduces input query to empty string, all comparisons will have score 0. [Query: '']\n",
      "Applied processor reduces input query to empty string, all comparisons will have score 0. [Query: '']\n",
      "Applied processor reduces input query to empty string, all comparisons will have score 0. [Query: '']\n"
     ]
    },
    {
     "name": "stdout",
     "output_type": "stream",
     "text": [
      "It took 606.46 seconds for the folder 6575720\n",
      "Starting process for ../OUTPUT_FOLDER/1331420 at time=1725205446.0093808\n",
      "\n",
      "Processing the txt file ../OUTPUT_FOLDER/1331420/Abstract/paragraph_7.txt\n",
      "\n"
     ]
    },
    {
     "name": "stderr",
     "output_type": "stream",
     "text": [
      "Applied processor reduces input query to empty string, all comparisons will have score 0. [Query: '']\n",
      "Applied processor reduces input query to empty string, all comparisons will have score 0. [Query: '']\n"
     ]
    },
    {
     "name": "stdout",
     "output_type": "stream",
     "text": [
      "Processing the txt file ../OUTPUT_FOLDER/2377267/Body/Results/paragraph_2.txt\n",
      "\n",
      "Processing the txt file ../OUTPUT_FOLDER/1331420/Abstract/paragraph_2.txt\n",
      "\n",
      "Processing the txt file ../OUTPUT_FOLDER/2685001/Body/Results/paragraph_2.txt\n",
      "\n",
      "Processing the txt file ../OUTPUT_FOLDER/2377267/Body/Results/paragraph_10.txt\n",
      "\n",
      "Processing the txt file ../OUTPUT_FOLDER/509312/Body/Funding the Search/paragraph_4.txt\n",
      "\n",
      "Processing the txt file ../OUTPUT_FOLDER/6793177/Abstract/paragraph_3.txt\n",
      "\n"
     ]
    },
    {
     "name": "stderr",
     "output_type": "stream",
     "text": [
      "Applied processor reduces input query to empty string, all comparisons will have score 0. [Query: ' ']\n",
      "Applied processor reduces input query to empty string, all comparisons will have score 0. [Query: '(']\n",
      "Applied processor reduces input query to empty string, all comparisons will have score 0. [Query: ' –']\n",
      "Applied processor reduces input query to empty string, all comparisons will have score 0. [Query: '±']\n",
      "Applied processor reduces input query to empty string, all comparisons will have score 0. [Query: '=']\n"
     ]
    },
    {
     "name": "stdout",
     "output_type": "stream",
     "text": [
      "It took 482.62 seconds for the folder 2677026\n",
      "Starting process for ../OUTPUT_FOLDER/4437560 at time=1725205472.2649388\n",
      "\n",
      "Processing the txt file ../OUTPUT_FOLDER/4437560/Abstract/paragraph_1.txt\n",
      "\n",
      "Processing the txt file ../OUTPUT_FOLDER/2408653/Body/Results/paragraph_13.txt\n",
      "\n",
      "Processing the txt file ../OUTPUT_FOLDER/1397826/Body/Results/paragraph_3.txt\n",
      "\n"
     ]
    },
    {
     "name": "stderr",
     "output_type": "stream",
     "text": [
      "Applied processor reduces input query to empty string, all comparisons will have score 0. [Query: '']\n"
     ]
    },
    {
     "name": "stdout",
     "output_type": "stream",
     "text": [
      "Processing the txt file ../OUTPUT_FOLDER/2543022/Body/Results/paragraph_7.txt\n",
      "\n"
     ]
    },
    {
     "name": "stderr",
     "output_type": "stream",
     "text": [
      "Applied processor reduces input query to empty string, all comparisons will have score 0. [Query: '']\n",
      "Applied processor reduces input query to empty string, all comparisons will have score 0. [Query: '=']\n",
      "Applied processor reduces input query to empty string, all comparisons will have score 0. [Query: '']\n"
     ]
    },
    {
     "name": "stdout",
     "output_type": "stream",
     "text": [
      "It took 795.52 seconds for the folder 15439\n",
      "Starting process for ../OUTPUT_FOLDER/1433252 at time=1725205486.6456115\n",
      "\n",
      "It took 0.02 seconds for the folder 1433252\n",
      "Starting process for ../OUTPUT_FOLDER/4332708 at time=1725205486.6837122\n",
      "\n",
      "Processing the txt file ../OUTPUT_FOLDER/4332708/Abstract/paragraph_1.txt\n",
      "\n"
     ]
    },
    {
     "name": "stderr",
     "output_type": "stream",
     "text": [
      "Applied processor reduces input query to empty string, all comparisons will have score 0. [Query: '']\n",
      "Applied processor reduces input query to empty string, all comparisons will have score 0. [Query: '']\n"
     ]
    },
    {
     "name": "stdout",
     "output_type": "stream",
     "text": [
      "Processing the txt file ../OUTPUT_FOLDER/2879386/Body/METHODS/paragraph_8.txt\n",
      "\n",
      "It took 754.07 seconds for the folder 3819210\n",
      "Starting process for ../OUTPUT_FOLDER/6674866 at time=1725205498.9850872\n",
      "\n",
      "Processing the txt file ../OUTPUT_FOLDER/6674866/Abstract/paragraph_1.txt\n",
      "\n",
      "Processing the txt file ../OUTPUT_FOLDER/2543022/Body/Results/paragraph_8.txt\n",
      "\n"
     ]
    },
    {
     "name": "stderr",
     "output_type": "stream",
     "text": [
      "Applied processor reduces input query to empty string, all comparisons will have score 0. [Query: '=']\n",
      "Applied processor reduces input query to empty string, all comparisons will have score 0. [Query: '']\n",
      "Applied processor reduces input query to empty string, all comparisons will have score 0. [Query: '=']\n"
     ]
    },
    {
     "name": "stdout",
     "output_type": "stream",
     "text": [
      "It took 305.54 seconds for the folder 2756159\n",
      "Starting process for ../OUTPUT_FOLDER/2841002 at time=1725205505.4267383\n",
      "\n",
      "Processing the txt file ../OUTPUT_FOLDER/2841002/Abstract/paragraph_1.txt\n",
      "\n"
     ]
    },
    {
     "name": "stderr",
     "output_type": "stream",
     "text": [
      "Applied processor reduces input query to empty string, all comparisons will have score 0. [Query: '']\n",
      "Applied processor reduces input query to empty string, all comparisons will have score 0. [Query: ')']\n",
      "Applied processor reduces input query to empty string, all comparisons will have score 0. [Query: '=']\n",
      "Applied processor reduces input query to empty string, all comparisons will have score 0. [Query: '>']\n",
      "Applied processor reduces input query to empty string, all comparisons will have score 0. [Query: '  –']\n",
      "Applied processor reduces input query to empty string, all comparisons will have score 0. [Query: ')']\n"
     ]
    },
    {
     "name": "stdout",
     "output_type": "stream",
     "text": [
      "It took 417.48 seconds for the folder 4831053\n",
      "Starting process for ../OUTPUT_FOLDER/1088434 at time=1725205511.7338934\n",
      "\n",
      "Processing the txt file ../OUTPUT_FOLDER/1088434/Abstract/paragraph_1.txt\n",
      "\n",
      "It took 837.05 seconds for the folder 6568578\n",
      "Starting process for ../OUTPUT_FOLDER/2528035 at time=1725205526.0339968\n",
      "\n",
      "Processing the txt file ../OUTPUT_FOLDER/2528035/Abstract/paragraph_2.txt\n",
      "\n",
      "It took 849.11 seconds for the folder 2677905\n",
      "Starting process for ../OUTPUT_FOLDER/3268652 at time=1725205541.1284022\n",
      "\n",
      "Processing the txt file ../OUTPUT_FOLDER/3268652/Abstract/paragraph_1.txt\n",
      "\n",
      "It took 1234.48 seconds for the folder 2492054\n",
      "Starting process for ../OUTPUT_FOLDER/3045185 at time=1725205542.2273774\n",
      "\n",
      "Processing the txt file ../OUTPUT_FOLDER/3045185/Abstract/paragraph_1.txt\n",
      "\n",
      "It took 1165.31 seconds for the folder 2003207\n",
      "Starting process for ../OUTPUT_FOLDER/300430 at time=1725205542.8333423\n",
      "\n",
      "It took 0.03 seconds for the folder 300430\n",
      "Starting process for ../OUTPUT_FOLDER/2966144 at time=1725205542.8670824\n",
      "\n",
      "Processing the txt file ../OUTPUT_FOLDER/2966144/Abstract/paragraph_1.txt\n",
      "\n",
      "Processing the txt file ../OUTPUT_FOLDER/1331420/Abstract/paragraph_1.txt\n",
      "\n",
      "It took 459.58 seconds for the folder 2767390\n",
      "Starting process for ../OUTPUT_FOLDER/5400917 at time=1725205550.785372\n",
      "\n",
      "It took 0.03 seconds for the folder 5400917\n",
      "Starting process for ../OUTPUT_FOLDER/2225589 at time=1725205550.8369894\n",
      "\n",
      "Processing the txt file ../OUTPUT_FOLDER/2225589/Abstract/paragraph_1.txt\n",
      "\n",
      "Processing the txt file ../OUTPUT_FOLDER/2879381/Body/General/paragraph_13.txt\n",
      "\n",
      "Processing the txt file ../OUTPUT_FOLDER/2879381/Body/General/paragraph_8.txt\n",
      "\n",
      "It took 255.37 seconds for the folder 2577038\n",
      "Starting process for ../OUTPUT_FOLDER/212696 at time=1725205554.4418442\n",
      "\n",
      "Processing the txt file ../OUTPUT_FOLDER/212696/Abstract/paragraph_1.txt\n",
      "\n",
      "It took 356.21 seconds for the folder 2247912\n",
      "Starting process for ../OUTPUT_FOLDER/57000 at time=1725205557.4863143\n",
      "\n",
      "Processing the txt file ../OUTPUT_FOLDER/57000/Abstract/paragraph_2.txt\n",
      "\n",
      "Processing the txt file ../OUTPUT_FOLDER/2944387/Body/A cost function for deep brain stimulation/paragraph_13.txt\n",
      "\n",
      "Processing the txt file ../OUTPUT_FOLDER/2704555/Body/General/paragraph_2.txt\n",
      "\n",
      "Processing the txt file ../OUTPUT_FOLDER/300687/Body/General/paragraph_2.txt\n",
      "\n",
      "It took 726.51 seconds for the folder 2743487\n",
      "Starting process for ../OUTPUT_FOLDER/2720416 at time=1725205574.170819\n",
      "\n",
      "Processing the txt file ../OUTPUT_FOLDER/2720416/Abstract/paragraph_1.txt\n",
      "\n"
     ]
    },
    {
     "name": "stderr",
     "output_type": "stream",
     "text": [
      "Applied processor reduces input query to empty string, all comparisons will have score 0. [Query: '']\n"
     ]
    },
    {
     "name": "stdout",
     "output_type": "stream",
     "text": [
      "Processing the txt file ../OUTPUT_FOLDER/212696/Body/General/paragraph_7.txt\n",
      "\n",
      "Processing the txt file ../OUTPUT_FOLDER/2099449/Abstract/paragraph_1.txt\n",
      "\n",
      "Processing the txt file ../OUTPUT_FOLDER/2953633/Body/General/paragraph_4.txt\n",
      "\n",
      "Processing the txt file ../OUTPUT_FOLDER/2944387/Body/A cost function for deep brain stimulation/paragraph_8.txt\n",
      "\n",
      "Processing the txt file ../OUTPUT_FOLDER/2528035/Abstract/paragraph_1.txt\n",
      "\n",
      "It took 773.13 seconds for the folder 389501\n",
      "Starting process for ../OUTPUT_FOLDER/2649674 at time=1725205598.8609974\n",
      "\n",
      "Processing the txt file ../OUTPUT_FOLDER/2649674/Abstract/paragraph_1.txt\n",
      "\n",
      "Processing the txt file ../OUTPUT_FOLDER/2628577/Body/General/paragraph_36.txt\n",
      "\n",
      "Processing the txt file ../OUTPUT_FOLDER/2660324/Body/Editorial/paragraph_1.txt\n",
      "\n",
      "Processing the txt file ../OUTPUT_FOLDER/2628577/Body/General/paragraph_80.txt\n",
      "\n",
      "It took 801.68 seconds for the folder 1635408\n",
      "Starting process for ../OUTPUT_FOLDER/2784994 at time=1725205611.1852071\n",
      "\n",
      "Processing the txt file ../OUTPUT_FOLDER/2784994/Abstract/paragraph_1.txt\n",
      "\n",
      "Processing the txt file ../OUTPUT_FOLDER/2628577/Body/General/paragraph_40.txt\n",
      "\n",
      "It took 533.78 seconds for the folder 4357357\n",
      "Starting process for ../OUTPUT_FOLDER/2714662 at time=1725205620.6072662\n",
      "\n",
      "Processing the txt file ../OUTPUT_FOLDER/2714662/Abstract/paragraph_1.txt\n",
      "\n",
      "Processing the txt file ../OUTPUT_FOLDER/2628577/Body/General/paragraph_84.txt\n",
      "\n",
      "Processing the txt file ../OUTPUT_FOLDER/2628577/Body/General/paragraph_92.txt\n",
      "\n",
      "Processing the txt file ../OUTPUT_FOLDER/2944387/Body/A cost function for deep brain stimulation/paragraph_2.txt\n",
      "\n",
      "It took 399.97 seconds for the folder 3821699\n",
      "Starting process for ../OUTPUT_FOLDER/2117745 at time=1725205635.709338\n",
      "\n",
      "It took 0.02 seconds for the folder 2117745\n",
      "Starting process for ../OUTPUT_FOLDER/1770939 at time=1725205635.7709723\n",
      "\n",
      "Processing the txt file ../OUTPUT_FOLDER/2628577/Body/General/paragraph_70.txt\n",
      "\n",
      "Processing the txt file ../OUTPUT_FOLDER/1770939/Abstract/paragraph_2.txt\n",
      "\n",
      "Processing the txt file ../OUTPUT_FOLDER/2660324/Body/Editorial/paragraph_11.txt\n",
      "\n",
      "It took 803.71 seconds for the folder 4476904\n",
      "Starting process for ../OUTPUT_FOLDER/2761206 at time=1725205642.3871744\n",
      "\n",
      "Processing the txt file ../OUTPUT_FOLDER/2761206/Abstract/paragraph_1.txt\n",
      "\n",
      "Processing the txt file ../OUTPUT_FOLDER/2628577/Body/General/paragraph_7.txt\n",
      "\n",
      "It took 476.22 seconds for the folder 1206405\n",
      "Starting process for ../OUTPUT_FOLDER/1560529 at time=1725205648.1388495\n",
      "\n",
      "Processing the txt file ../OUTPUT_FOLDER/1560529/Abstract/paragraph_1.txt\n",
      "\n",
      "Processing the txt file ../OUTPUT_FOLDER/2628577/Body/General/paragraph_12.txt\n",
      "\n",
      "Processing the txt file ../OUTPUT_FOLDER/1079901/Body/General/paragraph_3.txt\n",
      "\n"
     ]
    },
    {
     "name": "stderr",
     "output_type": "stream",
     "text": [
      "Applied processor reduces input query to empty string, all comparisons will have score 0. [Query: '']\n"
     ]
    },
    {
     "name": "stdout",
     "output_type": "stream",
     "text": [
      "It took 1075.86 seconds for the folder 3753195\n",
      "Starting process for ../OUTPUT_FOLDER/2039786 at time=1725205662.9648545\n",
      "\n",
      "Processing the txt file ../OUTPUT_FOLDER/2039786/Abstract/paragraph_1.txt\n",
      "\n"
     ]
    },
    {
     "name": "stderr",
     "output_type": "stream",
     "text": [
      "Applied processor reduces input query to empty string, all comparisons will have score 0. [Query: '–']\n",
      "Applied processor reduces input query to empty string, all comparisons will have score 0. [Query: '–']\n",
      "Applied processor reduces input query to empty string, all comparisons will have score 0. [Query: '–']\n",
      "Applied processor reduces input query to empty string, all comparisons will have score 0. [Query: '–']\n"
     ]
    },
    {
     "name": "stdout",
     "output_type": "stream",
     "text": [
      "Processing the txt file ../OUTPUT_FOLDER/2292479/Body/The facilities and personnel/paragraph_2.txt\n",
      "\n",
      "It took 405.83 seconds for the folder 2606705\n",
      "Starting process for ../OUTPUT_FOLDER/495852 at time=1725205676.1018815\n",
      "\n",
      "It took 0.06 seconds for the folder 495852\n",
      "Starting process for ../OUTPUT_FOLDER/3181768 at time=1725205676.1856604\n",
      "\n",
      "Processing the txt file ../OUTPUT_FOLDER/3181768/Abstract/paragraph_1.txt\n",
      "\n",
      "Processing the txt file ../OUTPUT_FOLDER/509312/Body/Funding the Search/paragraph_6.txt\n",
      "\n",
      "Processing the txt file ../OUTPUT_FOLDER/57000/Abstract/paragraph_1.txt\n",
      "\n",
      "Processing the txt file ../OUTPUT_FOLDER/2660436/Body/The Future of “Noise Benefits” Research in Biology and Biomedical Engineering/paragraph_22.txt\n",
      "\n"
     ]
    },
    {
     "name": "stderr",
     "output_type": "stream",
     "text": [
      "Applied processor reduces input query to empty string, all comparisons will have score 0. [Query: '']\n"
     ]
    },
    {
     "name": "stdout",
     "output_type": "stream",
     "text": [
      "Processing the txt file ../OUTPUT_FOLDER/535570/Body/General/paragraph_8.txt\n",
      "\n"
     ]
    },
    {
     "name": "stderr",
     "output_type": "stream",
     "text": [
      "Applied processor reduces input query to empty string, all comparisons will have score 0. [Query: '']\n"
     ]
    },
    {
     "name": "stdout",
     "output_type": "stream",
     "text": [
      "It took 715.22 seconds for the folder 1069062\n",
      "Starting process for ../OUTPUT_FOLDER/2859429 at time=1725205701.3590472\n",
      "\n",
      "Processing the txt file ../OUTPUT_FOLDER/2859429/Abstract/paragraph_1.txt\n",
      "\n"
     ]
    },
    {
     "name": "stderr",
     "output_type": "stream",
     "text": [
      "Applied processor reduces input query to empty string, all comparisons will have score 0. [Query: '']\n"
     ]
    },
    {
     "name": "stdout",
     "output_type": "stream",
     "text": [
      "Processing the txt file ../OUTPUT_FOLDER/2798959/Body/3 Results/paragraph_1.txt\n",
      "\n"
     ]
    },
    {
     "name": "stderr",
     "output_type": "stream",
     "text": [
      "Applied processor reduces input query to empty string, all comparisons will have score 0. [Query: '']\n",
      "Applied processor reduces input query to empty string, all comparisons will have score 0. [Query: '']\n",
      "Applied processor reduces input query to empty string, all comparisons will have score 0. [Query: '=']\n",
      "Applied processor reduces input query to empty string, all comparisons will have score 0. [Query: '=']\n",
      "Applied processor reduces input query to empty string, all comparisons will have score 0. [Query: '=']\n"
     ]
    },
    {
     "name": "stdout",
     "output_type": "stream",
     "text": [
      "Processing the txt file ../OUTPUT_FOLDER/2628577/Body/General/paragraph_38.txt\n",
      "\n"
     ]
    },
    {
     "name": "stderr",
     "output_type": "stream",
     "text": [
      "Applied processor reduces input query to empty string, all comparisons will have score 0. [Query: '']\n"
     ]
    },
    {
     "name": "stdout",
     "output_type": "stream",
     "text": [
      "Processing the txt file ../OUTPUT_FOLDER/2628577/Body/General/paragraph_61.txt\n",
      "\n",
      "Processing the txt file ../OUTPUT_FOLDER/2944387/Body/A cost function for deep brain stimulation/paragraph_10.txt\n",
      "\n",
      "Processing the txt file ../OUTPUT_FOLDER/2812702/Body/Side-chains and receptive substances/paragraph_7.txt\n",
      "\n",
      "It took 1278.0 seconds for the folder 2637202\n",
      "Starting process for ../OUTPUT_FOLDER/1088514 at time=1725205723.327216\n",
      "\n",
      "Processing the txt file ../OUTPUT_FOLDER/1088514/Abstract/paragraph_1.txt\n",
      "\n",
      "It took 962.15 seconds for the folder 2040432\n",
      "Starting process for ../OUTPUT_FOLDER/1357253 at time=1725205723.7228587\n",
      "\n",
      "It took 0.01 seconds for the folder 1357253\n",
      "Starting process for ../OUTPUT_FOLDER/2918373 at time=1725205723.7463193\n",
      "\n",
      "Processing the txt file ../OUTPUT_FOLDER/2918373/Abstract/paragraph_1.txt\n",
      "\n"
     ]
    },
    {
     "name": "stderr",
     "output_type": "stream",
     "text": [
      "Applied processor reduces input query to empty string, all comparisons will have score 0. [Query: ')']\n"
     ]
    },
    {
     "name": "stdout",
     "output_type": "stream",
     "text": [
      "Processing the txt file ../OUTPUT_FOLDER/2628577/Body/General/paragraph_53.txt\n",
      "\n",
      "Processing the txt file ../OUTPUT_FOLDER/2636771/Body/Results/paragraph_12.txt\n",
      "\n",
      "It took 500.52 seconds for the folder 2796483\n",
      "Starting process for ../OUTPUT_FOLDER/1073362 at time=1725205732.0998633\n",
      "\n",
      "It took 0.07 seconds for the folder 1073362\n",
      "Starting process for ../OUTPUT_FOLDER/1458626 at time=1725205732.1981106\n",
      "\n",
      "It took 0.06 seconds for the folder 1458626\n",
      "Starting process for ../OUTPUT_FOLDER/2574909 at time=1725205732.2641017\n",
      "\n",
      "Processing the txt file ../OUTPUT_FOLDER/2574909/Abstract/paragraph_1.txt\n",
      "\n",
      "Processing the txt file ../OUTPUT_FOLDER/1892101/Body/Results/paragraph_61.txt\n",
      "\n"
     ]
    },
    {
     "name": "stderr",
     "output_type": "stream",
     "text": [
      "Applied processor reduces input query to empty string, all comparisons will have score 0. [Query: ')']\n",
      "Applied processor reduces input query to empty string, all comparisons will have score 0. [Query: '=']\n",
      "Applied processor reduces input query to empty string, all comparisons will have score 0. [Query: '']\n"
     ]
    },
    {
     "name": "stdout",
     "output_type": "stream",
     "text": [
      "Processing the txt file ../OUTPUT_FOLDER/1892101/Body/Results/paragraph_53.txt\n",
      "\n",
      "Processing the txt file ../OUTPUT_FOLDER/1331420/Abstract/paragraph_3.txt\n",
      "\n"
     ]
    },
    {
     "name": "stderr",
     "output_type": "stream",
     "text": [
      "Applied processor reduces input query to empty string, all comparisons will have score 0. [Query: ')']\n"
     ]
    },
    {
     "name": "stdout",
     "output_type": "stream",
     "text": [
      "Processing the txt file ../OUTPUT_FOLDER/1892101/Body/Results/paragraph_22.txt\n",
      "\n"
     ]
    },
    {
     "name": "stderr",
     "output_type": "stream",
     "text": [
      "Applied processor reduces input query to empty string, all comparisons will have score 0. [Query: ')']\n"
     ]
    },
    {
     "name": "stdout",
     "output_type": "stream",
     "text": [
      "Processing the txt file ../OUTPUT_FOLDER/1892101/Body/Results/paragraph_13.txt\n",
      "\n",
      "Processing the txt file ../OUTPUT_FOLDER/1892101/Body/Results/paragraph_8.txt\n",
      "\n"
     ]
    },
    {
     "name": "stderr",
     "output_type": "stream",
     "text": [
      "Applied processor reduces input query to empty string, all comparisons will have score 0. [Query: ')']\n"
     ]
    },
    {
     "name": "stdout",
     "output_type": "stream",
     "text": [
      "Processing the txt file ../OUTPUT_FOLDER/1892101/Body/Results/paragraph_58.txt\n",
      "\n",
      "Processing the txt file ../OUTPUT_FOLDER/1892101/Body/Results/paragraph_42.txt\n",
      "\n"
     ]
    },
    {
     "name": "stderr",
     "output_type": "stream",
     "text": [
      "Applied processor reduces input query to empty string, all comparisons will have score 0. [Query: ')']\n"
     ]
    },
    {
     "name": "stdout",
     "output_type": "stream",
     "text": [
      "Processing the txt file ../OUTPUT_FOLDER/2927367/Body/1. Introduction/paragraph_2.txt\n",
      "\n"
     ]
    },
    {
     "name": "stderr",
     "output_type": "stream",
     "text": [
      "Applied processor reduces input query to empty string, all comparisons will have score 0. [Query: ')']\n",
      "Applied processor reduces input query to empty string, all comparisons will have score 0. [Query: '']\n"
     ]
    },
    {
     "name": "stdout",
     "output_type": "stream",
     "text": [
      "Processing the txt file ../OUTPUT_FOLDER/1892101/Body/Results/paragraph_65.txt\n",
      "\n"
     ]
    },
    {
     "name": "stderr",
     "output_type": "stream",
     "text": [
      "Applied processor reduces input query to empty string, all comparisons will have score 0. [Query: '']\n",
      "Applied processor reduces input query to empty string, all comparisons will have score 0. [Query: '']\n"
     ]
    },
    {
     "name": "stdout",
     "output_type": "stream",
     "text": [
      "It took 264.2 seconds for the folder 4332708\n",
      "Starting process for ../OUTPUT_FOLDER/2911342 at time=1725205750.9039738\n",
      "\n",
      "Processing the txt file ../OUTPUT_FOLDER/2911342/Abstract/paragraph_1.txt\n",
      "\n"
     ]
    },
    {
     "name": "stderr",
     "output_type": "stream",
     "text": [
      "Applied processor reduces input query to empty string, all comparisons will have score 0. [Query: '–']\n",
      "Applied processor reduces input query to empty string, all comparisons will have score 0. [Query: '']\n"
     ]
    },
    {
     "name": "stdout",
     "output_type": "stream",
     "text": [
      "Processing the txt file ../OUTPUT_FOLDER/3131218/Abstract/paragraph_1.txt\n",
      "\n"
     ]
    },
    {
     "name": "stderr",
     "output_type": "stream",
     "text": [
      "Applied processor reduces input query to empty string, all comparisons will have score 0. [Query: '']\n"
     ]
    },
    {
     "name": "stdout",
     "output_type": "stream",
     "text": [
      "Processing the txt file ../OUTPUT_FOLDER/1892099/Body/Methods/paragraph_12.txt\n",
      "\n"
     ]
    },
    {
     "name": "stderr",
     "output_type": "stream",
     "text": [
      "Applied processor reduces input query to empty string, all comparisons will have score 0. [Query: '•']\n",
      "Applied processor reduces input query to empty string, all comparisons will have score 0. [Query: '']\n"
     ]
    },
    {
     "name": "stdout",
     "output_type": "stream",
     "text": [
      "Processing the txt file ../OUTPUT_FOLDER/1331423/Abstract/paragraph_1.txt\n",
      "\n",
      "Processing the txt file ../OUTPUT_FOLDER/1397826/Body/Results/paragraph_4.txt\n",
      "\n"
     ]
    },
    {
     "name": "stderr",
     "output_type": "stream",
     "text": [
      "Applied processor reduces input query to empty string, all comparisons will have score 0. [Query: '=']\n",
      "Applied processor reduces input query to empty string, all comparisons will have score 0. [Query: '']\n",
      "Applied processor reduces input query to empty string, all comparisons will have score 0. [Query: '—']\n",
      "Applied processor reduces input query to empty string, all comparisons will have score 0. [Query: '—']\n",
      "Applied processor reduces input query to empty string, all comparisons will have score 0. [Query: '']\n"
     ]
    },
    {
     "name": "stdout",
     "output_type": "stream",
     "text": [
      "Processing the txt file ../OUTPUT_FOLDER/2879381/Body/General/paragraph_21.txt\n",
      "\n",
      "It took 177.17 seconds for the folder 2649674\n",
      "Starting process for ../OUTPUT_FOLDER/1011419 at time=1725205776.036373\n",
      "\n",
      "Processing the txt file ../OUTPUT_FOLDER/1011419/Abstract/paragraph_1.txt\n",
      "\n",
      "Processing the txt file ../OUTPUT_FOLDER/2543022/Body/Results/paragraph_2.txt\n",
      "\n",
      "Processing the txt file ../OUTPUT_FOLDER/2879381/Body/General/paragraph_31.txt\n",
      "\n"
     ]
    },
    {
     "name": "stderr",
     "output_type": "stream",
     "text": [
      "Applied processor reduces input query to empty string, all comparisons will have score 0. [Query: '']\n"
     ]
    },
    {
     "name": "stdout",
     "output_type": "stream",
     "text": [
      "It took 1394.22 seconds for the folder 1282928\n",
      "Processing the txt file ../OUTPUT_FOLDER/1892099/Body/Methods/paragraph_38.txt\n",
      "\n",
      "Starting process for ../OUTPUT_FOLDER/3327532 at time=1725205785.6465037\n",
      "\n",
      "It took 0.02 seconds for the folder 3327532\n",
      "Starting process for ../OUTPUT_FOLDER/2376583 at time=1725205785.7009716\n",
      "\n",
      "It took 0.05 seconds for the folder 2376583\n",
      "Starting process for ../OUTPUT_FOLDER/1693150 at time=1725205785.7974553\n",
      "\n",
      "Processing the txt file ../OUTPUT_FOLDER/1693150/Abstract/paragraph_1.txt\n",
      "\n",
      "It took 584.61 seconds for the folder 2367156\n",
      "Starting process for ../OUTPUT_FOLDER/2562351 at time=1725205785.8721414\n",
      "\n",
      "Processing the txt file ../OUTPUT_FOLDER/2562351/Abstract/paragraph_1.txt\n",
      "\n",
      "Processing the txt file ../OUTPUT_FOLDER/2879381/Body/General/paragraph_29.txt\n",
      "\n"
     ]
    },
    {
     "name": "stderr",
     "output_type": "stream",
     "text": [
      "Applied processor reduces input query to empty string, all comparisons will have score 0. [Query: '']\n"
     ]
    },
    {
     "name": "stdout",
     "output_type": "stream",
     "text": [
      "Processing the txt file ../OUTPUT_FOLDER/2879381/Body/General/paragraph_27.txt\n",
      "\n",
      "Processing the txt file ../OUTPUT_FOLDER/2543022/Body/Results/paragraph_1.txt\n",
      "\n",
      "Processing the txt file ../OUTPUT_FOLDER/2879381/Body/General/paragraph_2.txt\n",
      "\n",
      "Processing the txt file ../OUTPUT_FOLDER/524249/Body/Results/paragraph_7.txt\n",
      "\n"
     ]
    },
    {
     "name": "stderr",
     "output_type": "stream",
     "text": [
      "Applied processor reduces input query to empty string, all comparisons will have score 0. [Query: '=']\n",
      "Applied processor reduces input query to empty string, all comparisons will have score 0. [Query: '']\n",
      "Applied processor reduces input query to empty string, all comparisons will have score 0. [Query: '=']\n"
     ]
    },
    {
     "name": "stdout",
     "output_type": "stream",
     "text": [
      "Processing the txt file ../OUTPUT_FOLDER/6826829/Body/The Opioid Antagonists_ Naltrexone/paragraph_1.txt\n",
      "\n"
     ]
    },
    {
     "name": "stderr",
     "output_type": "stream",
     "text": [
      "Applied processor reduces input query to empty string, all comparisons will have score 0. [Query: '=']\n",
      "Applied processor reduces input query to empty string, all comparisons will have score 0. [Query: ')']\n",
      "Applied processor reduces input query to empty string, all comparisons will have score 0. [Query: '=']\n",
      "Applied processor reduces input query to empty string, all comparisons will have score 0. [Query: '=']\n",
      "Applied processor reduces input query to empty string, all comparisons will have score 0. [Query: '']\n",
      "Applied processor reduces input query to empty string, all comparisons will have score 0. [Query: '']\n"
     ]
    },
    {
     "name": "stdout",
     "output_type": "stream",
     "text": [
      "Processing the txt file ../OUTPUT_FOLDER/2628577/Body/General/paragraph_22.txt\n",
      "\n"
     ]
    },
    {
     "name": "stderr",
     "output_type": "stream",
     "text": [
      "Applied processor reduces input query to empty string, all comparisons will have score 0. [Query: ')']\n"
     ]
    },
    {
     "name": "stdout",
     "output_type": "stream",
     "text": [
      "Processing the txt file ../OUTPUT_FOLDER/2628577/Body/General/paragraph_81.txt\n",
      "\n",
      "It took 1357.83 seconds for the folder 6493805\n",
      "Starting process for ../OUTPUT_FOLDER/1357190 at time=1725205814.305519\n",
      "\n",
      "It took 0.01 seconds for the folder 1357190\n",
      "Starting process for ../OUTPUT_FOLDER/2277804 at time=1725205814.3286028\n",
      "\n",
      "It took 0.01 seconds for the folder 2277804\n",
      "Starting process for ../OUTPUT_FOLDER/5901207 at time=1725205814.3382773\n",
      "\n",
      "Processing the txt file ../OUTPUT_FOLDER/5901207/Abstract/paragraph_1.txt\n",
      "\n",
      "Processing the txt file ../OUTPUT_FOLDER/1331420/Abstract/paragraph_4.txt\n",
      "\n",
      "It took 1056.51 seconds for the folder 2606797\n",
      "Starting process for ../OUTPUT_FOLDER/1291047 at time=1725205819.7925875\n",
      "\n",
      "Processing the txt file ../OUTPUT_FOLDER/1291047/Abstract/paragraph_1.txt\n",
      "\n",
      "It took 348.15 seconds for the folder 4437560\n",
      "Starting process for ../OUTPUT_FOLDER/2606711 at time=1725205820.4269984\n",
      "\n",
      "Processing the txt file ../OUTPUT_FOLDER/2606711/Abstract/paragraph_1.txt\n",
      "\n"
     ]
    },
    {
     "name": "stderr",
     "output_type": "stream",
     "text": [
      "Applied processor reduces input query to empty string, all comparisons will have score 0. [Query: ' )']\n"
     ]
    },
    {
     "name": "stdout",
     "output_type": "stream",
     "text": [
      "It took 917.16 seconds for the folder 128570\n",
      "Starting process for ../OUTPUT_FOLDER/1760627 at time=1725205836.053625\n",
      "\n",
      "It took 0.01 seconds for the folder 1760627\n",
      "Starting process for ../OUTPUT_FOLDER/544544 at time=1725205836.0637248\n",
      "\n",
      "Processing the txt file ../OUTPUT_FOLDER/544544/Abstract/paragraph_1.txt\n",
      "\n",
      "Processing the txt file ../OUTPUT_FOLDER/2441775/Body/Introduction/paragraph_3.txt\n",
      "\n",
      "Processing the txt file ../OUTPUT_FOLDER/2944387/Body/A cost function for deep brain stimulation/paragraph_1.txt\n",
      "\n"
     ]
    },
    {
     "name": "stderr",
     "output_type": "stream",
     "text": [
      "Applied processor reduces input query to empty string, all comparisons will have score 0. [Query: '']\n",
      "Applied processor reduces input query to empty string, all comparisons will have score 0. [Query: '']\n",
      "Applied processor reduces input query to empty string, all comparisons will have score 0. [Query: '']\n",
      "Applied processor reduces input query to empty string, all comparisons will have score 0. [Query: '']\n",
      "Applied processor reduces input query to empty string, all comparisons will have score 0. [Query: '']\n",
      "Applied processor reduces input query to empty string, all comparisons will have score 0. [Query: '']\n",
      "Applied processor reduces input query to empty string, all comparisons will have score 0. [Query: ')']\n",
      "Applied processor reduces input query to empty string, all comparisons will have score 0. [Query: '']\n"
     ]
    },
    {
     "name": "stdout",
     "output_type": "stream",
     "text": [
      "It took 545.87 seconds for the folder 2883872\n",
      "Starting process for ../OUTPUT_FOLDER/2591841 at time=1725205852.1474373\n",
      "\n",
      "It took 0.03 seconds for the folder 2591841\n",
      "Starting process for ../OUTPUT_FOLDER/1139860 at time=1725205852.186719\n",
      "\n",
      "It took 0.02 seconds for the folder 1139860\n",
      "Starting process for ../OUTPUT_FOLDER/3045182 at time=1725205852.2246823\n",
      "\n",
      "Processing the txt file ../OUTPUT_FOLDER/3045182/Abstract/paragraph_1.txt\n",
      "\n",
      "Processing the txt file ../OUTPUT_FOLDER/2879386/Body/METHODS/paragraph_21.txt\n",
      "\n"
     ]
    },
    {
     "name": "stderr",
     "output_type": "stream",
     "text": [
      "Applied processor reduces input query to empty string, all comparisons will have score 0. [Query: '']\n",
      "Applied processor reduces input query to empty string, all comparisons will have score 0. [Query: '']\n"
     ]
    },
    {
     "name": "stdout",
     "output_type": "stream",
     "text": [
      "Processing the txt file ../OUTPUT_FOLDER/2377267/Body/Results/paragraph_1.txt\n",
      "\n",
      "Processing the txt file ../OUTPUT_FOLDER/2580731/Body/Results/paragraph_7.txt\n",
      "\n"
     ]
    },
    {
     "name": "stderr",
     "output_type": "stream",
     "text": [
      "Applied processor reduces input query to empty string, all comparisons will have score 0. [Query: '=']\n",
      "Applied processor reduces input query to empty string, all comparisons will have score 0. [Query: '=']\n",
      "Applied processor reduces input query to empty string, all comparisons will have score 0. [Query: '=']\n",
      "Applied processor reduces input query to empty string, all comparisons will have score 0. [Query: ')']\n",
      "Applied processor reduces input query to empty string, all comparisons will have score 0. [Query: '=']\n"
     ]
    },
    {
     "name": "stdout",
     "output_type": "stream",
     "text": [
      "Processing the txt file ../OUTPUT_FOLDER/2807602/Body/General/paragraph_7.txt\n",
      "\n",
      "Processing the txt file ../OUTPUT_FOLDER/2812702/Body/Side-chains and receptive substances/paragraph_8.txt\n",
      "\n",
      "Processing the txt file ../OUTPUT_FOLDER/2944387/Body/A cost function for deep brain stimulation/paragraph_11.txt\n",
      "\n"
     ]
    },
    {
     "name": "stderr",
     "output_type": "stream",
     "text": [
      "Applied processor reduces input query to empty string, all comparisons will have score 0. [Query: '']\n"
     ]
    },
    {
     "name": "stdout",
     "output_type": "stream",
     "text": [
      "Processing the txt file ../OUTPUT_FOLDER/2543108/Body/Results/paragraph_40.txt\n",
      "\n"
     ]
    },
    {
     "name": "stderr",
     "output_type": "stream",
     "text": [
      "Applied processor reduces input query to empty string, all comparisons will have score 0. [Query: '']\n",
      "Applied processor reduces input query to empty string, all comparisons will have score 0. [Query: '']\n",
      "Applied processor reduces input query to empty string, all comparisons will have score 0. [Query: '']\n",
      "Applied processor reduces input query to empty string, all comparisons will have score 0. [Query: '']\n"
     ]
    },
    {
     "name": "stdout",
     "output_type": "stream",
     "text": [
      "It took 831.89 seconds for the folder 2195448\n",
      "Starting process for ../OUTPUT_FOLDER/2225455 at time=1725205869.7828705\n",
      "\n"
     ]
    },
    {
     "name": "stderr",
     "output_type": "stream",
     "text": [
      "Applied processor reduces input query to empty string, all comparisons will have score 0. [Query: '']\n"
     ]
    },
    {
     "name": "stdout",
     "output_type": "stream",
     "text": [
      "It took 0.02 seconds for the folder 2225455\n",
      "Starting process for ../OUTPUT_FOLDER/2230042 at time=1725205869.8333569\n",
      "\n",
      "It took 0.05 seconds for the folder 2230042\n",
      "Starting process for ../OUTPUT_FOLDER/2529148 at time=1725205869.9058483\n",
      "\n",
      "Processing the txt file ../OUTPUT_FOLDER/2529148/Abstract/paragraph_1.txt\n",
      "\n"
     ]
    },
    {
     "name": "stderr",
     "output_type": "stream",
     "text": [
      "Applied processor reduces input query to empty string, all comparisons will have score 0. [Query: '']\n",
      "Applied processor reduces input query to empty string, all comparisons will have score 0. [Query: ')']\n",
      "Applied processor reduces input query to empty string, all comparisons will have score 0. [Query: '']\n",
      "Applied processor reduces input query to empty string, all comparisons will have score 0. [Query: '']\n",
      "Applied processor reduces input query to empty string, all comparisons will have score 0. [Query: '']\n"
     ]
    },
    {
     "name": "stdout",
     "output_type": "stream",
     "text": [
      "It took 701.5 seconds for the folder 2758855\n",
      "Starting process for ../OUTPUT_FOLDER/3226080 at time=1725205873.2861195\n",
      "\n",
      "Processing the txt file ../OUTPUT_FOLDER/3226080/Body/section_1/paragraph_7.txt\n",
      "\n"
     ]
    },
    {
     "name": "stderr",
     "output_type": "stream",
     "text": [
      "Applied processor reduces input query to empty string, all comparisons will have score 0. [Query: '’']\n",
      "Applied processor reduces input query to empty string, all comparisons will have score 0. [Query: '']\n",
      "Applied processor reduces input query to empty string, all comparisons will have score 0. [Query: '']\n",
      "Applied processor reduces input query to empty string, all comparisons will have score 0. [Query: '']\n"
     ]
    },
    {
     "name": "stdout",
     "output_type": "stream",
     "text": [
      "Processing the txt file ../OUTPUT_FOLDER/1892099/Body/Methods/paragraph_61.txt\n",
      "\n",
      "Processing the txt file ../OUTPUT_FOLDER/2794896/Abstract/paragraph_1.txt\n",
      "\n",
      "It took 1367.85 seconds for the folder 6741669\n",
      "Starting process for ../OUTPUT_FOLDER/3749845 at time=1725205876.6936872\n",
      "\n",
      "Processing the txt file ../OUTPUT_FOLDER/3749845/Abstract/paragraph_1.txt\n",
      "\n"
     ]
    },
    {
     "name": "stderr",
     "output_type": "stream",
     "text": [
      "Applied processor reduces input query to empty string, all comparisons will have score 0. [Query: '']\n"
     ]
    },
    {
     "name": "stdout",
     "output_type": "stream",
     "text": [
      "Processing the txt file ../OUTPUT_FOLDER/1892099/Body/Methods/paragraph_53.txt\n",
      "\n",
      "Processing the txt file ../OUTPUT_FOLDER/3131218/Abstract/paragraph_3.txt\n",
      "\n",
      "Processing the txt file ../OUTPUT_FOLDER/1892099/Body/Methods/paragraph_22.txt\n",
      "\n"
     ]
    },
    {
     "name": "stderr",
     "output_type": "stream",
     "text": [
      "Applied processor reduces input query to empty string, all comparisons will have score 0. [Query: '-']\n"
     ]
    },
    {
     "name": "stdout",
     "output_type": "stream",
     "text": [
      "It took 1194.01 seconds for the folder 2441908\n",
      "Starting process for ../OUTPUT_FOLDER/1357296 at time=1725205879.4515529\n",
      "\n",
      "It took 0.03 seconds for the folder 1357296\n",
      "Starting process for ../OUTPUT_FOLDER/3181750 at time=1725205879.5004504\n",
      "\n",
      "Processing the txt file ../OUTPUT_FOLDER/3181750/Abstract/paragraph_1.txt\n",
      "\n",
      "Processing the txt file ../OUTPUT_FOLDER/2879381/Body/General/paragraph_28.txt\n",
      "\n",
      "Processing the txt file ../OUTPUT_FOLDER/544544/Body/Bewildering Variety/paragraph_2.txt\n",
      "\n",
      "Processing the txt file ../OUTPUT_FOLDER/3226080/Body/section_1/paragraph_12.txt\n",
      "\n",
      "Processing the txt file ../OUTPUT_FOLDER/3226080/Body/section_1/paragraph_13.txt\n",
      "\n"
     ]
    },
    {
     "name": "stderr",
     "output_type": "stream",
     "text": [
      "Applied processor reduces input query to empty string, all comparisons will have score 0. [Query: '']\n"
     ]
    },
    {
     "name": "stdout",
     "output_type": "stream",
     "text": [
      "Processing the txt file ../OUTPUT_FOLDER/3226080/Body/section_1/paragraph_8.txt\n",
      "\n"
     ]
    },
    {
     "name": "stderr",
     "output_type": "stream",
     "text": [
      "Applied processor reduces input query to empty string, all comparisons will have score 0. [Query: ')']\n"
     ]
    },
    {
     "name": "stdout",
     "output_type": "stream",
     "text": [
      "Processing the txt file ../OUTPUT_FOLDER/3226080/Body/section_1/paragraph_2.txt\n",
      "\n",
      "It took 749.43 seconds for the folder 2610191\n",
      "Starting process for ../OUTPUT_FOLDER/1088508 at time=1725205890.146149\n",
      "\n",
      "Processing the txt file ../OUTPUT_FOLDER/1088508/Abstract/paragraph_1.txt\n",
      "\n"
     ]
    },
    {
     "name": "stderr",
     "output_type": "stream",
     "text": [
      "Applied processor reduces input query to empty string, all comparisons will have score 0. [Query: ' ']\n"
     ]
    },
    {
     "name": "stdout",
     "output_type": "stream",
     "text": [
      "It took 128.87 seconds for the folder 1011419\n",
      "Starting process for ../OUTPUT_FOLDER/1692422 at time=1725205904.9115613\n",
      "\n",
      "Processing the txt file ../OUTPUT_FOLDER/1692422/Abstract/paragraph_1.txt\n",
      "\n",
      "Processing the txt file ../OUTPUT_FOLDER/516795/Body/General/paragraph_1.txt\n",
      "\n",
      "It took 526.65 seconds for the folder 1769469\n",
      "Starting process for ../OUTPUT_FOLDER/1088513 at time=1725205917.9773712\n",
      "\n",
      "Processing the txt file ../OUTPUT_FOLDER/1088513/Abstract/paragraph_1.txt\n",
      "\n",
      "Processing the txt file ../OUTPUT_FOLDER/1079901/Body/General/paragraph_4.txt\n",
      "\n",
      "Processing the txt file ../OUTPUT_FOLDER/2408653/Body/Results/paragraph_8.txt\n",
      "\n",
      "Processing the txt file ../OUTPUT_FOLDER/6793177/Abstract/paragraph_4.txt\n",
      "\n",
      "Processing the txt file ../OUTPUT_FOLDER/509312/Body/Funding the Search/paragraph_5.txt\n",
      "\n",
      "Processing the txt file ../OUTPUT_FOLDER/2660324/Body/Editorial/paragraph_3.txt\n",
      "\n"
     ]
    },
    {
     "name": "stderr",
     "output_type": "stream",
     "text": [
      "Applied processor reduces input query to empty string, all comparisons will have score 0. [Query: '']\n"
     ]
    },
    {
     "name": "stdout",
     "output_type": "stream",
     "text": [
      "Processing the txt file ../OUTPUT_FOLDER/2858681/Abstract/paragraph_1.txt\n",
      "\n",
      "It took 1159.36 seconds for the folder 6871378\n",
      "Starting process for ../OUTPUT_FOLDER/1656950 at time=1725205929.490385\n",
      "\n",
      "Processing the txt file ../OUTPUT_FOLDER/1656950/Abstract/paragraph_1.txt\n",
      "\n",
      "Processing the txt file ../OUTPUT_FOLDER/2704555/Body/General/paragraph_1.txt\n",
      "\n"
     ]
    },
    {
     "name": "stderr",
     "output_type": "stream",
     "text": [
      "Applied processor reduces input query to empty string, all comparisons will have score 0. [Query: ')']\n",
      "Applied processor reduces input query to empty string, all comparisons will have score 0. [Query: '']\n"
     ]
    },
    {
     "name": "stdout",
     "output_type": "stream",
     "text": [
      "Processing the txt file ../OUTPUT_FOLDER/1331420/Abstract/paragraph_6.txt\n",
      "\n",
      "It took 978.4 seconds for the folder 2518468\n",
      "Starting process for ../OUTPUT_FOLDER/1704118 at time=1725205949.700113\n",
      "\n",
      "It took 0.03 seconds for the folder 1704118\n",
      "Starting process for ../OUTPUT_FOLDER/2837935 at time=1725205949.7531447\n",
      "\n",
      "It took 0.03 seconds for the folder 2837935\n",
      "Starting process for ../OUTPUT_FOLDER/1693426 at time=1725205949.7940695\n",
      "\n",
      "Processing the txt file ../OUTPUT_FOLDER/1693426/Abstract/paragraph_1.txt\n",
      "\n",
      "It took 2.95 seconds for the folder 1693426\n",
      "Starting process for ../OUTPUT_FOLDER/2814941 at time=1725205952.7620018\n",
      "\n",
      "Processing the txt file ../OUTPUT_FOLDER/2814941/Abstract/paragraph_1.txt\n",
      "\n",
      "Processing the txt file ../OUTPUT_FOLDER/2528035/Abstract/paragraph_3.txt\n",
      "\n",
      "Processing the txt file ../OUTPUT_FOLDER/2292479/Body/The facilities and personnel/paragraph_1.txt\n",
      "\n",
      "It took 615.12 seconds for the folder 3131218\n",
      "Starting process for ../OUTPUT_FOLDER/2211411 at time=1725205955.343188\n",
      "\n",
      "Processing the txt file ../OUTPUT_FOLDER/2211411/Abstract/paragraph_1.txt\n",
      "\n",
      "It took 580.62 seconds for the folder 1088506\n",
      "Starting process for ../OUTPUT_FOLDER/2656551 at time=1725205962.9313285\n",
      "\n",
      "Processing the txt file ../OUTPUT_FOLDER/2656551/Abstract/paragraph_2.txt\n",
      "\n",
      "Processing the txt file ../OUTPUT_FOLDER/2628577/Body/General/paragraph_91.txt\n",
      "\n",
      "It took 1103.03 seconds for the folder 2203192\n",
      "Starting process for ../OUTPUT_FOLDER/2195421 at time=1725205967.4884562\n",
      "\n",
      "Processing the txt file ../OUTPUT_FOLDER/2195421/Abstract/paragraph_1.txt\n",
      "\n",
      "Processing the txt file ../OUTPUT_FOLDER/2704555/Body/General/paragraph_3.txt\n",
      "\n",
      "Processing the txt file ../OUTPUT_FOLDER/1331420/Abstract/paragraph_5.txt\n",
      "\n"
     ]
    },
    {
     "name": "stderr",
     "output_type": "stream",
     "text": [
      "Applied processor reduces input query to empty string, all comparisons will have score 0. [Query: '']\n"
     ]
    },
    {
     "name": "stdout",
     "output_type": "stream",
     "text": [
      "Processing the txt file ../OUTPUT_FOLDER/2528035/Abstract/paragraph_4.txt\n",
      "\n",
      "Processing the txt file ../OUTPUT_FOLDER/2099449/Abstract/paragraph_3.txt\n",
      "\n",
      "Processing the txt file ../OUTPUT_FOLDER/300687/Body/General/paragraph_1.txt\n",
      "\n",
      "Processing the txt file ../OUTPUT_FOLDER/2528035/Abstract/paragraph_5.txt\n",
      "\n",
      "Processing the txt file ../OUTPUT_FOLDER/2660436/Body/The Future of “Noise Benefits” Research in Biology and Biomedical Engineering/paragraph_13.txt\n",
      "\n"
     ]
    },
    {
     "name": "stderr",
     "output_type": "stream",
     "text": [
      "Applied processor reduces input query to empty string, all comparisons will have score 0. [Query: '–']\n",
      "Applied processor reduces input query to empty string, all comparisons will have score 0. [Query: '']\n"
     ]
    },
    {
     "name": "stdout",
     "output_type": "stream",
     "text": [
      "It took 503.23 seconds for the folder 6674866\n",
      "Starting process for ../OUTPUT_FOLDER/79037 at time=1725206002.25565\n",
      "\n",
      "Processing the txt file ../OUTPUT_FOLDER/79037/Abstract/paragraph_1.txt\n",
      "\n",
      "It took 953.61 seconds for the folder 6741751\n",
      "Starting process for ../OUTPUT_FOLDER/2555421 at time=1725206012.0459785\n",
      "\n",
      "It took 0.01 seconds for the folder 2555421\n",
      "Starting process for ../OUTPUT_FOLDER/3045671 at time=1725206012.0651538\n",
      "Processing the txt file ../OUTPUT_FOLDER/3045671/Abstract/paragraph_1.txt\n",
      "\n",
      "\n",
      "Processing the txt file ../OUTPUT_FOLDER/2685001/Body/Results/paragraph_1.txt\n",
      "\n"
     ]
    },
    {
     "name": "stderr",
     "output_type": "stream",
     "text": [
      "Applied processor reduces input query to empty string, all comparisons will have score 0. [Query: '']\n"
     ]
    },
    {
     "name": "stdout",
     "output_type": "stream",
     "text": [
      "It took 521.3 seconds for the folder 2841002\n",
      "Starting process for ../OUTPUT_FOLDER/2375519 at time=1725206026.7799273\n",
      "\n",
      "It took 0.01 seconds for the folder 2375519\n",
      "Starting process for ../OUTPUT_FOLDER/2894668 at time=1725206026.8102639\n",
      "\n",
      "Processing the txt file ../OUTPUT_FOLDER/2894668/Abstract/paragraph_1.txt\n",
      "\n"
     ]
    },
    {
     "name": "stderr",
     "output_type": "stream",
     "text": [
      "Applied processor reduces input query to empty string, all comparisons will have score 0. [Query: '']\n"
     ]
    },
    {
     "name": "stdout",
     "output_type": "stream",
     "text": [
      "Processing the txt file ../OUTPUT_FOLDER/57000/Abstract/paragraph_3.txt\n",
      "\n",
      "Processing the txt file ../OUTPUT_FOLDER/2746321/Body/Results/paragraph_3.txt\n",
      "\n",
      "Processing the txt file ../OUTPUT_FOLDER/2746321/Body/Results/paragraph_4.txt\n",
      "\n",
      "Processing the txt file ../OUTPUT_FOLDER/2099449/Body/Results/paragraph_7.txt\n",
      "\n",
      "It took 671.66 seconds for the folder 2291142\n",
      "Starting process for ../OUTPUT_FOLDER/1357620 at time=1725206045.4829056\n",
      "\n",
      "Processing the txt file ../OUTPUT_FOLDER/1357620/Abstract/paragraph_2.txt\n",
      "\n",
      "Processing the txt file ../OUTPUT_FOLDER/2746321/Body/Results/paragraph_6.txt\n",
      "\n",
      "Processing the txt file ../OUTPUT_FOLDER/2879381/Body/General/paragraph_20.txt\n",
      "\n",
      "Processing the txt file ../OUTPUT_FOLDER/2746321/Body/Results/paragraph_5.txt\n",
      "\n"
     ]
    },
    {
     "name": "stderr",
     "output_type": "stream",
     "text": [
      "Applied processor reduces input query to empty string, all comparisons will have score 0. [Query: '']\n"
     ]
    },
    {
     "name": "stdout",
     "output_type": "stream",
     "text": [
      "Processing the txt file ../OUTPUT_FOLDER/1079901/Body/General/paragraph_6.txt\n",
      "\n",
      "It took 616.34 seconds for the folder 1331420\n",
      "Starting process for ../OUTPUT_FOLDER/2361132 at time=1725206062.3698988\n",
      "\n",
      "Processing the txt file ../OUTPUT_FOLDER/2361132/Abstract/paragraph_1.txt\n",
      "\n",
      "Processing the txt file ../OUTPUT_FOLDER/1892099/Body/Methods/paragraph_81.txt\n",
      "\n",
      "It took 972.42 seconds for the folder 6793177\n",
      "Starting process for ../OUTPUT_FOLDER/2856084 at time=1725206068.3161068\n",
      "\n",
      "It took 0.02 seconds for the folder 2856084\n",
      "Starting process for ../OUTPUT_FOLDER/139408 at time=1725206068.3460898\n",
      "\n",
      "Processing the txt file ../OUTPUT_FOLDER/139408/Abstract/paragraph_2.txt\n",
      "\n",
      "Processing the txt file ../OUTPUT_FOLDER/2660436/Body/The Future of “Noise Benefits” Research in Biology and Biomedical Engineering/paragraph_8.txt\n",
      "\n",
      "Processing the txt file ../OUTPUT_FOLDER/1331423/Abstract/paragraph_3.txt\n",
      "\n",
      "It took 995.65 seconds for the folder 1088512\n",
      "Starting process for ../OUTPUT_FOLDER/2063440 at time=1725206075.824705\n",
      "\n",
      "Processing the txt file ../OUTPUT_FOLDER/2063440/Abstract/paragraph_1.txt\n",
      "\n"
     ]
    },
    {
     "name": "stderr",
     "output_type": "stream",
     "text": [
      "Applied processor reduces input query to empty string, all comparisons will have score 0. [Query: '']\n",
      "Applied processor reduces input query to empty string, all comparisons will have score 0. [Query: '']\n",
      "Applied processor reduces input query to empty string, all comparisons will have score 0. [Query: '']\n"
     ]
    },
    {
     "name": "stdout",
     "output_type": "stream",
     "text": [
      "Processing the txt file ../OUTPUT_FOLDER/2543022/Body/Results/paragraph_3.txt\n",
      "\n",
      "It took 555.2 seconds for the folder 2966144\n",
      "Starting process for ../OUTPUT_FOLDER/2607327 at time=1725206098.114252\n",
      "\n",
      "Processing the txt file ../OUTPUT_FOLDER/2607327/Abstract/paragraph_1.txt\n",
      "\n",
      "It took 867.93 seconds for the folder 6871382\n",
      "Starting process for ../OUTPUT_FOLDER/1991835 at time=1725206113.9829862\n",
      "\n",
      "It took 0.01 seconds for the folder 1991835\n",
      "Starting process for ../OUTPUT_FOLDER/1436242 at time=1725206113.99505\n",
      "\n",
      "It took 0.03 seconds for the folder 1436242\n",
      "Starting process for ../OUTPUT_FOLDER/2603451 at time=1725206114.032103\n",
      "\n",
      "It took 0.03 seconds for the folder 2603451\n",
      "Starting process for ../OUTPUT_FOLDER/1166674 at time=1725206114.079386\n",
      "\n",
      "It took 0.03 seconds for the folder 1166674\n",
      "Starting process for ../OUTPUT_FOLDER/2148426 at time=1725206114.1197584\n",
      "\n",
      "Processing the txt file ../OUTPUT_FOLDER/2148426/Abstract/paragraph_1.txt\n",
      "\n",
      "It took 305.26 seconds for the folder 5901207\n",
      "Starting process for ../OUTPUT_FOLDER/486858 at time=1725206119.6250725\n",
      "\n",
      "It took 0.01 seconds for the folder 486858\n",
      "Starting process for ../OUTPUT_FOLDER/1367598 at time=1725206119.6402998\n",
      "\n",
      "Processing the txt file ../OUTPUT_FOLDER/1367598/Abstract/paragraph_1.txt\n",
      "\n"
     ]
    },
    {
     "name": "stderr",
     "output_type": "stream",
     "text": [
      "Applied processor reduces input query to empty string, all comparisons will have score 0. [Query: '=']\n",
      "Applied processor reduces input query to empty string, all comparisons will have score 0. [Query: '-']\n"
     ]
    },
    {
     "name": "stdout",
     "output_type": "stream",
     "text": [
      "Processing the txt file ../OUTPUT_FOLDER/1397826/Body/Results/paragraph_6.txt\n",
      "\n",
      "Processing the txt file ../OUTPUT_FOLDER/2794896/Abstract/paragraph_3.txt\n",
      "\n",
      "It took 880.18 seconds for the folder 2763494\n",
      "Starting process for ../OUTPUT_FOLDER/2811712 at time=1725206130.0643537\n",
      "\n",
      "Processing the txt file ../OUTPUT_FOLDER/2811712/Abstract/paragraph_1.txt\n",
      "\n",
      "Processing the txt file ../OUTPUT_FOLDER/1553477/Body/Use of Heterogeneous Data/paragraph_1.txt\n",
      "\n",
      "It took 1064.9 seconds for the folder 2743139\n",
      "Starting process for ../OUTPUT_FOLDER/4820242 at time=1725206131.9335265\n",
      "\n",
      "Processing the txt file ../OUTPUT_FOLDER/4820242/Abstract/paragraph_1.txt\n",
      "\n",
      "Processing the txt file ../OUTPUT_FOLDER/3181768/Body/Neuroanatomical models/paragraph_7.txt\n",
      "\n",
      "Processing the txt file ../OUTPUT_FOLDER/139408/Abstract/paragraph_1.txt\n",
      "\n"
     ]
    },
    {
     "name": "stderr",
     "output_type": "stream",
     "text": [
      "Applied processor reduces input query to empty string, all comparisons will have score 0. [Query: '=']\n",
      "Applied processor reduces input query to empty string, all comparisons will have score 0. [Query: '']\n",
      "Applied processor reduces input query to empty string, all comparisons will have score 0. [Query: '=']\n",
      "Applied processor reduces input query to empty string, all comparisons will have score 0. [Query: '=']\n"
     ]
    },
    {
     "name": "stdout",
     "output_type": "stream",
     "text": [
      "Processing the txt file ../OUTPUT_FOLDER/2580731/Body/Results/paragraph_12.txt\n",
      "\n",
      "Processing the txt file ../OUTPUT_FOLDER/300687/Body/General/paragraph_3.txt\n",
      "\n",
      "Processing the txt file ../OUTPUT_FOLDER/2543022/Body/Results/paragraph_4.txt\n",
      "\n"
     ]
    },
    {
     "name": "stderr",
     "output_type": "stream",
     "text": [
      "Applied processor reduces input query to empty string, all comparisons will have score 0. [Query: '']\n"
     ]
    },
    {
     "name": "stdout",
     "output_type": "stream",
     "text": [
      "It took 511.39 seconds for the folder 1560529\n",
      "Starting process for ../OUTPUT_FOLDER/2247701 at time=1725206159.608428\n",
      "\n",
      "It took 0.02 seconds for the folder 2247701\n",
      "Starting process for ../OUTPUT_FOLDER/4338577 at time=1725206159.6542933\n",
      "\n",
      "Processing the txt file ../OUTPUT_FOLDER/4338577/Abstract/paragraph_1.txt\n",
      "\n",
      "It took 539.72 seconds for the folder 2714662\n",
      "Starting process for ../OUTPUT_FOLDER/1368832 at time=1725206160.3522851\n",
      "\n",
      "It took 0.02 seconds for the folder 1368832\n",
      "Starting process for ../OUTPUT_FOLDER/2324197 at time=1725206160.3820348\n",
      "\n",
      "Processing the txt file ../OUTPUT_FOLDER/2324197/Abstract/paragraph_1.txt\n",
      "\n",
      "It took 1070.55 seconds for the folder 2663521\n",
      "Starting process for ../OUTPUT_FOLDER/1340105 at time=1725206168.7359588\n",
      "\n",
      "It took 0.03 seconds for the folder 1340105\n",
      "Starting process for ../OUTPUT_FOLDER/2637155 at time=1725206168.78059\n",
      "\n",
      "Processing the txt file ../OUTPUT_FOLDER/2637155/Abstract/paragraph_1.txt\n",
      "\n",
      "Processing the txt file ../OUTPUT_FOLDER/1892101/Body/Results/paragraph_21.txt\n",
      "\n"
     ]
    },
    {
     "name": "stderr",
     "output_type": "stream",
     "text": [
      "Applied processor reduces input query to empty string, all comparisons will have score 0. [Query: ')']\n"
     ]
    },
    {
     "name": "stdout",
     "output_type": "stream",
     "text": [
      "Processing the txt file ../OUTPUT_FOLDER/1892101/Body/Results/paragraph_41.txt\n",
      "\n",
      "Processing the txt file ../OUTPUT_FOLDER/1892101/Body/Results/paragraph_35.txt\n",
      "\n"
     ]
    },
    {
     "name": "stderr",
     "output_type": "stream",
     "text": [
      "Applied processor reduces input query to empty string, all comparisons will have score 0. [Query: ')']\n"
     ]
    },
    {
     "name": "stdout",
     "output_type": "stream",
     "text": [
      "It took 1292.17 seconds for the folder 2754208\n",
      "Starting process for ../OUTPUT_FOLDER/8094732 at time=1725206173.6836042\n",
      "\n",
      "It took 0.02 seconds for the folder 8094732\n",
      "Processing the txt file ../OUTPUT_FOLDER/1892101/Body/Results/paragraph_31.txt\n",
      "\n",
      "Starting process for ../OUTPUT_FOLDER/5917291 at time=1725206173.7136521\n",
      "\n",
      "Processing the txt file ../OUTPUT_FOLDER/5917291/Abstract/paragraph_1.txt\n",
      "\n",
      "Processing the txt file ../OUTPUT_FOLDER/1892101/Body/Results/paragraph_29.txt\n",
      "\n",
      "Processing the txt file ../OUTPUT_FOLDER/1892101/Body/Results/paragraph_27.txt\n",
      "\n",
      "Processing the txt file ../OUTPUT_FOLDER/1892101/Body/Results/paragraph_55.txt\n",
      "\n",
      "It took 654.67 seconds for the folder 2528035\n",
      "Starting process for ../OUTPUT_FOLDER/1869351 at time=1725206180.710998\n",
      "\n",
      "It took 0.01 seconds for the folder 1869351\n",
      "Starting process for ../OUTPUT_FOLDER/2755561 at time=1725206180.7303874\n",
      "\n",
      "Processing the txt file ../OUTPUT_FOLDER/2755561/Abstract/paragraph_1.txt\n",
      "\n",
      "Processing the txt file ../OUTPUT_FOLDER/1892101/Body/Results/paragraph_2.txt\n",
      "\n",
      "Processing the txt file ../OUTPUT_FOLDER/2746321/Body/Introduction/paragraph_2.txt\n",
      "\n"
     ]
    },
    {
     "name": "stderr",
     "output_type": "stream",
     "text": [
      "Applied processor reduces input query to empty string, all comparisons will have score 0. [Query: '']\n",
      "Applied processor reduces input query to empty string, all comparisons will have score 0. [Query: '']\n"
     ]
    },
    {
     "name": "stdout",
     "output_type": "stream",
     "text": [
      "It took 650.63 seconds for the folder 3268652\n",
      "Starting process for ../OUTPUT_FOLDER/1302462 at time=1725206191.780819\n",
      "\n",
      "Processing the txt file ../OUTPUT_FOLDER/1302462/Abstract/paragraph_1.txt\n",
      "\n"
     ]
    },
    {
     "name": "stderr",
     "output_type": "stream",
     "text": [
      "Applied processor reduces input query to empty string, all comparisons will have score 0. [Query: '']\n"
     ]
    },
    {
     "name": "stdout",
     "output_type": "stream",
     "text": [
      "Processing the txt file ../OUTPUT_FOLDER/2628577/Body/General/paragraph_97.txt\n",
      "\n",
      "Processing the txt file ../OUTPUT_FOLDER/2879381/Body/General/paragraph_10.txt\n",
      "\n"
     ]
    },
    {
     "name": "stderr",
     "output_type": "stream",
     "text": [
      "Applied processor reduces input query to empty string, all comparisons will have score 0. [Query: '']\n",
      "Applied processor reduces input query to empty string, all comparisons will have score 0. [Query: '']\n"
     ]
    },
    {
     "name": "stdout",
     "output_type": "stream",
     "text": [
      "Processing the txt file ../OUTPUT_FOLDER/139408/Body/section_1/paragraph_1.txt\n",
      "\n",
      "Processing the txt file ../OUTPUT_FOLDER/2879386/Body/METHODS/paragraph_27.txt\n",
      "\n"
     ]
    },
    {
     "name": "stderr",
     "output_type": "stream",
     "text": [
      "Applied processor reduces input query to empty string, all comparisons will have score 0. [Query: '']\n"
     ]
    },
    {
     "name": "stdout",
     "output_type": "stream",
     "text": [
      "It took 840.59 seconds for the folder 2818590\n",
      "Starting process for ../OUTPUT_FOLDER/17588 at time=1725206210.0473492\n",
      "\n",
      "Processing the txt file ../OUTPUT_FOLDER/17588/Abstract/paragraph_1.txt\n",
      "\n",
      "Processing the txt file ../OUTPUT_FOLDER/2628577/Body/General/paragraph_13.txt\n",
      "\n",
      "Processing the txt file ../OUTPUT_FOLDER/2229370/Body/Early suggestions for local control in the anterior pituitary gland/paragraph_2.txt\n",
      "\n",
      "Processing the txt file ../OUTPUT_FOLDER/2879381/Body/General/paragraph_1.txt\n",
      "\n",
      "Processing the txt file ../OUTPUT_FOLDER/2628577/Body/General/paragraph_94.txt\n",
      "\n",
      "It took 818.49 seconds for the folder 3482110\n",
      "Starting process for ../OUTPUT_FOLDER/1259627 at time=1725206219.566092\n",
      "\n",
      "It took 0.01 seconds for the folder 1259627\n",
      "Starting process for ../OUTPUT_FOLDER/3181870 at time=1725206219.579563\n",
      "\n",
      "Processing the txt file ../OUTPUT_FOLDER/3181870/Abstract/paragraph_1.txt\n",
      "\n",
      "Processing the txt file ../OUTPUT_FOLDER/1357620/Abstract/paragraph_1.txt\n",
      "\n",
      "Processing the txt file ../OUTPUT_FOLDER/2628577/Body/General/paragraph_8.txt\n",
      "\n",
      "Processing the txt file ../OUTPUT_FOLDER/2879381/Body/General/paragraph_32.txt\n",
      "\n",
      "Processing the txt file ../OUTPUT_FOLDER/2628577/Body/General/paragraph_58.txt\n",
      "\n",
      "Processing the txt file ../OUTPUT_FOLDER/2628577/Body/General/paragraph_42.txt\n",
      "\n",
      "Processing the txt file ../OUTPUT_FOLDER/2628577/Body/General/paragraph_65.txt\n",
      "\n"
     ]
    },
    {
     "name": "stderr",
     "output_type": "stream",
     "text": [
      "Applied processor reduces input query to empty string, all comparisons will have score 0. [Query: '']\n"
     ]
    },
    {
     "name": "stdout",
     "output_type": "stream",
     "text": [
      "Processing the txt file ../OUTPUT_FOLDER/2817684/Body/Results/paragraph_10.txt\n",
      "\n",
      "It took 1018.15 seconds for the folder 1088517\n",
      "Starting process for ../OUTPUT_FOLDER/3202491 at time=1725206232.6709647\n",
      "\n",
      "Processing the txt file ../OUTPUT_FOLDER/3202491/Abstract/paragraph_1.txt\n",
      "\n",
      "Processing the txt file ../OUTPUT_FOLDER/2704555/Body/General/paragraph_4.txt\n",
      "\n"
     ]
    },
    {
     "name": "stderr",
     "output_type": "stream",
     "text": [
      "Applied processor reduces input query to empty string, all comparisons will have score 0. [Query: '']\n"
     ]
    },
    {
     "name": "stdout",
     "output_type": "stream",
     "text": [
      "It took 1078.75 seconds for the folder 2794896\n",
      "Starting process for ../OUTPUT_FOLDER/1738507 at time=1725206235.4247417\n",
      "\n",
      "Processing the txt file ../OUTPUT_FOLDER/1738507/Abstract/paragraph_1.txt\n",
      "\n"
     ]
    },
    {
     "name": "stderr",
     "output_type": "stream",
     "text": [
      "Applied processor reduces input query to empty string, all comparisons will have score 0. [Query: '=']\n",
      "Applied processor reduces input query to empty string, all comparisons will have score 0. [Query: '=']\n",
      "Applied processor reduces input query to empty string, all comparisons will have score 0. [Query: '=']\n"
     ]
    },
    {
     "name": "stdout",
     "output_type": "stream",
     "text": [
      "Processing the txt file ../OUTPUT_FOLDER/57000/Body/Results/paragraph_7.txt\n",
      "\n"
     ]
    },
    {
     "name": "stderr",
     "output_type": "stream",
     "text": [
      "Applied processor reduces input query to empty string, all comparisons will have score 0. [Query: '']\n",
      "Applied processor reduces input query to empty string, all comparisons will have score 0. [Query: '']\n",
      "Applied processor reduces input query to empty string, all comparisons will have score 0. [Query: '=']\n"
     ]
    },
    {
     "name": "stdout",
     "output_type": "stream",
     "text": [
      "Processing the txt file ../OUTPUT_FOLDER/516795/Body/General/paragraph_3.txt\n",
      "\n",
      "It took 426.39 seconds for the folder 1291047\n",
      "Starting process for ../OUTPUT_FOLDER/1693157 at time=1725206246.2033389\n",
      "\n",
      "Processing the txt file ../OUTPUT_FOLDER/1693157/Abstract/paragraph_1.txt\n",
      "\n"
     ]
    },
    {
     "name": "stderr",
     "output_type": "stream",
     "text": [
      "Applied processor reduces input query to empty string, all comparisons will have score 0. [Query: '']\n",
      "Applied processor reduces input query to empty string, all comparisons will have score 0. [Query: '']\n",
      "Applied processor reduces input query to empty string, all comparisons will have score 0. [Query: '']\n"
     ]
    },
    {
     "name": "stdout",
     "output_type": "stream",
     "text": [
      "Processing the txt file ../OUTPUT_FOLDER/57000/Body/Results/paragraph_8.txt\n",
      "\n",
      "Processing the txt file ../OUTPUT_FOLDER/1357620/Abstract/paragraph_3.txt\n",
      "\n"
     ]
    },
    {
     "name": "stderr",
     "output_type": "stream",
     "text": [
      "Applied processor reduces input query to empty string, all comparisons will have score 0. [Query: '']\n"
     ]
    },
    {
     "name": "stdout",
     "output_type": "stream",
     "text": [
      "It took 681.42 seconds for the folder 2720416\n",
      "Starting process for ../OUTPUT_FOLDER/1365469 at time=1725206255.5931087\n",
      "\n",
      "Processing the txt file ../OUTPUT_FOLDER/1365469/Abstract/paragraph_2.txt\n",
      "\n",
      "Processing the txt file ../OUTPUT_FOLDER/6826829/Body/The Opioid Antagonists_ Naltrexone/paragraph_3.txt\n",
      "\n",
      "Processing the txt file ../OUTPUT_FOLDER/1079901/Body/General/paragraph_5.txt\n",
      "\n"
     ]
    },
    {
     "name": "stderr",
     "output_type": "stream",
     "text": [
      "Applied processor reduces input query to empty string, all comparisons will have score 0. [Query: ' ']\n",
      "Applied processor reduces input query to empty string, all comparisons will have score 0. [Query: '']\n"
     ]
    },
    {
     "name": "stdout",
     "output_type": "stream",
     "text": [
      "Processing the txt file ../OUTPUT_FOLDER/212696/Body/General/paragraph_8.txt\n",
      "\n"
     ]
    },
    {
     "name": "stderr",
     "output_type": "stream",
     "text": [
      "Applied processor reduces input query to empty string, all comparisons will have score 0. [Query: '']\n",
      "Applied processor reduces input query to empty string, all comparisons will have score 0. [Query: '=']\n",
      "Applied processor reduces input query to empty string, all comparisons will have score 0. [Query: '=']\n",
      "Applied processor reduces input query to empty string, all comparisons will have score 0. [Query: '=']\n"
     ]
    },
    {
     "name": "stdout",
     "output_type": "stream",
     "text": [
      "Processing the txt file ../OUTPUT_FOLDER/2099449/Body/Results/paragraph_12.txt\n",
      "\n"
     ]
    },
    {
     "name": "stderr",
     "output_type": "stream",
     "text": [
      "Applied processor reduces input query to empty string, all comparisons will have score 0. [Query: '=']\n"
     ]
    },
    {
     "name": "stdout",
     "output_type": "stream",
     "text": [
      "Processing the txt file ../OUTPUT_FOLDER/2099449/Body/Results/paragraph_13.txt\n",
      "\n",
      "Processing the txt file ../OUTPUT_FOLDER/2628577/Body/General/paragraph_79.txt\n",
      "\n",
      "Processing the txt file ../OUTPUT_FOLDER/2660324/Body/Editorial/paragraph_4.txt\n",
      "\n"
     ]
    },
    {
     "name": "stderr",
     "output_type": "stream",
     "text": [
      "Applied processor reduces input query to empty string, all comparisons will have score 0. [Query: '']\n",
      "Applied processor reduces input query to empty string, all comparisons will have score 0. [Query: '']\n"
     ]
    },
    {
     "name": "stdout",
     "output_type": "stream",
     "text": [
      "Processing the txt file ../OUTPUT_FOLDER/2660324/Body/Editorial/paragraph_6.txt\n",
      "\n",
      "Processing the txt file ../OUTPUT_FOLDER/1357620/Abstract/paragraph_4.txt\n",
      "\n",
      "Processing the txt file ../OUTPUT_FOLDER/1331423/Abstract/paragraph_4.txt\n",
      "\n",
      "It took 761.22 seconds for the folder 3045185\n",
      "Starting process for ../OUTPUT_FOLDER/1308409 at time=1725206303.460611\n",
      "\n",
      "Processing the txt file ../OUTPUT_FOLDER/1308409/Abstract/paragraph_1.txt\n",
      "\n",
      "It took 517.78 seconds for the folder 1693150\n",
      "Starting process for ../OUTPUT_FOLDER/1081624 at time=1725206303.5883965\n",
      "\n",
      "It took 0.03 seconds for the folder 1081624\n",
      "Starting process for ../OUTPUT_FOLDER/1945051 at time=1725206303.6251493\n",
      "\n",
      "Processing the txt file ../OUTPUT_FOLDER/1945051/Abstract/paragraph_1.txt\n",
      "\n",
      "Processing the txt file ../OUTPUT_FOLDER/2660324/Body/Editorial/paragraph_5.txt\n",
      "\n"
     ]
    },
    {
     "name": "stderr",
     "output_type": "stream",
     "text": [
      "Applied processor reduces input query to empty string, all comparisons will have score 0. [Query: '±']\n",
      "Applied processor reduces input query to empty string, all comparisons will have score 0. [Query: '±']\n"
     ]
    },
    {
     "name": "stdout",
     "output_type": "stream",
     "text": [
      "It took 906.32 seconds for the folder 1618509\n",
      "Starting process for ../OUTPUT_FOLDER/5074883 at time=1725206310.6319683\n",
      "\n",
      "Processing the txt file ../OUTPUT_FOLDER/5074883/Abstract/paragraph_1.txt\n",
      "\n",
      "It took 359.84 seconds for the folder 2211411\n",
      "Starting process for ../OUTPUT_FOLDER/2362143 at time=1725206315.19957\n",
      "\n",
      "Processing the txt file ../OUTPUT_FOLDER/2362143/Abstract/paragraph_1.txt\n",
      "\n",
      "Processing the txt file ../OUTPUT_FOLDER/2292479/Body/The facilities and personnel/paragraph_3.txt\n",
      "\n",
      "It took 1186.37 seconds for the folder 2700003\n",
      "Starting process for ../OUTPUT_FOLDER/1270698 at time=1725206320.5818393\n",
      "\n",
      "It took 0.06 seconds for the folder 1270698\n",
      "Starting process for ../OUTPUT_FOLDER/1359486 at time=1725206320.651393\n",
      "\n",
      "It took 0.03 seconds for the folder 1359486\n",
      "Starting process for ../OUTPUT_FOLDER/2366095 at time=1725206320.6999223\n",
      "\n",
      "Processing the txt file ../OUTPUT_FOLDER/2366095/Abstract/paragraph_1.txt\n",
      "\n",
      "Processing the txt file ../OUTPUT_FOLDER/2944387/Body/A cost function for deep brain stimulation/paragraph_3.txt\n",
      "\n"
     ]
    },
    {
     "name": "stderr",
     "output_type": "stream",
     "text": [
      "Applied processor reduces input query to empty string, all comparisons will have score 0. [Query: '']\n"
     ]
    },
    {
     "name": "stdout",
     "output_type": "stream",
     "text": [
      "Processing the txt file ../OUTPUT_FOLDER/2543022/Body/Results/paragraph_6.txt\n",
      "\n"
     ]
    },
    {
     "name": "stderr",
     "output_type": "stream",
     "text": [
      "Applied processor reduces input query to empty string, all comparisons will have score 0. [Query: '=']\n",
      "Applied processor reduces input query to empty string, all comparisons will have score 0. [Query: '=']\n",
      "Applied processor reduces input query to empty string, all comparisons will have score 0. [Query: '']\n",
      "Applied processor reduces input query to empty string, all comparisons will have score 0. [Query: '=']\n",
      "Applied processor reduces input query to empty string, all comparisons will have score 0. [Query: '']\n",
      "Applied processor reduces input query to empty string, all comparisons will have score 0. [Query: '=']\n",
      "Applied processor reduces input query to empty string, all comparisons will have score 0. [Query: '']\n",
      "Applied processor reduces input query to empty string, all comparisons will have score 0. [Query: ')']\n"
     ]
    },
    {
     "name": "stdout",
     "output_type": "stream",
     "text": [
      "Processing the txt file ../OUTPUT_FOLDER/2225589/Body/Results/paragraph_7.txt\n",
      "\n",
      "It took 707.52 seconds for the folder 2761206\n",
      "Starting process for ../OUTPUT_FOLDER/2607329 at time=1725206349.9402113\n",
      "\n",
      "Processing the txt file ../OUTPUT_FOLDER/2607329/Abstract/paragraph_1.txt\n",
      "\n",
      "Processing the txt file ../OUTPUT_FOLDER/1892099/Body/Methods/paragraph_91.txt\n",
      "\n",
      "It took 400.76 seconds for the folder 2814941\n",
      "Starting process for ../OUTPUT_FOLDER/4780964 at time=1725206353.5275924\n",
      "\n",
      "Processing the txt file ../OUTPUT_FOLDER/4780964/Abstract/paragraph_1.txt\n",
      "\n",
      "Processing the txt file ../OUTPUT_FOLDER/1770939/Abstract/paragraph_1.txt\n",
      "\n",
      "It took 749.4 seconds for the folder 2784994\n",
      "Starting process for ../OUTPUT_FOLDER/1933427 at time=1725206360.596252\n",
      "\n",
      "Processing the txt file ../OUTPUT_FOLDER/1933427/Abstract/paragraph_2.txt\n",
      "\n",
      "Processing the txt file ../OUTPUT_FOLDER/2408653/Body/Results/paragraph_2.txt\n",
      "\n",
      "Processing the txt file ../OUTPUT_FOLDER/1553477/Body/Use of Heterogeneous Data/paragraph_3.txt\n",
      "\n",
      "Processing the txt file ../OUTPUT_FOLDER/3226080/Body/section_1/paragraph_20.txt\n",
      "\n",
      "Processing the txt file ../OUTPUT_FOLDER/3226080/Body/section_1/paragraph_10.txt\n",
      "\n",
      "Processing the txt file ../OUTPUT_FOLDER/3226080/Body/section_1/paragraph_1.txt\n",
      "\n",
      "Processing the txt file ../OUTPUT_FOLDER/300687/Body/Let Me Pick Your Brain/paragraph_7.txt\n",
      "\n",
      "It took 359.97 seconds for the folder 1357620\n",
      "Starting process for ../OUTPUT_FOLDER/1525139 at time=1725206405.463238\n",
      "\n",
      "It took 0.01 seconds for the folder 1525139\n",
      "Starting process for ../OUTPUT_FOLDER/2696074 at time=1725206405.4934025\n",
      "\n",
      "Processing the txt file ../OUTPUT_FOLDER/2696074/Abstract/paragraph_1.txt\n",
      "\n",
      "Processing the txt file ../OUTPUT_FOLDER/509312/Body/Playing Well with Others/paragraph_2.txt\n",
      "\n",
      "It took 682.48 seconds for the folder 2574909\n",
      "Starting process for ../OUTPUT_FOLDER/2820510 at time=1725206414.7680335\n",
      "\n",
      "It took 0.03 seconds for the folder 2820510\n",
      "Starting process for ../OUTPUT_FOLDER/2366074 at time=1725206414.8100564\n",
      "\n",
      "Processing the txt file ../OUTPUT_FOLDER/2366074/Abstract/paragraph_7.txt\n",
      "\n",
      "It took 630.26 seconds for the folder 2562351\n",
      "Starting process for ../OUTPUT_FOLDER/1334418 at time=1725206416.1624415\n",
      "\n",
      "Processing the txt file ../OUTPUT_FOLDER/1334418/Abstract/paragraph_1.txt\n",
      "\n",
      "It took 512.45 seconds for the folder 1692422\n",
      "Starting process for ../OUTPUT_FOLDER/2643972 at time=1725206417.4032598\n",
      "\n",
      "Processing the txt file ../OUTPUT_FOLDER/2643972/Abstract/paragraph_1.txt\n",
      "\n",
      "Processing the txt file ../OUTPUT_FOLDER/2366074/Abstract/paragraph_12.txt\n",
      "\n",
      "Processing the txt file ../OUTPUT_FOLDER/2366074/Abstract/paragraph_13.txt\n",
      "\n",
      "Processing the txt file ../OUTPUT_FOLDER/2366074/Abstract/paragraph_8.txt\n",
      "\n",
      "Processing the txt file ../OUTPUT_FOLDER/2366074/Abstract/paragraph_21.txt\n",
      "\n",
      "It took 494.53 seconds for the folder 1656950\n",
      "Starting process for ../OUTPUT_FOLDER/4154362 at time=1725206424.0471115\n",
      "\n",
      "Processing the txt file ../OUTPUT_FOLDER/4154362/Abstract/paragraph_1.txt\n",
      "\n",
      "Processing the txt file ../OUTPUT_FOLDER/2366074/Abstract/paragraph_2.txt\n"
     ]
    },
    {
     "name": "stderr",
     "output_type": "stream",
     "text": [
      "IOPub message rate exceeded.\n",
      "The Jupyter server will temporarily stop sending output\n",
      "to the client in order to avoid crashing it.\n",
      "To change this limit, set the config variable\n",
      "`--ServerApp.iopub_msg_rate_limit`.\n",
      "\n",
      "Current values:\n",
      "ServerApp.iopub_msg_rate_limit=1000.0 (msgs/sec)\n",
      "ServerApp.rate_limit_window=3.0 (secs)\n",
      "\n"
     ]
    },
    {
     "name": "stdout",
     "output_type": "stream",
     "text": [
      "It took 1000.99 seconds for the folder 2689790\n",
      "Starting process for ../OUTPUT_FOLDER/2693186 at time=1725208013.1646125\n",
      "\n",
      "Processing the txt file ../OUTPUT_FOLDER/2693186/Abstract/paragraph_1.txt\n",
      "\n",
      "Processing the txt file ../OUTPUT_FOLDER/1892101/Body/Results/paragraph_64.txt\n",
      "\n",
      "Processing the txt file ../OUTPUT_FOLDER/1892101/Body/Results/paragraph_23.txt\n",
      "\n",
      "Processing the txt file ../OUTPUT_FOLDER/1892101/Body/Results/paragraph_43.txt\n",
      "\n",
      "Processing the txt file ../OUTPUT_FOLDER/1892101/Body/Results/paragraph_4.txt\n",
      "\n",
      "Processing the txt file ../OUTPUT_FOLDER/2229370/Body/Early suggestions for local control in the anterior pituitary gland/paragraph_3.txt\n",
      "\n"
     ]
    },
    {
     "name": "stderr",
     "output_type": "stream",
     "text": [
      "Applied processor reduces input query to empty string, all comparisons will have score 0. [Query: '']\n",
      "Applied processor reduces input query to empty string, all comparisons will have score 0. [Query: '']\n"
     ]
    },
    {
     "name": "stdout",
     "output_type": "stream",
     "text": [
      "Processing the txt file ../OUTPUT_FOLDER/2879381/Body/General/paragraph_33.txt\n",
      "\n"
     ]
    },
    {
     "name": "stderr",
     "output_type": "stream",
     "text": [
      "Applied processor reduces input query to empty string, all comparisons will have score 0. [Query: '']\n",
      "Applied processor reduces input query to empty string, all comparisons will have score 0. [Query: '(–)']\n"
     ]
    },
    {
     "name": "stdout",
     "output_type": "stream",
     "text": [
      "It took 964.83 seconds for the folder 2874972\n",
      "Starting process for ../OUTPUT_FOLDER/1088505 at time=1725208028.0806797\n",
      "\n",
      "Processing the txt file ../OUTPUT_FOLDER/1088505/Abstract/paragraph_1.txt\n",
      "\n",
      "Processing the txt file ../OUTPUT_FOLDER/1693549/Abstract/paragraph_1.txt\n",
      "\n"
     ]
    },
    {
     "name": "stderr",
     "output_type": "stream",
     "text": [
      "Applied processor reduces input query to empty string, all comparisons will have score 0. [Query: '']\n",
      "Applied processor reduces input query to empty string, all comparisons will have score 0. [Query: '']\n",
      "Applied processor reduces input query to empty string, all comparisons will have score 0. [Query: '']\n"
     ]
    },
    {
     "name": "stdout",
     "output_type": "stream",
     "text": [
      "Processing the txt file ../OUTPUT_FOLDER/2377267/Body/Results/paragraph_9.txt\n",
      "\n"
     ]
    },
    {
     "name": "stderr",
     "output_type": "stream",
     "text": [
      "Applied processor reduces input query to empty string, all comparisons will have score 0. [Query: '']\n"
     ]
    },
    {
     "name": "stdout",
     "output_type": "stream",
     "text": [
      "Processing the txt file ../OUTPUT_FOLDER/2879381/Body/General/paragraph_9.txt\n",
      "\n",
      "Processing the txt file ../OUTPUT_FOLDER/2798959/Body/3 Results/paragraph_6.txt\n",
      "\n"
     ]
    },
    {
     "name": "stderr",
     "output_type": "stream",
     "text": [
      "Applied processor reduces input query to empty string, all comparisons will have score 0. [Query: '']\n",
      "Applied processor reduces input query to empty string, all comparisons will have score 0. [Query: '']\n",
      "Applied processor reduces input query to empty string, all comparisons will have score 0. [Query: '']\n",
      "Applied processor reduces input query to empty string, all comparisons will have score 0. [Query: '']\n",
      "Applied processor reduces input query to empty string, all comparisons will have score 0. [Query: '']\n",
      "Applied processor reduces input query to empty string, all comparisons will have score 0. [Query: '']\n",
      "Applied processor reduces input query to empty string, all comparisons will have score 0. [Query: '']\n",
      "Applied processor reduces input query to empty string, all comparisons will have score 0. [Query: '']\n",
      "Applied processor reduces input query to empty string, all comparisons will have score 0. [Query: '']\n",
      "Applied processor reduces input query to empty string, all comparisons will have score 0. [Query: '']\n",
      "Applied processor reduces input query to empty string, all comparisons will have score 0. [Query: '']\n",
      "Applied processor reduces input query to empty string, all comparisons will have score 0. [Query: '']\n",
      "Applied processor reduces input query to empty string, all comparisons will have score 0. [Query: '']\n",
      "Applied processor reduces input query to empty string, all comparisons will have score 0. [Query: '']\n",
      "Applied processor reduces input query to empty string, all comparisons will have score 0. [Query: '']\n",
      "Applied processor reduces input query to empty string, all comparisons will have score 0. [Query: '']\n"
     ]
    },
    {
     "name": "stdout",
     "output_type": "stream",
     "text": [
      "It took 783.81 seconds for the folder 2658651\n",
      "Starting process for ../OUTPUT_FOLDER/1618511 at time=1725208044.957073\n",
      "\n",
      "Processing the txt file ../OUTPUT_FOLDER/1618511/Abstract/paragraph_1.txt\n",
      "\n"
     ]
    },
    {
     "name": "stderr",
     "output_type": "stream",
     "text": [
      "Applied processor reduces input query to empty string, all comparisons will have score 0. [Query: '']\n"
     ]
    }
   ],
   "source": [
    "if __name__ == \"__main__\":\n",
    "    # Global list to store errors\n",
    "    error_list = multiprocessing.Manager().list()\n",
    "\n",
    "    # STARTING THE PROCESSING\n",
    "    start = time.time()\n",
    "    final_error_list = multi_thread_call(max_workers=100, folder_path_list=folder_path_list)\n",
    "    end = time.time()\n",
    "    duration = round(end - start, 2)\n",
    "    print(f\"Processing completed in {duration} seconds\")\n",
    "    \n",
    "    \n",
    "    # Print the errors\n",
    "    if final_error_list:\n",
    "        print(\"Errors encountered:\")\n",
    "        for path, error in final_error_list:\n",
    "            print(f\"Path: {path}, Error: {error}\")\n",
    "    else:\n",
    "        print(\"No errors encountered.\")\n",
    "        with open(\"NER_papers_processed.txt\",'a') as file:\n",
    "            for ID in ids_to_be_processed:\n",
    "                file.write(ID+\"\\n\")"
   ]
  },
  {
   "cell_type": "code",
   "execution_count": 76,
   "id": "393bfccd-27dd-48e4-babe-d7043f6d8972",
   "metadata": {},
   "outputs": [
    {
     "name": "stdout",
     "output_type": "stream",
     "text": [
      "Error List = []\n"
     ]
    }
   ],
   "source": [
    "print(f\"Error List = {final_error_list}\")"
   ]
  },
  {
   "cell_type": "code",
   "execution_count": 91,
   "id": "6aab5f05-eed7-46de-9db7-c1af75d81ebc",
   "metadata": {},
   "outputs": [],
   "source": []
  },
  {
   "cell_type": "markdown",
   "id": "801cbad9-adeb-44ec-9368-d752c7bbe922",
   "metadata": {},
   "source": [
    "### COPY/CUT PROCESSED FILES"
   ]
  },
  {
   "cell_type": "code",
   "execution_count": 116,
   "id": "97a93b5f-84ea-4817-90a6-f6e2349b53f2",
   "metadata": {},
   "outputs": [
    {
     "data": {
      "text/plain": [
       "['../OUTPUT_FOLDER/8742975/8742975.json',\n",
       " '../OUTPUT_FOLDER/8485740/8485740.json',\n",
       " '../OUTPUT_FOLDER/10790504/10790504.json',\n",
       " '../OUTPUT_FOLDER/10777891/10777891.json',\n",
       " '../OUTPUT_FOLDER/10760685/10760685.json']"
      ]
     },
     "execution_count": 116,
     "metadata": {},
     "output_type": "execute_result"
    }
   ],
   "source": [
    "# with open(\"NER_papers_processed.txt\",'r') as f:\n",
    "#     ids_processed_till_now = [k.strip() for k in f.readlines()]\n",
    "\n",
    "# folder_path_list = [f\"../OUTPUT_FOLDER/{id}/{id}.json\" for id in ids_processed_till_now]\n",
    "# folder_path_list[:5]"
   ]
  },
  {
   "cell_type": "code",
   "execution_count": 118,
   "id": "6fc9d02e-89e4-4dec-b56b-ab7ab1f6fdc5",
   "metadata": {},
   "outputs": [],
   "source": [
    "# from subprocess import call\n",
    "\n",
    "# def cp_dir(source, target):\n",
    "#     call(['cp', '-a', source, target]) # Linux\n",
    "\n",
    "# def mv_dir(source, target):\n",
    "#     call(['mv', source, target])  # Linux\n",
    "\n",
    "# to_directory  = \"./ALL_JSON_files\"\n",
    "\n",
    "# for folder in folder_path_list:\n",
    "#     from_directory = folder\n",
    "#     # copy_tree(source, destination)\n",
    "#     try:\n",
    "#         cp_dir(from_directory, to_directory)\n",
    "#         # mv_dir(from_directory, to_directory)\n",
    "#     except Exception as e:\n",
    "#         print(f\"Error = {e} for folder={folder}\")"
   ]
  },
  {
   "cell_type": "code",
   "execution_count": null,
   "id": "478171c6-6445-4d11-910e-545c22fb478a",
   "metadata": {},
   "outputs": [],
   "source": []
  },
  {
   "cell_type": "markdown",
   "id": "506ee816-58a8-4298-a4a9-6ae5024e78ff",
   "metadata": {
    "jp-MarkdownHeadingCollapsed": true
   },
   "source": [
    "### Experiments using new_vocab and new_dictionary"
   ]
  },
  {
   "cell_type": "markdown",
   "id": "fc565132-683f-4274-81b1-5a989db41cc9",
   "metadata": {},
   "source": [
    "#### Case 1: entities which are NOT in vocab_change_dict.keys()"
   ]
  },
  {
   "cell_type": "code",
   "execution_count": null,
   "id": "2a60a5c6-f981-43ef-90f7-f6ea4c4bd1b0",
   "metadata": {},
   "outputs": [],
   "source": []
  },
  {
   "cell_type": "code",
   "execution_count": 223,
   "id": "b659d626-d47f-4139-ab90-d2798800e595",
   "metadata": {},
   "outputs": [],
   "source": [
    "# SCRATCH CELL FOR EXPERIMENTATION\n",
    "# vocab_change_dict['nerve spine']  # >>['nerve of spine']\n",
    "# vocab_change_dict['regulation cellular defense response']\n",
    "#vocab_change_dict['regulation histone h3-k79 dimethylation'] # >>['down regulation of histone h3-k79 dimethylation', 'up regulation of histone h3-k79 dimethylation']\n",
    "# 'nerve spine' in new_vocab, 'negative regulation (+)-kotanin anabolism' in new_vocab, 'regulation histone h3-k79 dimethylation' in new_vocab\n",
    "\n",
    "# vocab_change_dict = dict()\n",
    "# vocab_change_dict['nerve spine']=['nerve of spine']\n",
    "# vocab_change_dict['regulation translational elongation']=['regulation of translational elongation','down regulation of translational elongation','up regulation of translational elongation']\n",
    "# vocab_change_dict['regulation cellular defense response'] = ['down regulation of cellular defense response','up regulation of cellular defense response','regulation of cellular defense response']\n",
    "# vocab_change_dict['negative regulation (+)-kotanin anabolism']=['negative regulation of (+)-kotanin anabolism']\n",
    "# vocab_change_dict['negative regulation hr']=['negative regulation of hr']\n",
    "# # vocab_change_dict['negative regulation kotanin anabolism']=['negative regulation of kotanin anabolism']\n",
    "\n",
    "# new_vocab = {'negative regulation hr', 'negative regulation (+)-kotanin anabolism', 'nerve spine','regulation translational elongation','regulation cellular defense response', 'tissue','cervical'}\n",
    "# # new_vocab = {'negative regulation kotanin anabolism', 'nerve spine','regulation translational elongation','regulation cellular defense response', 'tissue','cervical'}\n"
   ]
  },
  {
   "cell_type": "code",
   "execution_count": 244,
   "id": "b8001dba-13e5-4330-8d84-a6803c1d15af",
   "metadata": {},
   "outputs": [],
   "source": [
    "neuro_vocab_list = list(new_vocab)\n",
    "\n",
    "dictionary = {\n",
    "    'neuro_entities' : neuro_vocab_list\n",
    "}"
   ]
  },
  {
   "cell_type": "code",
   "execution_count": 247,
   "id": "4edba1cf-f5de-4b43-adbb-222ad3b9ba72",
   "metadata": {
    "scrolled": true
   },
   "outputs": [
    {
     "name": "stdout",
     "output_type": "stream",
     "text": [
      "Skip verb Do\n",
      "Processing completed in 3.45 seconds\n"
     ]
    },
    {
     "data": {
      "text/html": [
       "<div>\n",
       "<style scoped>\n",
       "    .dataframe tbody tr th:only-of-type {\n",
       "        vertical-align: middle;\n",
       "    }\n",
       "\n",
       "    .dataframe tbody tr th {\n",
       "        vertical-align: top;\n",
       "    }\n",
       "\n",
       "    .dataframe thead th {\n",
       "        text-align: right;\n",
       "    }\n",
       "</style>\n",
       "<table border=\"1\" class=\"dataframe\">\n",
       "  <thead>\n",
       "    <tr style=\"text-align: right;\">\n",
       "      <th></th>\n",
       "      <th>entity</th>\n",
       "      <th>similar_with</th>\n",
       "      <th>category</th>\n",
       "      <th>score</th>\n",
       "      <th>index</th>\n",
       "    </tr>\n",
       "  </thead>\n",
       "  <tbody>\n",
       "    <tr>\n",
       "      <th>0</th>\n",
       "      <td>nerves of spine</td>\n",
       "      <td>nerve of spine</td>\n",
       "      <td>neuro_entities</td>\n",
       "      <td>96</td>\n",
       "      <td>{'start': 17, 'end': 31}</td>\n",
       "    </tr>\n",
       "  </tbody>\n",
       "</table>\n",
       "</div>"
      ],
      "text/plain": [
       "            entity    similar_with        category  score  \\\n",
       "0  nerves of spine  nerve of spine  neuro_entities     96   \n",
       "\n",
       "                      index  \n",
       "0  {'start': 17, 'end': 31}  "
      ]
     },
     "execution_count": 247,
     "metadata": {},
     "output_type": "execute_result"
    }
   ],
   "source": [
    "start = time.time()\n",
    "# text = \"In recent years, the field of neuroscience has gone through rapid experimental advances and a significant increase in the use of quantitative and computational methods. This growth has created a need for clearer analyses of the theory and modeling approaches used in the field. This issue is particularly complex in neuroscience because the field studies phenomena that cross a wide range of scales and often require consideration at varying degrees of abstraction, from precise biophysical interactions to the computations they implement. We argue that a pragmatic perspective of science, in which descriptive, mechanistic, and normative models and theories each play a distinct role in defining and bridging levels of abstraction, will facilitate neuroscientific practice. This analysis leads to methodological suggestions, including selecting a level of abstraction that is appropriate for a given problem, identifying transfer functions to connect models and data, and the use of models themselves as a form of experiment.\"\n",
    "# text=\"nerves of spine and down regulation of translational elongations along with up regulation of cellular defense response \n",
    "# text = 'Having the negative regulation of kotanin anabolism'\n",
    "text = \"Do you know that nerves of spine below cervical are complex in nature\"\n",
    "result = get_entity_df(text)\n",
    "end=time.time()\n",
    "duration = round(end-start,2)\n",
    "print(f\"Processing completed in {duration} seconds\")\n",
    "result"
   ]
  },
  {
   "cell_type": "markdown",
   "id": "7b7a6b66-db79-4628-b430-7a34defa90c9",
   "metadata": {},
   "source": [
    "#### Case 2: non-ambiguous entities which are in vocab_change_dict.keys()\n"
   ]
  },
  {
   "cell_type": "code",
   "execution_count": 248,
   "id": "3596c79f-1944-4b5e-b128-9b64408833cc",
   "metadata": {},
   "outputs": [
    {
     "name": "stdout",
     "output_type": "stream",
     "text": [
      "'negative regulation (+)-kotanin anabolism'===>['negative regulation of (+)-kotanin anabolism']\n"
     ]
    }
   ],
   "source": [
    "print(f\"'negative regulation (+)-kotanin anabolism'===>{vocab_change_dict['negative regulation (+)-kotanin anabolism']}\")\n",
    "# Hence: 'negative regulation (+)-kotanin anabolism' is a non-ambiguous entity"
   ]
  },
  {
   "cell_type": "code",
   "execution_count": 250,
   "id": "e16c57b0-4a07-4c8d-8ec6-fd6ded52438b",
   "metadata": {},
   "outputs": [
    {
     "data": {
      "text/html": [
       "<div>\n",
       "<style scoped>\n",
       "    .dataframe tbody tr th:only-of-type {\n",
       "        vertical-align: middle;\n",
       "    }\n",
       "\n",
       "    .dataframe tbody tr th {\n",
       "        vertical-align: top;\n",
       "    }\n",
       "\n",
       "    .dataframe thead th {\n",
       "        text-align: right;\n",
       "    }\n",
       "</style>\n",
       "<table border=\"1\" class=\"dataframe\">\n",
       "  <thead>\n",
       "    <tr style=\"text-align: right;\">\n",
       "      <th></th>\n",
       "      <th>entity</th>\n",
       "      <th>similar_with</th>\n",
       "      <th>category</th>\n",
       "      <th>score</th>\n",
       "      <th>index</th>\n",
       "    </tr>\n",
       "  </thead>\n",
       "  <tbody>\n",
       "    <tr>\n",
       "      <th>0</th>\n",
       "      <td>negative regulation of</td>\n",
       "      <td>negative regulation of hr</td>\n",
       "      <td>neuro_entities</td>\n",
       "      <td>93</td>\n",
       "      <td>{'start': 0, 'end': 21}</td>\n",
       "    </tr>\n",
       "    <tr>\n",
       "      <th>1</th>\n",
       "      <td>kotanin anabolism</td>\n",
       "      <td>(+)-kotanin anabolism</td>\n",
       "      <td>neuro_entities</td>\n",
       "      <td>100</td>\n",
       "      <td>{'start': 27, 'end': 43}</td>\n",
       "    </tr>\n",
       "  </tbody>\n",
       "</table>\n",
       "</div>"
      ],
      "text/plain": [
       "                   entity               similar_with        category  score  \\\n",
       "0  negative regulation of  negative regulation of hr  neuro_entities     93   \n",
       "1       kotanin anabolism      (+)-kotanin anabolism  neuro_entities    100   \n",
       "\n",
       "                      index  \n",
       "0   {'start': 0, 'end': 21}  \n",
       "1  {'start': 27, 'end': 43}  "
      ]
     },
     "execution_count": 250,
     "metadata": {},
     "output_type": "execute_result"
    }
   ],
   "source": [
    "neuro_vocab_list = list(new_vocab)\n",
    "\n",
    "dictionary = {\n",
    "    'neuro_entities' : neuro_vocab_list\n",
    "}\n",
    "text = 'negative regulation of (+)-kotanin anabolism' # this is actual entity whose key is:\n",
    "# 'negative regulation (+)-kotanin anabolism'\n",
    "result = get_entity_df(text)\n",
    "result"
   ]
  },
  {
   "cell_type": "code",
   "execution_count": 214,
   "id": "a4eadb21-6e93-4338-93d4-95eb0b1e724c",
   "metadata": {
    "scrolled": true
   },
   "outputs": [
    {
     "data": {
      "text/plain": [
       "(True, ['negative regulation of hr'])"
      ]
     },
     "execution_count": 214,
     "metadata": {},
     "output_type": "execute_result"
    }
   ],
   "source": [
    "'negative regulation hr' in new_vocab, vocab_change_dict['negative regulation hr']"
   ]
  },
  {
   "cell_type": "code",
   "execution_count": 253,
   "id": "086e2762-bb27-49bf-a9ef-b034f7bfe938",
   "metadata": {},
   "outputs": [
    {
     "data": {
      "text/plain": [
       "(True,)"
      ]
     },
     "execution_count": 253,
     "metadata": {},
     "output_type": "execute_result"
    }
   ],
   "source": [
    "'(+)-kotanin anabolism' in new_vocab # '(+)-kotanin anabolism' is only in set, not in dictionary"
   ]
  },
  {
   "cell_type": "code",
   "execution_count": 258,
   "id": "deb7028c-1f65-4f91-ba34-2d054f069393",
   "metadata": {},
   "outputs": [
    {
     "data": {
      "text/plain": [
       "(True, ['negative regulation of (+)-kotanin anabolism'])"
      ]
     },
     "execution_count": 258,
     "metadata": {},
     "output_type": "execute_result"
    }
   ],
   "source": [
    "'negative regulation (+)-kotanin anabolism' in new_vocab, \\\n",
    "vocab_change_dict['negative regulation (+)-kotanin anabolism']"
   ]
  },
  {
   "cell_type": "markdown",
   "id": "2740378b-ded5-4a32-b6f9-58b848f851e6",
   "metadata": {
    "jp-MarkdownHeadingCollapsed": true
   },
   "source": [
    "#### Case 3: entities in text having stop words and are ambiguous"
   ]
  },
  {
   "cell_type": "code",
   "execution_count": 266,
   "id": "637ccdbf-eeaa-4095-ba27-e6bdf1872bdb",
   "metadata": {},
   "outputs": [
    {
     "data": {
      "text/html": [
       "<div>\n",
       "<style scoped>\n",
       "    .dataframe tbody tr th:only-of-type {\n",
       "        vertical-align: middle;\n",
       "    }\n",
       "\n",
       "    .dataframe tbody tr th {\n",
       "        vertical-align: top;\n",
       "    }\n",
       "\n",
       "    .dataframe thead th {\n",
       "        text-align: right;\n",
       "    }\n",
       "</style>\n",
       "<table border=\"1\" class=\"dataframe\">\n",
       "  <thead>\n",
       "    <tr style=\"text-align: right;\">\n",
       "      <th></th>\n",
       "      <th>entity</th>\n",
       "      <th>similar_with</th>\n",
       "      <th>category</th>\n",
       "      <th>score</th>\n",
       "      <th>index</th>\n",
       "    </tr>\n",
       "  </thead>\n",
       "  <tbody>\n",
       "    <tr>\n",
       "      <th>0</th>\n",
       "      <td>histone h3-k79 dimethylation</td>\n",
       "      <td>histone h3 k79 dimethylation</td>\n",
       "      <td>neuro_entities</td>\n",
       "      <td>100</td>\n",
       "      <td>{'start': 11, 'end': 38}</td>\n",
       "    </tr>\n",
       "  </tbody>\n",
       "</table>\n",
       "</div>"
      ],
      "text/plain": [
       "                         entity                  similar_with        category  \\\n",
       "0  histone h3-k79 dimethylation  histone h3 k79 dimethylation  neuro_entities   \n",
       "\n",
       "   score                     index  \n",
       "0    100  {'start': 11, 'end': 38}  "
      ]
     },
     "execution_count": 266,
     "metadata": {},
     "output_type": "execute_result"
    }
   ],
   "source": [
    "# text = 'Regarding regulation histone h3-k79 dimethylation, I am currently studying two \\\n",
    "# topics: up regulation of histone h3-k79 dimethylation,\\\n",
    "# and down regulation of histone h3-k79 dimethylation.'\n",
    "text = 'regulation histone h3-k79 dimethylation'\n",
    "# NOTE: 'regulation histone h3-k79 dimethylation' is an ambiguous entity mapped to:\n",
    "# up regulation of histone h3-k79 dimethylation, down regulation of histone h3-k79 dimethylation\n",
    "df = get_entity_df(text)\n",
    "df"
   ]
  },
  {
   "cell_type": "code",
   "execution_count": 264,
   "id": "c37e6f7b-2f57-46e0-b2f4-4f74bd81e69f",
   "metadata": {
    "scrolled": true
   },
   "outputs": [
    {
     "data": {
      "text/plain": [
       "(True, None)"
      ]
     },
     "execution_count": 264,
     "metadata": {},
     "output_type": "execute_result"
    }
   ],
   "source": [
    "# 'histone h3 k79 dimethylation' in new_vocab, vocab_change_dict.get('histone h3 k79 dimethylation')\n",
    "# (True, None)"
   ]
  },
  {
   "cell_type": "code",
   "execution_count": 265,
   "id": "f3428b41-6da8-43d8-9619-18a56f501e77",
   "metadata": {},
   "outputs": [
    {
     "data": {
      "text/plain": [
       "(True,\n",
       " ['down regulation of histone h3-k79 dimethylation',\n",
       "  'up regulation of histone h3-k79 dimethylation'])"
      ]
     },
     "execution_count": 265,
     "metadata": {},
     "output_type": "execute_result"
    }
   ],
   "source": [
    "# 'regulation histone h3-k79 dimethylation' in new_vocab, vocab_change_dict.get('regulation histone h3-k79 dimethylation')\n",
    "# (True,\n",
    "#  ['down regulation of histone h3-k79 dimethylation',\n",
    "#   'up regulation of histone h3-k79 dimethylation'])"
   ]
  },
  {
   "cell_type": "code",
   "execution_count": null,
   "id": "059894e1-a86e-4c17-9ef4-eef8dd11b286",
   "metadata": {},
   "outputs": [],
   "source": []
  },
  {
   "cell_type": "code",
   "execution_count": null,
   "id": "c1e27df3-ec9d-4848-822e-429e83a57132",
   "metadata": {},
   "outputs": [],
   "source": []
  }
 ],
 "metadata": {
  "kernelspec": {
   "display_name": "Python 3 (ipykernel)",
   "language": "python",
   "name": "python3"
  },
  "language_info": {
   "codemirror_mode": {
    "name": "ipython",
    "version": 3
   },
   "file_extension": ".py",
   "mimetype": "text/x-python",
   "name": "python",
   "nbconvert_exporter": "python",
   "pygments_lexer": "ipython3",
   "version": "3.11.6"
  }
 },
 "nbformat": 4,
 "nbformat_minor": 5
}
