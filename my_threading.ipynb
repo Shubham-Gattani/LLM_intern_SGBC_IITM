{
 "cells": [
  {
   "cell_type": "code",
   "execution_count": 1,
   "id": "ba6bf75c-3d68-4da0-b3af-3340323ba005",
   "metadata": {},
   "outputs": [],
   "source": [
    "from concurrent.futures import ProcessPoolExecutor\n",
    "from concurrent.futures import as_completed\n",
    "from multiprocessing import freeze_support\n",
    "import time, os, sys"
   ]
  },
  {
   "cell_type": "code",
   "execution_count": 5,
   "id": "1f614b67-a6dd-4e74-8ab7-1d03e6fee806",
   "metadata": {},
   "outputs": [],
   "source": [
    "def get_entity_df_by_thread(text_list, index):\n",
    "    print(f\"Starting thread {index}\\n\")\n",
    "    i = 0\n",
    "    max_val = int(sys.maxsize/(10**11))\n",
    "    for j in range(max_val):\n",
    "        i += 1\n",
    "    print(f\"Completing thread {index}\\n\")"
   ]
  },
  {
   "cell_type": "code",
   "execution_count": 10,
   "id": "70bd9c6b-382c-4efd-a94d-fa5d8359007f",
   "metadata": {},
   "outputs": [],
   "source": [
    "text_list = ['dummy']\n",
    "def multi_thread_call():\n",
    "    # Create a ThreadPoolExecutor with 5 threads\n",
    "    with ProcessPoolExecutor(max_workers=5) as executor:\n",
    "        # Submit tasks to the executor\n",
    "        futures = [executor.submit(get_entity_df_by_thread, text_list, i) for i in range(5)]\n",
    "        # Starts all processes simultaneously\n",
    "    \n",
    "        # Collect results as they complete\n",
    "        for future in as_completed(futures):\n",
    "            future.result()"
   ]
  },
  {
   "cell_type": "code",
   "execution_count": 11,
   "id": "b98880d9-ff71-4fbb-8bd2-13c7d538c1f8",
   "metadata": {},
   "outputs": [
    {
     "name": "stdout",
     "output_type": "stream",
     "text": [
      "Starting thread 1\n",
      "Starting thread 3\n",
      "Starting thread 2\n",
      "Starting thread 0\n",
      "Starting thread 4\n",
      "\n",
      "\n",
      "\n",
      "\n",
      "\n",
      "Completing thread 4\n",
      "\n",
      "Completing thread 2\n",
      "\n",
      "Completing thread 3\n",
      "\n",
      "Completing thread 1\n",
      "\n",
      "Completing thread 0\n",
      "\n",
      "Processing completed in 5.28 seconds\n"
     ]
    }
   ],
   "source": [
    "if __name__ == \"__main__\":\n",
    "    #freeze_support()\n",
    "    start = time.time()\n",
    "\n",
    "    #get_entity_df_by_thread(text_list, 0)\n",
    "    multi_thread_call()\n",
    "\n",
    "    end=time.time()\n",
    "    duration = round(end-start,2)\n",
    "    print(f\"Processing completed in {duration} seconds\")"
   ]
  },
  {
   "cell_type": "code",
   "execution_count": null,
   "id": "403c4674-12cb-46e4-9d8f-3f2610a3eafa",
   "metadata": {},
   "outputs": [],
   "source": []
  }
 ],
 "metadata": {
  "kernelspec": {
   "display_name": "Python 3 (ipykernel)",
   "language": "python",
   "name": "python3"
  },
  "language_info": {
   "codemirror_mode": {
    "name": "ipython",
    "version": 3
   },
   "file_extension": ".py",
   "mimetype": "text/x-python",
   "name": "python",
   "nbconvert_exporter": "python",
   "pygments_lexer": "ipython3",
   "version": "3.11.6"
  }
 },
 "nbformat": 4,
 "nbformat_minor": 5
}
