{
 "cells": [
  {
   "cell_type": "code",
   "execution_count": 1,
   "id": "38fab795-b37f-46e4-aa12-403613548f84",
   "metadata": {},
   "outputs": [
    {
     "name": "stderr",
     "output_type": "stream",
     "text": [
      "17821it [10:59, 27.03it/s]\n"
     ]
    }
   ],
   "source": [
    "import os\n",
    "import re\n",
    "from tqdm import tqdm\n",
    "\n",
    "def replace_pattern(text):\n",
    "    # regex patterns\n",
    "    patterns = [\n",
    "         r\"\\(\\s*[-,:;\\s]*\\)\",\n",
    "         r\"\\[\\s*[-,:;\\s]*\\]\",\n",
    "         r\"\\{\\s*[-,:;\\s]*\\}\",\n",
    "    ]\n",
    "    \n",
    "    # Replace each pattern with a blank\n",
    "    for pattern in patterns:\n",
    "        text = re.sub(pattern, '', text)\n",
    "    \n",
    "    return text\n",
    "\n",
    "\n",
    "\n",
    "def process_txt_files(directory):\n",
    "    for root, dirs, files in tqdm(os.walk(directory)):\n",
    "        #print(f\"ROOT={root}\\nDIRS={dirs}\\nFILES={files}\\n**************\\n\")\n",
    "        for file in files:\n",
    "            if file.endswith('.txt'):\n",
    "                file_path = os.path.join(root, file)\n",
    "                \n",
    "                # Read the contents of the file\n",
    "                with open(file_path, 'r', encoding='utf-8') as f:\n",
    "                    content = f.read()\n",
    "                \n",
    "                # Process the contents\n",
    "                processed_content = replace_pattern(content)\n",
    "                \n",
    "                # Write the processed contents back to the file\n",
    "                with open(file_path, 'w', encoding='utf-8') as f:\n",
    "                    f.write(processed_content)\n",
    "\n",
    "\n",
    "\n",
    "# Define the path to the OUTPUT_FOLDER\n",
    "output_folder_path = 'OUTPUT_FOLDER'\n",
    "\n",
    "# Process all txt files in the OUTPUT_FOLDER\n",
    "process_txt_files(output_folder_path)"
   ]
  },
  {
   "cell_type": "code",
   "execution_count": null,
   "id": "18c020bd-0053-4a1c-818b-ab9d5eba0508",
   "metadata": {},
   "outputs": [],
   "source": []
  }
 ],
 "metadata": {
  "kernelspec": {
   "display_name": "Python 3 (ipykernel)",
   "language": "python",
   "name": "python3"
  },
  "language_info": {
   "codemirror_mode": {
    "name": "ipython",
    "version": 3
   },
   "file_extension": ".py",
   "mimetype": "text/x-python",
   "name": "python",
   "nbconvert_exporter": "python",
   "pygments_lexer": "ipython3",
   "version": "3.11.6"
  }
 },
 "nbformat": 4,
 "nbformat_minor": 5
}
